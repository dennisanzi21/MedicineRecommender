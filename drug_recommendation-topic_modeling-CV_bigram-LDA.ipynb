{
 "cells": [
  {
   "cell_type": "code",
   "execution_count": 1,
   "metadata": {
    "ExecuteTime": {
     "end_time": "2020-02-28T07:47:28.019418Z",
     "start_time": "2020-02-28T07:47:25.762612Z"
    }
   },
   "outputs": [],
   "source": [
    "import pandas as pd\n",
    "import numpy as np\n",
    "\n",
    "import matplotlib.pyplot as plt\n",
    "import seaborn as sns\n",
    "from mlxtend.plotting import plot_decision_regions\n",
    "\n",
    "plt.style.use('ggplot')\n",
    "%config InlineBackend.figure_format = 'svg'\n",
    "%matplotlib inline\n",
    "np.set_printoptions(suppress=True) # Suppress scientific notation where possible"
   ]
  },
  {
   "cell_type": "code",
   "execution_count": 2,
   "metadata": {
    "ExecuteTime": {
     "end_time": "2020-02-28T07:47:28.556370Z",
     "start_time": "2020-02-28T07:47:28.021578Z"
    }
   },
   "outputs": [],
   "source": [
    "from sklearn.feature_extraction.text import CountVectorizer\n",
    "from gensim import corpora, models, similarities, matutils\n",
    "from sklearn.decomposition import TruncatedSVD\n",
    "from sklearn.metrics.pairwise import cosine_similarity"
   ]
  },
  {
   "cell_type": "markdown",
   "metadata": {},
   "source": [
    "### Import cleaned datasets"
   ]
  },
  {
   "cell_type": "code",
   "execution_count": 3,
   "metadata": {
    "ExecuteTime": {
     "end_time": "2020-02-28T07:47:29.047017Z",
     "start_time": "2020-02-28T07:47:28.558662Z"
    }
   },
   "outputs": [],
   "source": [
    "df_train_s = pd.read_csv(r'df_train.csv')"
   ]
  },
  {
   "cell_type": "code",
   "execution_count": 4,
   "metadata": {
    "ExecuteTime": {
     "end_time": "2020-02-28T07:47:29.100921Z",
     "start_time": "2020-02-28T07:47:29.049613Z"
    }
   },
   "outputs": [
    {
     "name": "stdout",
     "output_type": "stream",
     "text": [
      "<class 'pandas.core.frame.DataFrame'>\n",
      "RangeIndex: 148387 entries, 0 to 148386\n",
      "Data columns (total 5 columns):\n",
      " #   Column       Non-Null Count   Dtype  \n",
      "---  ------       --------------   -----  \n",
      " 0   drugName     148387 non-null  object \n",
      " 1   condition    148387 non-null  object \n",
      " 2   rating       148387 non-null  float64\n",
      " 3   usefulCount  148387 non-null  int64  \n",
      " 4   review       148386 non-null  object \n",
      "dtypes: float64(1), int64(1), object(3)\n",
      "memory usage: 5.7+ MB\n"
     ]
    }
   ],
   "source": [
    "df_train_s.info()"
   ]
  },
  {
   "cell_type": "code",
   "execution_count": 5,
   "metadata": {
    "ExecuteTime": {
     "end_time": "2020-02-28T07:47:29.159263Z",
     "start_time": "2020-02-28T07:47:29.103818Z"
    }
   },
   "outputs": [],
   "source": [
    "#drop Nan value\n",
    "df_train_s.dropna(inplace=True)"
   ]
  },
  {
   "cell_type": "code",
   "execution_count": 6,
   "metadata": {
    "ExecuteTime": {
     "end_time": "2020-02-28T07:47:29.166672Z",
     "start_time": "2020-02-28T07:47:29.161550Z"
    }
   },
   "outputs": [],
   "source": [
    "df_train_s.reset_index(inplace=True)"
   ]
  },
  {
   "cell_type": "code",
   "execution_count": 7,
   "metadata": {
    "ExecuteTime": {
     "end_time": "2020-02-28T07:47:33.015994Z",
     "start_time": "2020-02-28T07:47:33.008429Z"
    }
   },
   "outputs": [
    {
     "data": {
      "text/plain": [
       "0                                 ADHD\n",
       "1                        Birth Control\n",
       "2                        Birth Control\n",
       "3         Benign Prostatic Hyperplasia\n",
       "4              Emergency Contraception\n",
       "                      ...             \n",
       "148381                   Birth Control\n",
       "148382                 Nausea/Vomiting\n",
       "148383            Rheumatoid Arthritis\n",
       "148384             Underactive Thyroid\n",
       "148385           Constipation, Chronic\n",
       "Name: condition, Length: 148386, dtype: object"
      ]
     },
     "execution_count": 7,
     "metadata": {},
     "output_type": "execute_result"
    }
   ],
   "source": [
    "df_train_s['condition']\n"
   ]
  },
  {
   "cell_type": "code",
   "execution_count": 8,
   "metadata": {
    "ExecuteTime": {
     "end_time": "2020-02-28T07:47:33.484383Z",
     "start_time": "2020-02-28T07:47:33.479704Z"
    }
   },
   "outputs": [],
   "source": [
    "condition_list=df_train_s['condition'].tolist()"
   ]
  },
  {
   "cell_type": "code",
   "execution_count": 9,
   "metadata": {
    "ExecuteTime": {
     "end_time": "2020-02-28T07:47:34.426886Z",
     "start_time": "2020-02-28T07:47:34.423802Z"
    }
   },
   "outputs": [],
   "source": [
    "corpus_train=df_train_s.review\n",
    "# corpus_test=df_test_s.review"
   ]
  },
  {
   "cell_type": "code",
   "execution_count": 10,
   "metadata": {
    "ExecuteTime": {
     "end_time": "2020-02-28T07:47:35.816603Z",
     "start_time": "2020-02-28T07:47:34.996440Z"
    }
   },
   "outputs": [],
   "source": [
    "#custom stopwords\n",
    "from nltk.corpus import stopwords\n",
    "\n",
    "stop = set(stopwords.words('english'))\n",
    "n = [\"aren't\",\"couldn't\",\"didn't\",\"doesn't\",\"don't\",\"hadn't\",\"hasn't\",\"haven't\",\"isn't\",\n",
    "     \"mightn't\",\"mustn't\",\"needn't\",\"no\",\"nor\",\"not\",\"shan't\",\"shouldn't\",\"wasn't\",\"weren't\",\"wouldn't\"]\n",
    "for i in n:\n",
    "    stop.remove(i)\n",
    "\n",
    "a = ['mg', 'week', 'month', 'day', 'january', 'february', 'march', 'april', 'may', 'june', 'july', \n",
    "     'august', 'september','october','november','december', 'iv','oral','pound',]\n",
    "for j in a:\n",
    "    stop.add(j)"
   ]
  },
  {
   "cell_type": "markdown",
   "metadata": {},
   "source": [
    "### CountVectorizer"
   ]
  },
  {
   "cell_type": "code",
   "execution_count": 11,
   "metadata": {
    "ExecuteTime": {
     "end_time": "2020-02-28T07:47:49.143780Z",
     "start_time": "2020-02-28T07:47:36.206929Z"
    }
   },
   "outputs": [
    {
     "data": {
      "text/plain": [
       "CountVectorizer(max_df=0.8, min_df=0.01, ngram_range=(1, 2))"
      ]
     },
     "execution_count": 11,
     "metadata": {},
     "output_type": "execute_result"
    }
   ],
   "source": [
    "# Create a CountVectorizer for parsing/counting words\n",
    "cv = CountVectorizer(ngram_range=(1, 2), min_df=0.01, max_df=0.8)\n",
    "# cv = CountVectorizer(ngram_range=(2, 2), min_df=10, max_df=0.8)\n",
    "\n",
    "cv.fit(corpus_train)"
   ]
  },
  {
   "cell_type": "code",
   "execution_count": 12,
   "metadata": {
    "ExecuteTime": {
     "end_time": "2020-02-28T07:48:09.744295Z",
     "start_time": "2020-02-28T07:48:02.744254Z"
    }
   },
   "outputs": [],
   "source": [
    "doc_word = cv.transform(corpus_train).transpose()"
   ]
  },
  {
   "cell_type": "code",
   "execution_count": 13,
   "metadata": {
    "ExecuteTime": {
     "end_time": "2020-02-28T07:48:16.240356Z",
     "start_time": "2020-02-28T07:48:09.746913Z"
    }
   },
   "outputs": [
    {
     "data": {
      "text/html": [
       "<div>\n",
       "<style scoped>\n",
       "    .dataframe tbody tr th:only-of-type {\n",
       "        vertical-align: middle;\n",
       "    }\n",
       "\n",
       "    .dataframe tbody tr th {\n",
       "        vertical-align: top;\n",
       "    }\n",
       "\n",
       "    .dataframe thead th {\n",
       "        text-align: right;\n",
       "    }\n",
       "</style>\n",
       "<table border=\"1\" class=\"dataframe\">\n",
       "  <thead>\n",
       "    <tr style=\"text-align: right;\">\n",
       "      <th></th>\n",
       "      <th>0</th>\n",
       "      <th>1</th>\n",
       "      <th>2</th>\n",
       "      <th>3</th>\n",
       "      <th>4</th>\n",
       "      <th>5</th>\n",
       "      <th>6</th>\n",
       "      <th>7</th>\n",
       "      <th>8</th>\n",
       "      <th>9</th>\n",
       "      <th>...</th>\n",
       "      <th>148376</th>\n",
       "      <th>148377</th>\n",
       "      <th>148378</th>\n",
       "      <th>148379</th>\n",
       "      <th>148380</th>\n",
       "      <th>148381</th>\n",
       "      <th>148382</th>\n",
       "      <th>148383</th>\n",
       "      <th>148384</th>\n",
       "      <th>148385</th>\n",
       "    </tr>\n",
       "  </thead>\n",
       "  <tbody>\n",
       "    <tr>\n",
       "      <th>able</th>\n",
       "      <td>0</td>\n",
       "      <td>0</td>\n",
       "      <td>0</td>\n",
       "      <td>0</td>\n",
       "      <td>0</td>\n",
       "      <td>0</td>\n",
       "      <td>0</td>\n",
       "      <td>0</td>\n",
       "      <td>0</td>\n",
       "      <td>0</td>\n",
       "      <td>...</td>\n",
       "      <td>0</td>\n",
       "      <td>0</td>\n",
       "      <td>0</td>\n",
       "      <td>0</td>\n",
       "      <td>0</td>\n",
       "      <td>0</td>\n",
       "      <td>0</td>\n",
       "      <td>0</td>\n",
       "      <td>0</td>\n",
       "      <td>0</td>\n",
       "    </tr>\n",
       "    <tr>\n",
       "      <th>absolutely</th>\n",
       "      <td>0</td>\n",
       "      <td>0</td>\n",
       "      <td>0</td>\n",
       "      <td>0</td>\n",
       "      <td>0</td>\n",
       "      <td>0</td>\n",
       "      <td>0</td>\n",
       "      <td>0</td>\n",
       "      <td>0</td>\n",
       "      <td>0</td>\n",
       "      <td>...</td>\n",
       "      <td>0</td>\n",
       "      <td>0</td>\n",
       "      <td>0</td>\n",
       "      <td>0</td>\n",
       "      <td>0</td>\n",
       "      <td>0</td>\n",
       "      <td>0</td>\n",
       "      <td>0</td>\n",
       "      <td>0</td>\n",
       "      <td>0</td>\n",
       "    </tr>\n",
       "    <tr>\n",
       "      <th>ache</th>\n",
       "      <td>0</td>\n",
       "      <td>0</td>\n",
       "      <td>0</td>\n",
       "      <td>1</td>\n",
       "      <td>0</td>\n",
       "      <td>0</td>\n",
       "      <td>0</td>\n",
       "      <td>0</td>\n",
       "      <td>0</td>\n",
       "      <td>0</td>\n",
       "      <td>...</td>\n",
       "      <td>0</td>\n",
       "      <td>0</td>\n",
       "      <td>0</td>\n",
       "      <td>0</td>\n",
       "      <td>0</td>\n",
       "      <td>0</td>\n",
       "      <td>0</td>\n",
       "      <td>0</td>\n",
       "      <td>0</td>\n",
       "      <td>0</td>\n",
       "    </tr>\n",
       "    <tr>\n",
       "      <th>acne</th>\n",
       "      <td>0</td>\n",
       "      <td>0</td>\n",
       "      <td>0</td>\n",
       "      <td>0</td>\n",
       "      <td>0</td>\n",
       "      <td>0</td>\n",
       "      <td>0</td>\n",
       "      <td>2</td>\n",
       "      <td>0</td>\n",
       "      <td>0</td>\n",
       "      <td>...</td>\n",
       "      <td>0</td>\n",
       "      <td>0</td>\n",
       "      <td>0</td>\n",
       "      <td>0</td>\n",
       "      <td>0</td>\n",
       "      <td>0</td>\n",
       "      <td>0</td>\n",
       "      <td>0</td>\n",
       "      <td>0</td>\n",
       "      <td>0</td>\n",
       "    </tr>\n",
       "    <tr>\n",
       "      <th>active</th>\n",
       "      <td>0</td>\n",
       "      <td>0</td>\n",
       "      <td>0</td>\n",
       "      <td>0</td>\n",
       "      <td>0</td>\n",
       "      <td>0</td>\n",
       "      <td>0</td>\n",
       "      <td>0</td>\n",
       "      <td>0</td>\n",
       "      <td>0</td>\n",
       "      <td>...</td>\n",
       "      <td>0</td>\n",
       "      <td>0</td>\n",
       "      <td>0</td>\n",
       "      <td>0</td>\n",
       "      <td>0</td>\n",
       "      <td>0</td>\n",
       "      <td>0</td>\n",
       "      <td>0</td>\n",
       "      <td>0</td>\n",
       "      <td>0</td>\n",
       "    </tr>\n",
       "  </tbody>\n",
       "</table>\n",
       "<p>5 rows × 148386 columns</p>\n",
       "</div>"
      ],
      "text/plain": [
       "            0       1       2       3       4       5       6       7       \\\n",
       "able             0       0       0       0       0       0       0       0   \n",
       "absolutely       0       0       0       0       0       0       0       0   \n",
       "ache             0       0       0       1       0       0       0       0   \n",
       "acne             0       0       0       0       0       0       0       2   \n",
       "active           0       0       0       0       0       0       0       0   \n",
       "\n",
       "            8       9       ...  148376  148377  148378  148379  148380  \\\n",
       "able             0       0  ...       0       0       0       0       0   \n",
       "absolutely       0       0  ...       0       0       0       0       0   \n",
       "ache             0       0  ...       0       0       0       0       0   \n",
       "acne             0       0  ...       0       0       0       0       0   \n",
       "active           0       0  ...       0       0       0       0       0   \n",
       "\n",
       "            148381  148382  148383  148384  148385  \n",
       "able             0       0       0       0       0  \n",
       "absolutely       0       0       0       0       0  \n",
       "ache             0       0       0       0       0  \n",
       "acne             0       0       0       0       0  \n",
       "active           0       0       0       0       0  \n",
       "\n",
       "[5 rows x 148386 columns]"
      ]
     },
     "execution_count": 13,
     "metadata": {},
     "output_type": "execute_result"
    }
   ],
   "source": [
    "pd.DataFrame(doc_word.toarray(), cv.get_feature_names()).head()"
   ]
  },
  {
   "cell_type": "code",
   "execution_count": 14,
   "metadata": {
    "ExecuteTime": {
     "end_time": "2020-02-28T07:48:16.245247Z",
     "start_time": "2020-02-28T07:48:16.242752Z"
    }
   },
   "outputs": [],
   "source": [
    "corpus = matutils.Sparse2Corpus(doc_word)"
   ]
  },
  {
   "cell_type": "code",
   "execution_count": 15,
   "metadata": {
    "ExecuteTime": {
     "end_time": "2020-02-28T07:48:17.507913Z",
     "start_time": "2020-02-28T07:48:17.479216Z"
    }
   },
   "outputs": [],
   "source": [
    "id2word = dict((v, k) for k, v in cv.vocabulary_.items())"
   ]
  },
  {
   "cell_type": "code",
   "execution_count": 16,
   "metadata": {
    "ExecuteTime": {
     "end_time": "2020-02-28T07:48:18.131450Z",
     "start_time": "2020-02-28T07:48:18.126570Z"
    }
   },
   "outputs": [
    {
     "data": {
      "text/plain": [
       "703"
      ]
     },
     "execution_count": 16,
     "metadata": {},
     "output_type": "execute_result"
    }
   ],
   "source": [
    "len(id2word)"
   ]
  },
  {
   "cell_type": "markdown",
   "metadata": {},
   "source": [
    "### LDA"
   ]
  },
  {
   "cell_type": "code",
   "execution_count": 17,
   "metadata": {
    "ExecuteTime": {
     "end_time": "2020-02-28T07:48:29.021169Z",
     "start_time": "2020-02-28T07:48:18.817825Z"
    },
    "scrolled": true
   },
   "outputs": [],
   "source": [
    "lda = models.LdaModel(corpus=corpus, num_topics=2, id2word=id2word, passes=10)"
   ]
  },
  {
   "cell_type": "code",
   "execution_count": 18,
   "metadata": {
    "ExecuteTime": {
     "end_time": "2020-02-28T07:48:29.024401Z",
     "start_time": "2020-02-28T07:48:19.438Z"
    }
   },
   "outputs": [
    {
     "data": {
      "text/plain": [
       "[(0,\n",
       "  '0.024*\"period\" + 0.023*\"pill\" + 0.017*\"not\" + 0.017*\"month\" + 0.016*\"weight\" + 0.015*\"no\" + 0.012*\"first\" + 0.012*\"control\" + 0.012*\"year\" + 0.010*\"get\"'),\n",
       " (1,\n",
       "  '0.017*\"not\" + 0.015*\"effect\" + 0.014*\"year\" + 0.014*\"pain\" + 0.014*\"side\" + 0.013*\"take\" + 0.013*\"side effect\" + 0.013*\"taking\" + 0.011*\"time\" + 0.011*\"work\"')]"
      ]
     },
     "execution_count": 18,
     "metadata": {},
     "output_type": "execute_result"
    }
   ],
   "source": [
    "lda.print_topics()"
   ]
  },
  {
   "cell_type": "code",
   "execution_count": 19,
   "metadata": {
    "ExecuteTime": {
     "end_time": "2020-02-28T07:48:29.026136Z",
     "start_time": "2020-02-28T07:48:20.862Z"
    }
   },
   "outputs": [
    {
     "data": {
      "text/plain": [
       "<gensim.interfaces.TransformedCorpus at 0x1850267c8b0>"
      ]
     },
     "execution_count": 19,
     "metadata": {},
     "output_type": "execute_result"
    }
   ],
   "source": [
    "lda_corpus = lda[corpus]\n",
    "lda_corpus"
   ]
  },
  {
   "cell_type": "code",
   "execution_count": 20,
   "metadata": {
    "ExecuteTime": {
     "end_time": "2020-02-28T05:25:29.134075Z",
     "start_time": "2020-02-28T05:24:53.909104Z"
    }
   },
   "outputs": [],
   "source": [
    "lda_docs = [doc for doc in lda_corpus]"
   ]
  },
  {
   "cell_type": "code",
   "execution_count": 21,
   "metadata": {
    "ExecuteTime": {
     "end_time": "2020-02-28T05:25:41.623550Z",
     "start_time": "2020-02-28T05:25:41.618137Z"
    }
   },
   "outputs": [
    {
     "data": {
      "text/plain": [
       "[[(0, 0.16617008), (1, 0.8338299)],\n",
       " [(0, 0.9662343), (1, 0.033765633)],\n",
       " [(0, 0.98351204), (1, 0.016488)],\n",
       " [(0, 0.022823317), (1, 0.9771767)],\n",
       " [(0, 0.7819427), (1, 0.21805725)]]"
      ]
     },
     "execution_count": 21,
     "metadata": {},
     "output_type": "execute_result"
    }
   ],
   "source": [
    "lda_docs[0:5]"
   ]
  },
  {
   "cell_type": "code",
   "execution_count": 22,
   "metadata": {
    "ExecuteTime": {
     "end_time": "2020-02-28T05:25:43.769121Z",
     "start_time": "2020-02-28T05:25:43.764310Z"
    }
   },
   "outputs": [
    {
     "data": {
      "text/plain": [
       "148386"
      ]
     },
     "execution_count": 22,
     "metadata": {},
     "output_type": "execute_result"
    }
   ],
   "source": [
    "len(lda_docs)"
   ]
  },
  {
   "cell_type": "code",
   "execution_count": 23,
   "metadata": {
    "ExecuteTime": {
     "end_time": "2020-02-28T05:25:47.049609Z",
     "start_time": "2020-02-28T05:25:45.127634Z"
    },
    "scrolled": false
   },
   "outputs": [
    {
     "data": {
      "image/svg+xml": [
       "<?xml version=\"1.0\" encoding=\"utf-8\" standalone=\"no\"?>\r\n",
       "<!DOCTYPE svg PUBLIC \"-//W3C//DTD SVG 1.1//EN\"\r\n",
       "  \"http://www.w3.org/Graphics/SVG/1.1/DTD/svg11.dtd\">\r\n",
       "<!-- Created with matplotlib (https://matplotlib.org/) -->\r\n",
       "<svg height=\"280.0935pt\" version=\"1.1\" viewBox=\"0 0 712.8 280.0935\" width=\"712.8pt\" xmlns=\"http://www.w3.org/2000/svg\" xmlns:xlink=\"http://www.w3.org/1999/xlink\">\r\n",
       " <metadata>\r\n",
       "  <rdf:RDF xmlns:cc=\"http://creativecommons.org/ns#\" xmlns:dc=\"http://purl.org/dc/elements/1.1/\" xmlns:rdf=\"http://www.w3.org/1999/02/22-rdf-syntax-ns#\">\r\n",
       "   <cc:Work>\r\n",
       "    <dc:type rdf:resource=\"http://purl.org/dc/dcmitype/StillImage\"/>\r\n",
       "    <dc:date>2021-09-06T19:01:45.241029</dc:date>\r\n",
       "    <dc:format>image/svg+xml</dc:format>\r\n",
       "    <dc:creator>\r\n",
       "     <cc:Agent>\r\n",
       "      <dc:title>Matplotlib v3.3.4, https://matplotlib.org/</dc:title>\r\n",
       "     </cc:Agent>\r\n",
       "    </dc:creator>\r\n",
       "   </cc:Work>\r\n",
       "  </rdf:RDF>\r\n",
       " </metadata>\r\n",
       " <defs>\r\n",
       "  <style type=\"text/css\">*{stroke-linecap:butt;stroke-linejoin:round;}</style>\r\n",
       " </defs>\r\n",
       " <g id=\"figure_1\">\r\n",
       "  <g id=\"patch_1\">\r\n",
       "   <path d=\"M 0 280.0935 \r\n",
       "L 712.8 280.0935 \r\n",
       "L 712.8 0 \r\n",
       "L 0 0 \r\n",
       "z\r\n",
       "\" style=\"fill:none;\"/>\r\n",
       "  </g>\r\n",
       "  <g id=\"axes_1\">\r\n",
       "   <g clip-path=\"url(#p9175c6b6e5)\">\r\n",
       "    <image height=\"248\" id=\"image5819d0cd27\" transform=\"scale(1 -1)translate(0 -248)\" width=\"344\" x=\"7.2\" xlink:href=\"data:image/png;base64,\r\n",
       "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\" y=\"-24.8935\"/>\r\n",
       "   </g>\r\n",
       "   <g id=\"text_1\">\r\n",
       "    <!-- Topic 0 -->\r\n",
       "    <g transform=\"translate(151.34625 19.3575)scale(0.16 -0.16)\">\r\n",
       "     <defs>\r\n",
       "      <path d=\"M -0.296875 72.90625 \r\n",
       "L 61.375 72.90625 \r\n",
       "L 61.375 64.59375 \r\n",
       "L 35.5 64.59375 \r\n",
       "L 35.5 0 \r\n",
       "L 25.59375 0 \r\n",
       "L 25.59375 64.59375 \r\n",
       "L -0.296875 64.59375 \r\n",
       "z\r\n",
       "\" id=\"DejaVuSans-84\"/>\r\n",
       "      <path d=\"M 30.609375 48.390625 \r\n",
       "Q 23.390625 48.390625 19.1875 42.75 \r\n",
       "Q 14.984375 37.109375 14.984375 27.296875 \r\n",
       "Q 14.984375 17.484375 19.15625 11.84375 \r\n",
       "Q 23.34375 6.203125 30.609375 6.203125 \r\n",
       "Q 37.796875 6.203125 41.984375 11.859375 \r\n",
       "Q 46.1875 17.53125 46.1875 27.296875 \r\n",
       "Q 46.1875 37.015625 41.984375 42.703125 \r\n",
       "Q 37.796875 48.390625 30.609375 48.390625 \r\n",
       "z\r\n",
       "M 30.609375 56 \r\n",
       "Q 42.328125 56 49.015625 48.375 \r\n",
       "Q 55.71875 40.765625 55.71875 27.296875 \r\n",
       "Q 55.71875 13.875 49.015625 6.21875 \r\n",
       "Q 42.328125 -1.421875 30.609375 -1.421875 \r\n",
       "Q 18.84375 -1.421875 12.171875 6.21875 \r\n",
       "Q 5.515625 13.875 5.515625 27.296875 \r\n",
       "Q 5.515625 40.765625 12.171875 48.375 \r\n",
       "Q 18.84375 56 30.609375 56 \r\n",
       "z\r\n",
       "\" id=\"DejaVuSans-111\"/>\r\n",
       "      <path d=\"M 18.109375 8.203125 \r\n",
       "L 18.109375 -20.796875 \r\n",
       "L 9.078125 -20.796875 \r\n",
       "L 9.078125 54.6875 \r\n",
       "L 18.109375 54.6875 \r\n",
       "L 18.109375 46.390625 \r\n",
       "Q 20.953125 51.265625 25.265625 53.625 \r\n",
       "Q 29.59375 56 35.59375 56 \r\n",
       "Q 45.5625 56 51.78125 48.09375 \r\n",
       "Q 58.015625 40.1875 58.015625 27.296875 \r\n",
       "Q 58.015625 14.40625 51.78125 6.484375 \r\n",
       "Q 45.5625 -1.421875 35.59375 -1.421875 \r\n",
       "Q 29.59375 -1.421875 25.265625 0.953125 \r\n",
       "Q 20.953125 3.328125 18.109375 8.203125 \r\n",
       "z\r\n",
       "M 48.6875 27.296875 \r\n",
       "Q 48.6875 37.203125 44.609375 42.84375 \r\n",
       "Q 40.53125 48.484375 33.40625 48.484375 \r\n",
       "Q 26.265625 48.484375 22.1875 42.84375 \r\n",
       "Q 18.109375 37.203125 18.109375 27.296875 \r\n",
       "Q 18.109375 17.390625 22.1875 11.75 \r\n",
       "Q 26.265625 6.109375 33.40625 6.109375 \r\n",
       "Q 40.53125 6.109375 44.609375 11.75 \r\n",
       "Q 48.6875 17.390625 48.6875 27.296875 \r\n",
       "z\r\n",
       "\" id=\"DejaVuSans-112\"/>\r\n",
       "      <path d=\"M 9.421875 54.6875 \r\n",
       "L 18.40625 54.6875 \r\n",
       "L 18.40625 0 \r\n",
       "L 9.421875 0 \r\n",
       "z\r\n",
       "M 9.421875 75.984375 \r\n",
       "L 18.40625 75.984375 \r\n",
       "L 18.40625 64.59375 \r\n",
       "L 9.421875 64.59375 \r\n",
       "z\r\n",
       "\" id=\"DejaVuSans-105\"/>\r\n",
       "      <path d=\"M 48.78125 52.59375 \r\n",
       "L 48.78125 44.1875 \r\n",
       "Q 44.96875 46.296875 41.140625 47.34375 \r\n",
       "Q 37.3125 48.390625 33.40625 48.390625 \r\n",
       "Q 24.65625 48.390625 19.8125 42.84375 \r\n",
       "Q 14.984375 37.3125 14.984375 27.296875 \r\n",
       "Q 14.984375 17.28125 19.8125 11.734375 \r\n",
       "Q 24.65625 6.203125 33.40625 6.203125 \r\n",
       "Q 37.3125 6.203125 41.140625 7.25 \r\n",
       "Q 44.96875 8.296875 48.78125 10.40625 \r\n",
       "L 48.78125 2.09375 \r\n",
       "Q 45.015625 0.34375 40.984375 -0.53125 \r\n",
       "Q 36.96875 -1.421875 32.421875 -1.421875 \r\n",
       "Q 20.0625 -1.421875 12.78125 6.34375 \r\n",
       "Q 5.515625 14.109375 5.515625 27.296875 \r\n",
       "Q 5.515625 40.671875 12.859375 48.328125 \r\n",
       "Q 20.21875 56 33.015625 56 \r\n",
       "Q 37.15625 56 41.109375 55.140625 \r\n",
       "Q 45.0625 54.296875 48.78125 52.59375 \r\n",
       "z\r\n",
       "\" id=\"DejaVuSans-99\"/>\r\n",
       "      <path id=\"DejaVuSans-32\"/>\r\n",
       "      <path d=\"M 31.78125 66.40625 \r\n",
       "Q 24.171875 66.40625 20.328125 58.90625 \r\n",
       "Q 16.5 51.421875 16.5 36.375 \r\n",
       "Q 16.5 21.390625 20.328125 13.890625 \r\n",
       "Q 24.171875 6.390625 31.78125 6.390625 \r\n",
       "Q 39.453125 6.390625 43.28125 13.890625 \r\n",
       "Q 47.125 21.390625 47.125 36.375 \r\n",
       "Q 47.125 51.421875 43.28125 58.90625 \r\n",
       "Q 39.453125 66.40625 31.78125 66.40625 \r\n",
       "z\r\n",
       "M 31.78125 74.21875 \r\n",
       "Q 44.046875 74.21875 50.515625 64.515625 \r\n",
       "Q 56.984375 54.828125 56.984375 36.375 \r\n",
       "Q 56.984375 17.96875 50.515625 8.265625 \r\n",
       "Q 44.046875 -1.421875 31.78125 -1.421875 \r\n",
       "Q 19.53125 -1.421875 13.0625 8.265625 \r\n",
       "Q 6.59375 17.96875 6.59375 36.375 \r\n",
       "Q 6.59375 54.828125 13.0625 64.515625 \r\n",
       "Q 19.53125 74.21875 31.78125 74.21875 \r\n",
       "z\r\n",
       "\" id=\"DejaVuSans-48\"/>\r\n",
       "     </defs>\r\n",
       "     <use xlink:href=\"#DejaVuSans-84\"/>\r\n",
       "     <use x=\"44.083984\" xlink:href=\"#DejaVuSans-111\"/>\r\n",
       "     <use x=\"105.265625\" xlink:href=\"#DejaVuSans-112\"/>\r\n",
       "     <use x=\"168.742188\" xlink:href=\"#DejaVuSans-105\"/>\r\n",
       "     <use x=\"196.525391\" xlink:href=\"#DejaVuSans-99\"/>\r\n",
       "     <use x=\"251.505859\" xlink:href=\"#DejaVuSans-32\"/>\r\n",
       "     <use x=\"283.292969\" xlink:href=\"#DejaVuSans-48\"/>\r\n",
       "    </g>\r\n",
       "   </g>\r\n",
       "  </g>\r\n",
       "  <g id=\"axes_2\">\r\n",
       "   <g clip-path=\"url(#p0588c9eb1c)\">\r\n",
       "    <image height=\"248\" id=\"image69398ee19a\" transform=\"scale(1 -1)translate(0 -248)\" width=\"344\" x=\"361.8\" xlink:href=\"data:image/png;base64,\r\n",
       "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\" y=\"-24.8935\"/>\r\n",
       "   </g>\r\n",
       "   <g id=\"text_2\">\r\n",
       "    <!-- Topic 1 -->\r\n",
       "    <g transform=\"translate(505.94625 19.3575)scale(0.16 -0.16)\">\r\n",
       "     <defs>\r\n",
       "      <path d=\"M 12.40625 8.296875 \r\n",
       "L 28.515625 8.296875 \r\n",
       "L 28.515625 63.921875 \r\n",
       "L 10.984375 60.40625 \r\n",
       "L 10.984375 69.390625 \r\n",
       "L 28.421875 72.90625 \r\n",
       "L 38.28125 72.90625 \r\n",
       "L 38.28125 8.296875 \r\n",
       "L 54.390625 8.296875 \r\n",
       "L 54.390625 0 \r\n",
       "L 12.40625 0 \r\n",
       "z\r\n",
       "\" id=\"DejaVuSans-49\"/>\r\n",
       "     </defs>\r\n",
       "     <use xlink:href=\"#DejaVuSans-84\"/>\r\n",
       "     <use x=\"44.083984\" xlink:href=\"#DejaVuSans-111\"/>\r\n",
       "     <use x=\"105.265625\" xlink:href=\"#DejaVuSans-112\"/>\r\n",
       "     <use x=\"168.742188\" xlink:href=\"#DejaVuSans-105\"/>\r\n",
       "     <use x=\"196.525391\" xlink:href=\"#DejaVuSans-99\"/>\r\n",
       "     <use x=\"251.505859\" xlink:href=\"#DejaVuSans-32\"/>\r\n",
       "     <use x=\"283.292969\" xlink:href=\"#DejaVuSans-49\"/>\r\n",
       "    </g>\r\n",
       "   </g>\r\n",
       "  </g>\r\n",
       " </g>\r\n",
       " <defs>\r\n",
       "  <clipPath id=\"p9175c6b6e5\">\r\n",
       "   <rect height=\"247.536\" width=\"343.8\" x=\"7.2\" y=\"25.3575\"/>\r\n",
       "  </clipPath>\r\n",
       "  <clipPath id=\"p0588c9eb1c\">\r\n",
       "   <rect height=\"247.536\" width=\"343.8\" x=\"361.8\" y=\"25.3575\"/>\r\n",
       "  </clipPath>\r\n",
       " </defs>\r\n",
       "</svg>\r\n"
      ],
      "text/plain": [
       "<Figure size 720x1440 with 2 Axes>"
      ]
     },
     "metadata": {
      "needs_background": "light"
     },
     "output_type": "display_data"
    },
    {
     "data": {
      "text/plain": [
       "<Figure size 432x288 with 0 Axes>"
      ]
     },
     "metadata": {},
     "output_type": "display_data"
    }
   ],
   "source": [
    "from wordcloud import WordCloud\n",
    "import matplotlib.colors as mcolors\n",
    "\n",
    "cols = [color for name, color in mcolors.TABLEAU_COLORS.items()]  # more colors: 'mcolors.XKCD_COLORS'\n",
    "\n",
    "cloud = WordCloud(stopwords=stop,\n",
    "                  background_color='white',\n",
    "                  width=2500,\n",
    "                  height=1800,\n",
    "                  max_words=10,\n",
    "                  colormap='tab10',\n",
    "                  color_func=lambda *args, **kwargs: cols[i],\n",
    "                  prefer_horizontal=1.0)\n",
    "\n",
    "topics = lda.show_topics(formatted=False)\n",
    "\n",
    "fig, axes = plt.subplots(1, 2, figsize=(10,20), sharex=True, sharey=True)\n",
    "\n",
    "for i, ax in enumerate(axes.flatten()):\n",
    "    fig.add_subplot(ax)\n",
    "    topic_words = dict(topics[i][1])\n",
    "    cloud.generate_from_frequencies(topic_words, max_font_size=300)\n",
    "    plt.gca().imshow(cloud)\n",
    "    plt.gca().set_title('Topic ' + str(i), fontdict=dict(size=16))\n",
    "    plt.gca().axis('off')\n",
    "\n",
    "plt.subplots_adjust(wspace=0, hspace=0)\n",
    "plt.axis('off')\n",
    "plt.margins(x=0, y=0)\n",
    "plt.tight_layout()\n",
    "plt.show()\n",
    "\n",
    "plt.savefig(r'fig/wc_bigram_lda-2.svg')"
   ]
  },
  {
   "cell_type": "code",
   "execution_count": 29,
   "metadata": {
    "ExecuteTime": {
     "end_time": "2020-02-28T07:54:56.880398Z",
     "start_time": "2020-02-28T07:48:42.431214Z"
    }
   },
   "outputs": [],
   "source": [
    "lda1 = models.LdaModel(corpus=corpus, num_topics=4, id2word=id2word, passes=10)"
   ]
  },
  {
   "cell_type": "code",
   "execution_count": 30,
   "metadata": {
    "ExecuteTime": {
     "end_time": "2020-02-28T07:54:56.890117Z",
     "start_time": "2020-02-28T07:54:56.882352Z"
    }
   },
   "outputs": [
    {
     "data": {
      "text/plain": [
       "[(0,\n",
       "  '0.035*\"period\" + 0.024*\"pill\" + 0.018*\"month\" + 0.018*\"not\" + 0.017*\"control\" + 0.016*\"no\" + 0.014*\"acne\" + 0.014*\"birth\" + 0.013*\"birth control\" + 0.013*\"first\"'),\n",
       " (1,\n",
       "  '0.042*\"effect\" + 0.041*\"side\" + 0.037*\"side effect\" + 0.019*\"year\" + 0.019*\"anxiety\" + 0.015*\"no\" + 0.014*\"life\" + 0.014*\"feel\" + 0.014*\"taking\" + 0.013*\"not\"'),\n",
       " (2,\n",
       "  '0.021*\"not\" + 0.017*\"take\" + 0.015*\"work\" + 0.015*\"pain\" + 0.014*\"time\" + 0.014*\"hour\" + 0.013*\"took\" + 0.012*\"get\" + 0.012*\"like\" + 0.011*\"day\"'),\n",
       " (3,\n",
       "  '0.031*\"pain\" + 0.021*\"taking\" + 0.020*\"started\" + 0.019*\"weight\" + 0.017*\"year\" + 0.015*\"not\" + 0.014*\"back\" + 0.014*\"month\" + 0.014*\"lb\" + 0.014*\"lost\"')]"
      ]
     },
     "execution_count": 30,
     "metadata": {},
     "output_type": "execute_result"
    }
   ],
   "source": [
    "lda1.print_topics()"
   ]
  },
  {
   "cell_type": "code",
   "execution_count": 31,
   "metadata": {
    "ExecuteTime": {
     "end_time": "2020-02-28T08:17:30.396013Z",
     "start_time": "2020-02-28T08:17:30.391566Z"
    }
   },
   "outputs": [
    {
     "data": {
      "text/plain": [
       "<gensim.interfaces.TransformedCorpus at 0x18502ab2c40>"
      ]
     },
     "execution_count": 31,
     "metadata": {},
     "output_type": "execute_result"
    }
   ],
   "source": [
    "all_topics = lda1.get_document_topics(corpus)\n",
    "all_topics"
   ]
  },
  {
   "cell_type": "code",
   "execution_count": 32,
   "metadata": {
    "ExecuteTime": {
     "end_time": "2020-02-28T08:17:55.757516Z",
     "start_time": "2020-02-28T08:17:55.754279Z"
    }
   },
   "outputs": [],
   "source": [
    "num_docs = len(all_topics)"
   ]
  },
  {
   "cell_type": "code",
   "execution_count": 38,
   "metadata": {
    "ExecuteTime": {
     "end_time": "2020-02-28T08:19:59.383260Z",
     "start_time": "2020-02-28T08:19:59.368603Z"
    }
   },
   "outputs": [
    {
     "ename": "ValueError",
     "evalue": "could not broadcast input array from shape (3,) into shape (4,)",
     "output_type": "error",
     "traceback": [
      "\u001b[1;31m---------------------------------------------------------------------------\u001b[0m",
      "\u001b[1;31mValueError\u001b[0m                                Traceback (most recent call last)",
      "\u001b[1;32m<ipython-input-38-17dccd5b65de>\u001b[0m in \u001b[0;36m<module>\u001b[1;34m\u001b[0m\n\u001b[0;32m      4\u001b[0m \u001b[1;33m\u001b[0m\u001b[0m\n\u001b[0;32m      5\u001b[0m \u001b[1;32mfor\u001b[0m \u001b[0mi\u001b[0m \u001b[1;32min\u001b[0m \u001b[0mrange\u001b[0m\u001b[1;33m(\u001b[0m\u001b[1;36m0\u001b[0m\u001b[1;33m,\u001b[0m \u001b[0mnum_docs\u001b[0m\u001b[1;33m)\u001b[0m\u001b[1;33m:\u001b[0m\u001b[1;33m\u001b[0m\u001b[1;33m\u001b[0m\u001b[0m\n\u001b[1;32m----> 6\u001b[1;33m     \u001b[0mlda_scores\u001b[0m\u001b[1;33m[\u001b[0m\u001b[0mi\u001b[0m\u001b[1;33m]\u001b[0m \u001b[1;33m=\u001b[0m \u001b[0mnp\u001b[0m\u001b[1;33m.\u001b[0m\u001b[0marray\u001b[0m\u001b[1;33m(\u001b[0m\u001b[0mall_topics\u001b[0m\u001b[1;33m[\u001b[0m\u001b[0mi\u001b[0m\u001b[1;33m]\u001b[0m\u001b[1;33m)\u001b[0m\u001b[1;33m.\u001b[0m\u001b[0mtranspose\u001b[0m\u001b[1;33m(\u001b[0m\u001b[1;33m)\u001b[0m\u001b[1;33m[\u001b[0m\u001b[1;36m0\u001b[0m\u001b[1;33m]\u001b[0m\u001b[1;33m\u001b[0m\u001b[1;33m\u001b[0m\u001b[0m\n\u001b[0m",
      "\u001b[1;31mValueError\u001b[0m: could not broadcast input array from shape (3,) into shape (4,)"
     ]
    }
   ],
   "source": [
    "num_topics=4\n",
    "\n",
    "lda_scores = np.empty([num_docs, num_topics])\n",
    "\n",
    "for i in range(0, num_docs):\n",
    "    lda_scores[i] = np.array(all_topics[i]).transpose()[0]"
   ]
  },
  {
   "cell_type": "code",
   "execution_count": null,
   "metadata": {
    "ExecuteTime": {
     "end_time": "2020-02-28T07:54:56.897224Z",
     "start_time": "2020-02-28T07:54:56.892903Z"
    }
   },
   "outputs": [],
   "source": [
    "lda_corpus1 = lda1[corpus]\n",
    "lda_corpus1"
   ]
  },
  {
   "cell_type": "code",
   "execution_count": null,
   "metadata": {
    "ExecuteTime": {
     "end_time": "2020-02-28T07:55:28.381843Z",
     "start_time": "2020-02-28T07:54:56.899724Z"
    }
   },
   "outputs": [],
   "source": [
    "lda_docs1 = [doc for doc in lda_corpus1]"
   ]
  },
  {
   "cell_type": "code",
   "execution_count": null,
   "metadata": {
    "ExecuteTime": {
     "end_time": "2020-02-28T07:55:28.390438Z",
     "start_time": "2020-02-28T07:55:28.383932Z"
    }
   },
   "outputs": [],
   "source": [
    "lda_docs1[0:5]"
   ]
  },
  {
   "cell_type": "code",
   "execution_count": null,
   "metadata": {
    "ExecuteTime": {
     "end_time": "2020-02-28T08:01:48.633158Z",
     "start_time": "2020-02-28T08:01:48.628499Z"
    }
   },
   "outputs": [],
   "source": [
    "len(lda_docs1)"
   ]
  },
  {
   "cell_type": "code",
   "execution_count": null,
   "metadata": {
    "ExecuteTime": {
     "end_time": "2020-02-28T08:59:30.767676Z",
     "start_time": "2020-02-28T08:43:36.182246Z"
    }
   },
   "outputs": [],
   "source": [
    "def dominant_topic(ldamodel, corpus, texts):\n",
    "     #Function to find the dominant topic in each review\n",
    "     sent_topics_df = pd.DataFrame() \n",
    "     # Get main topic in each review\n",
    "     for i, row in enumerate(ldamodel[corpus]):\n",
    "         row = sorted(row, key=lambda x: (x[1]), reverse=True)\n",
    "         # Get the Dominant topic, Perc Contribution and Keywords for each review\n",
    "         for j, (topic_num, prop_topic) in enumerate(row):\n",
    "             if j == 0:  # => dominant topic\n",
    "                 wp = ldamodel.show_topic(topic_num,topn=4)\n",
    "                 topic_keywords = \", \".join([word for word, prop in wp])\n",
    "                 sent_topics_df = sent_topics_df.append(pd.Series([int(topic_num), round(prop_topic,4), topic_keywords]), ignore_index=True)\n",
    "             else:\n",
    "                 break\n",
    "     sent_topics_df.columns = ['Dominant_Topic', 'Perc_Contribution', 'Topic_Keywords']\n",
    "     contents = pd.Series(texts)\n",
    "     sent_topics_df = pd.concat([sent_topics_df, contents], axis=1)\n",
    "     return(sent_topics_df)\n",
    "\n",
    "df_dominant_topic = dominant_topic(ldamodel=lda1, corpus=corpus, texts=df_train_s['review']) \n",
    "df_dominant_topic.head()"
   ]
  },
  {
   "cell_type": "code",
   "execution_count": null,
   "metadata": {
    "ExecuteTime": {
     "end_time": "2020-02-28T09:01:18.369404Z",
     "start_time": "2020-02-28T09:01:16.788524Z"
    }
   },
   "outputs": [],
   "source": [
    "#export topic keywords to csv file for later use\n",
    "export_csv = df_dominant_topic.to_csv(r'df_dominant_topic.csv', index = None, header=True)"
   ]
  },
  {
   "cell_type": "code",
   "execution_count": null,
   "metadata": {
    "ExecuteTime": {
     "end_time": "2020-02-28T05:34:18.751851Z",
     "start_time": "2020-02-28T05:34:14.781950Z"
    }
   },
   "outputs": [],
   "source": [
    "cols = [color for name, color in mcolors.TABLEAU_COLORS.items()]  # more colors: 'mcolors.XKCD_COLORS'\n",
    "\n",
    "cloud = WordCloud(stopwords=stop,\n",
    "                  background_color='white',\n",
    "                  width=2500,\n",
    "                  height=1800,\n",
    "                  max_words=10,\n",
    "                  colormap='tab10',\n",
    "                  color_func=lambda *args, **kwargs: cols[i],\n",
    "                  prefer_horizontal=1.0)\n",
    "\n",
    "topics1 = lda1.show_topics(formatted=False)\n",
    "\n",
    "fig, axes = plt.subplots(2, 2, figsize=(10,10), sharex=True, sharey=True)\n",
    "\n",
    "for i, ax in enumerate(axes.flatten()):\n",
    "    fig.add_subplot(ax)\n",
    "    topic_words1 = dict(topics1[i][1])\n",
    "    cloud.generate_from_frequencies(topic_words1, max_font_size=300)\n",
    "    plt.gca().imshow(cloud)\n",
    "    plt.gca().set_title('Topic ' + str(i), fontdict=dict(size=16))\n",
    "    plt.gca().axis('off')\n",
    "\n",
    "plt.subplots_adjust(wspace=0, hspace=0)\n",
    "plt.axis('off')\n",
    "plt.margins(x=0, y=0)\n",
    "plt.tight_layout()\n",
    "plt.show()\n",
    "\n",
    "plt.savefig(r'fig/wc_bigram_lda-4.svg')"
   ]
  },
  {
   "cell_type": "code",
   "execution_count": null,
   "metadata": {
    "ExecuteTime": {
     "end_time": "2020-02-28T05:40:20.349269Z",
     "start_time": "2020-02-28T05:34:26.758846Z"
    }
   },
   "outputs": [],
   "source": [
    "lda2 = models.LdaModel(corpus=corpus, num_topics=6, id2word=id2word, passes=10)"
   ]
  },
  {
   "cell_type": "code",
   "execution_count": null,
   "metadata": {
    "ExecuteTime": {
     "end_time": "2020-02-28T05:40:38.051941Z",
     "start_time": "2020-02-28T05:40:38.038934Z"
    }
   },
   "outputs": [],
   "source": [
    "lda2.print_topics()"
   ]
  },
  {
   "cell_type": "code",
   "execution_count": null,
   "metadata": {
    "ExecuteTime": {
     "end_time": "2020-02-28T05:40:38.661228Z",
     "start_time": "2020-02-28T05:40:38.656061Z"
    }
   },
   "outputs": [],
   "source": [
    "lda_corpus2 = lda2[corpus]\n",
    "lda_corpus2"
   ]
  },
  {
   "cell_type": "code",
   "execution_count": null,
   "metadata": {
    "ExecuteTime": {
     "end_time": "2020-02-28T05:41:07.876633Z",
     "start_time": "2020-02-28T05:40:39.317362Z"
    }
   },
   "outputs": [],
   "source": [
    "lda_docs2 = [doc for doc in lda_corpus2]"
   ]
  },
  {
   "cell_type": "code",
   "execution_count": null,
   "metadata": {
    "ExecuteTime": {
     "end_time": "2020-02-28T05:41:07.884108Z",
     "start_time": "2020-02-28T05:41:07.878983Z"
    }
   },
   "outputs": [],
   "source": [
    "lda_docs2[0:5]"
   ]
  },
  {
   "cell_type": "code",
   "execution_count": null,
   "metadata": {
    "ExecuteTime": {
     "end_time": "2020-02-28T05:41:14.227333Z",
     "start_time": "2020-02-28T05:41:07.886442Z"
    }
   },
   "outputs": [],
   "source": [
    "cols = [color for name, color in mcolors.TABLEAU_COLORS.items()]  # more colors: 'mcolors.XKCD_COLORS'\n",
    "\n",
    "cloud = WordCloud(stopwords=stop,\n",
    "                  background_color='white',\n",
    "                  width=2500,\n",
    "                  height=1800,\n",
    "                  max_words=10,\n",
    "                  colormap='tab10',\n",
    "                  color_func=lambda *args, **kwargs: cols[i],\n",
    "                  prefer_horizontal=1.0)\n",
    "\n",
    "topics2 = lda2.show_topics(formatted=False)\n",
    "\n",
    "fig, axes = plt.subplots(2, 3, figsize=(12,10), sharex=True, sharey=True)\n",
    "\n",
    "for i, ax in enumerate(axes.flatten()):\n",
    "    fig.add_subplot(ax)\n",
    "    topic_words2 = dict(topics2[i][1])\n",
    "    cloud.generate_from_frequencies(topic_words2, max_font_size=300)\n",
    "    plt.gca().imshow(cloud)\n",
    "    plt.gca().set_title('Topic ' + str(i), fontdict=dict(size=16))\n",
    "    plt.gca().axis('off')\n",
    "\n",
    "plt.subplots_adjust(wspace=0, hspace=0)\n",
    "plt.axis('off')\n",
    "plt.margins(x=0, y=0)\n",
    "plt.tight_layout()\n",
    "plt.show()\n",
    "\n",
    "plt.savefig(r'fig/wc_bigram_lda-6.svg')"
   ]
  },
  {
   "cell_type": "code",
   "execution_count": null,
   "metadata": {},
   "outputs": [],
   "source": []
  }
 ],
 "metadata": {
  "kernelspec": {
   "display_name": "Python 3",
   "language": "python",
   "name": "python3"
  },
  "language_info": {
   "codemirror_mode": {
    "name": "ipython",
    "version": 3
   },
   "file_extension": ".py",
   "mimetype": "text/x-python",
   "name": "python",
   "nbconvert_exporter": "python",
   "pygments_lexer": "ipython3",
   "version": "3.8.8"
  },
  "latex_envs": {
   "LaTeX_envs_menu_present": true,
   "autoclose": false,
   "autocomplete": true,
   "bibliofile": "biblio.bib",
   "cite_by": "apalike",
   "current_citInitial": 1,
   "eqLabelWithNumbers": true,
   "eqNumInitial": 1,
   "hotkeys": {
    "equation": "Ctrl-E",
    "itemize": "Ctrl-I"
   },
   "labels_anchors": false,
   "latex_user_defs": false,
   "report_style_numbering": false,
   "user_envs_cfg": false
  }
 },
 "nbformat": 4,
 "nbformat_minor": 2
}
