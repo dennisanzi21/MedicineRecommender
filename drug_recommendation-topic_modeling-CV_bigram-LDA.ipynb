{
 "cells": [
  {
   "cell_type": "code",
   "execution_count": 9,
   "metadata": {
    "ExecuteTime": {
     "end_time": "2020-02-28T07:47:28.019418Z",
     "start_time": "2020-02-28T07:47:25.762612Z"
    }
   },
   "outputs": [],
   "source": [
    "import pandas as pd\n",
    "import numpy as np\n",
    "\n",
    "import matplotlib.pyplot as plt\n",
    "import seaborn as sns\n",
    "from mlxtend.plotting import plot_decision_regions\n",
    "\n",
    "plt.style.use('ggplot')\n",
    "%config InlineBackend.figure_format = 'svg'\n",
    "%matplotlib inline\n",
    "np.set_printoptions(suppress=True) # Suppress scientific notation where possible"
   ]
  },
  {
   "cell_type": "code",
   "execution_count": 10,
   "metadata": {
    "ExecuteTime": {
     "end_time": "2020-02-28T07:47:28.556370Z",
     "start_time": "2020-02-28T07:47:28.021578Z"
    }
   },
   "outputs": [],
   "source": [
    "from sklearn.feature_extraction.text import CountVectorizer\n",
    "from gensim import corpora, models, similarities, matutils\n",
    "from sklearn.decomposition import TruncatedSVD\n",
    "from sklearn.metrics.pairwise import cosine_similarity"
   ]
  },
  {
   "cell_type": "markdown",
   "metadata": {},
   "source": [
    "### Import cleaned datasets"
   ]
  },
  {
   "cell_type": "code",
   "execution_count": 11,
   "metadata": {
    "ExecuteTime": {
     "end_time": "2020-02-28T07:47:29.047017Z",
     "start_time": "2020-02-28T07:47:28.558662Z"
    }
   },
   "outputs": [],
   "source": [
    "df_train_s = pd.read_csv(r'df_train.csv')"
   ]
  },
  {
   "cell_type": "code",
   "execution_count": 12,
   "metadata": {
    "ExecuteTime": {
     "end_time": "2020-02-28T07:47:29.100921Z",
     "start_time": "2020-02-28T07:47:29.049613Z"
    }
   },
   "outputs": [
    {
     "name": "stdout",
     "output_type": "stream",
     "text": [
      "<class 'pandas.core.frame.DataFrame'>\n",
      "RangeIndex: 148387 entries, 0 to 148386\n",
      "Data columns (total 5 columns):\n",
      " #   Column       Non-Null Count   Dtype  \n",
      "---  ------       --------------   -----  \n",
      " 0   drugName     148387 non-null  object \n",
      " 1   condition    148387 non-null  object \n",
      " 2   rating       148387 non-null  float64\n",
      " 3   usefulCount  148387 non-null  int64  \n",
      " 4   review       148386 non-null  object \n",
      "dtypes: float64(1), int64(1), object(3)\n",
      "memory usage: 5.7+ MB\n"
     ]
    }
   ],
   "source": [
    "df_train_s.info()"
   ]
  },
  {
   "cell_type": "code",
   "execution_count": 13,
   "metadata": {
    "ExecuteTime": {
     "end_time": "2020-02-28T07:47:29.159263Z",
     "start_time": "2020-02-28T07:47:29.103818Z"
    }
   },
   "outputs": [],
   "source": [
    "#drop Nan value\n",
    "df_train_s.dropna(inplace=True)"
   ]
  },
  {
   "cell_type": "code",
   "execution_count": 14,
   "metadata": {
    "ExecuteTime": {
     "end_time": "2020-02-28T07:47:29.166672Z",
     "start_time": "2020-02-28T07:47:29.161550Z"
    }
   },
   "outputs": [],
   "source": [
    "df_train_s.reset_index(inplace=True)"
   ]
  },
  {
   "cell_type": "code",
   "execution_count": 15,
   "metadata": {
    "ExecuteTime": {
     "end_time": "2020-02-28T07:47:33.015994Z",
     "start_time": "2020-02-28T07:47:33.008429Z"
    }
   },
   "outputs": [
    {
     "data": {
      "text/plain": [
       "0                                 ADHD\n",
       "1                        Birth Control\n",
       "2                        Birth Control\n",
       "3         Benign Prostatic Hyperplasia\n",
       "4              Emergency Contraception\n",
       "                      ...             \n",
       "148381                   Birth Control\n",
       "148382                 Nausea/Vomiting\n",
       "148383            Rheumatoid Arthritis\n",
       "148384             Underactive Thyroid\n",
       "148385           Constipation, Chronic\n",
       "Name: condition, Length: 148386, dtype: object"
      ]
     },
     "execution_count": 15,
     "metadata": {},
     "output_type": "execute_result"
    }
   ],
   "source": [
    "df_train_s['condition']\n"
   ]
  },
  {
   "cell_type": "code",
   "execution_count": 16,
   "metadata": {
    "ExecuteTime": {
     "end_time": "2020-02-28T07:47:33.484383Z",
     "start_time": "2020-02-28T07:47:33.479704Z"
    }
   },
   "outputs": [],
   "source": [
    "condition_list=df_train_s['condition'].tolist()"
   ]
  },
  {
   "cell_type": "code",
   "execution_count": 17,
   "metadata": {
    "ExecuteTime": {
     "end_time": "2020-02-28T07:47:34.426886Z",
     "start_time": "2020-02-28T07:47:34.423802Z"
    }
   },
   "outputs": [],
   "source": [
    "corpus_train=df_train_s.review\n",
    "# corpus_test=df_test_s.review"
   ]
  },
  {
   "cell_type": "code",
   "execution_count": 18,
   "metadata": {
    "ExecuteTime": {
     "end_time": "2020-02-28T07:47:35.816603Z",
     "start_time": "2020-02-28T07:47:34.996440Z"
    }
   },
   "outputs": [],
   "source": [
    "#custom stopwords\n",
    "from nltk.corpus import stopwords\n",
    "\n",
    "stop = set(stopwords.words('english'))\n",
    "n = [\"aren't\",\"couldn't\",\"didn't\",\"doesn't\",\"don't\",\"hadn't\",\"hasn't\",\"haven't\",\"isn't\",\n",
    "     \"mightn't\",\"mustn't\",\"needn't\",\"no\",\"nor\",\"not\",\"shan't\",\"shouldn't\",\"wasn't\",\"weren't\",\"wouldn't\"]\n",
    "for i in n:\n",
    "    stop.remove(i)\n",
    "\n",
    "a = ['mg', 'week', 'month', 'day', 'january', 'february', 'march', 'april', 'may', 'june', 'july', \n",
    "     'august', 'september','october','november','december', 'iv','oral','pound',]\n",
    "for j in a:\n",
    "    stop.add(j)"
   ]
  },
  {
   "cell_type": "markdown",
   "metadata": {},
   "source": [
    "### CountVectorizer"
   ]
  },
  {
   "cell_type": "code",
   "execution_count": 19,
   "metadata": {
    "ExecuteTime": {
     "end_time": "2020-02-28T07:47:49.143780Z",
     "start_time": "2020-02-28T07:47:36.206929Z"
    }
   },
   "outputs": [
    {
     "data": {
      "text/plain": [
       "CountVectorizer(max_df=0.8, min_df=0.01, ngram_range=(1, 2))"
      ]
     },
     "execution_count": 19,
     "metadata": {},
     "output_type": "execute_result"
    }
   ],
   "source": [
    "# Create a CountVectorizer for parsing/counting words\n",
    "cv = CountVectorizer(ngram_range=(1, 2), min_df=0.01, max_df=0.8)\n",
    "# cv = CountVectorizer(ngram_range=(2, 2), min_df=10, max_df=0.8)\n",
    "\n",
    "cv.fit(corpus_train)"
   ]
  },
  {
   "cell_type": "code",
   "execution_count": 20,
   "metadata": {
    "ExecuteTime": {
     "end_time": "2020-02-28T07:48:09.744295Z",
     "start_time": "2020-02-28T07:48:02.744254Z"
    }
   },
   "outputs": [],
   "source": [
    "doc_word = cv.transform(corpus_train).transpose()"
   ]
  },
  {
   "cell_type": "code",
   "execution_count": 21,
   "metadata": {
    "ExecuteTime": {
     "end_time": "2020-02-28T07:48:16.240356Z",
     "start_time": "2020-02-28T07:48:09.746913Z"
    }
   },
   "outputs": [
    {
     "data": {
      "text/html": [
       "<div>\n",
       "<style scoped>\n",
       "    .dataframe tbody tr th:only-of-type {\n",
       "        vertical-align: middle;\n",
       "    }\n",
       "\n",
       "    .dataframe tbody tr th {\n",
       "        vertical-align: top;\n",
       "    }\n",
       "\n",
       "    .dataframe thead th {\n",
       "        text-align: right;\n",
       "    }\n",
       "</style>\n",
       "<table border=\"1\" class=\"dataframe\">\n",
       "  <thead>\n",
       "    <tr style=\"text-align: right;\">\n",
       "      <th></th>\n",
       "      <th>0</th>\n",
       "      <th>1</th>\n",
       "      <th>2</th>\n",
       "      <th>3</th>\n",
       "      <th>4</th>\n",
       "      <th>5</th>\n",
       "      <th>6</th>\n",
       "      <th>7</th>\n",
       "      <th>8</th>\n",
       "      <th>9</th>\n",
       "      <th>...</th>\n",
       "      <th>148376</th>\n",
       "      <th>148377</th>\n",
       "      <th>148378</th>\n",
       "      <th>148379</th>\n",
       "      <th>148380</th>\n",
       "      <th>148381</th>\n",
       "      <th>148382</th>\n",
       "      <th>148383</th>\n",
       "      <th>148384</th>\n",
       "      <th>148385</th>\n",
       "    </tr>\n",
       "  </thead>\n",
       "  <tbody>\n",
       "    <tr>\n",
       "      <th>able</th>\n",
       "      <td>0</td>\n",
       "      <td>0</td>\n",
       "      <td>0</td>\n",
       "      <td>0</td>\n",
       "      <td>0</td>\n",
       "      <td>0</td>\n",
       "      <td>0</td>\n",
       "      <td>0</td>\n",
       "      <td>0</td>\n",
       "      <td>0</td>\n",
       "      <td>...</td>\n",
       "      <td>0</td>\n",
       "      <td>0</td>\n",
       "      <td>0</td>\n",
       "      <td>0</td>\n",
       "      <td>0</td>\n",
       "      <td>0</td>\n",
       "      <td>0</td>\n",
       "      <td>0</td>\n",
       "      <td>0</td>\n",
       "      <td>0</td>\n",
       "    </tr>\n",
       "    <tr>\n",
       "      <th>absolutely</th>\n",
       "      <td>0</td>\n",
       "      <td>0</td>\n",
       "      <td>0</td>\n",
       "      <td>0</td>\n",
       "      <td>0</td>\n",
       "      <td>0</td>\n",
       "      <td>0</td>\n",
       "      <td>0</td>\n",
       "      <td>0</td>\n",
       "      <td>0</td>\n",
       "      <td>...</td>\n",
       "      <td>0</td>\n",
       "      <td>0</td>\n",
       "      <td>0</td>\n",
       "      <td>0</td>\n",
       "      <td>0</td>\n",
       "      <td>0</td>\n",
       "      <td>0</td>\n",
       "      <td>0</td>\n",
       "      <td>0</td>\n",
       "      <td>0</td>\n",
       "    </tr>\n",
       "    <tr>\n",
       "      <th>ache</th>\n",
       "      <td>0</td>\n",
       "      <td>0</td>\n",
       "      <td>0</td>\n",
       "      <td>1</td>\n",
       "      <td>0</td>\n",
       "      <td>0</td>\n",
       "      <td>0</td>\n",
       "      <td>0</td>\n",
       "      <td>0</td>\n",
       "      <td>0</td>\n",
       "      <td>...</td>\n",
       "      <td>0</td>\n",
       "      <td>0</td>\n",
       "      <td>0</td>\n",
       "      <td>0</td>\n",
       "      <td>0</td>\n",
       "      <td>0</td>\n",
       "      <td>0</td>\n",
       "      <td>0</td>\n",
       "      <td>0</td>\n",
       "      <td>0</td>\n",
       "    </tr>\n",
       "    <tr>\n",
       "      <th>acne</th>\n",
       "      <td>0</td>\n",
       "      <td>0</td>\n",
       "      <td>0</td>\n",
       "      <td>0</td>\n",
       "      <td>0</td>\n",
       "      <td>0</td>\n",
       "      <td>0</td>\n",
       "      <td>2</td>\n",
       "      <td>0</td>\n",
       "      <td>0</td>\n",
       "      <td>...</td>\n",
       "      <td>0</td>\n",
       "      <td>0</td>\n",
       "      <td>0</td>\n",
       "      <td>0</td>\n",
       "      <td>0</td>\n",
       "      <td>0</td>\n",
       "      <td>0</td>\n",
       "      <td>0</td>\n",
       "      <td>0</td>\n",
       "      <td>0</td>\n",
       "    </tr>\n",
       "    <tr>\n",
       "      <th>active</th>\n",
       "      <td>0</td>\n",
       "      <td>0</td>\n",
       "      <td>0</td>\n",
       "      <td>0</td>\n",
       "      <td>0</td>\n",
       "      <td>0</td>\n",
       "      <td>0</td>\n",
       "      <td>0</td>\n",
       "      <td>0</td>\n",
       "      <td>0</td>\n",
       "      <td>...</td>\n",
       "      <td>0</td>\n",
       "      <td>0</td>\n",
       "      <td>0</td>\n",
       "      <td>0</td>\n",
       "      <td>0</td>\n",
       "      <td>0</td>\n",
       "      <td>0</td>\n",
       "      <td>0</td>\n",
       "      <td>0</td>\n",
       "      <td>0</td>\n",
       "    </tr>\n",
       "  </tbody>\n",
       "</table>\n",
       "<p>5 rows × 148386 columns</p>\n",
       "</div>"
      ],
      "text/plain": [
       "            0       1       2       3       4       5       6       7       \\\n",
       "able             0       0       0       0       0       0       0       0   \n",
       "absolutely       0       0       0       0       0       0       0       0   \n",
       "ache             0       0       0       1       0       0       0       0   \n",
       "acne             0       0       0       0       0       0       0       2   \n",
       "active           0       0       0       0       0       0       0       0   \n",
       "\n",
       "            8       9       ...  148376  148377  148378  148379  148380  \\\n",
       "able             0       0  ...       0       0       0       0       0   \n",
       "absolutely       0       0  ...       0       0       0       0       0   \n",
       "ache             0       0  ...       0       0       0       0       0   \n",
       "acne             0       0  ...       0       0       0       0       0   \n",
       "active           0       0  ...       0       0       0       0       0   \n",
       "\n",
       "            148381  148382  148383  148384  148385  \n",
       "able             0       0       0       0       0  \n",
       "absolutely       0       0       0       0       0  \n",
       "ache             0       0       0       0       0  \n",
       "acne             0       0       0       0       0  \n",
       "active           0       0       0       0       0  \n",
       "\n",
       "[5 rows x 148386 columns]"
      ]
     },
     "execution_count": 21,
     "metadata": {},
     "output_type": "execute_result"
    }
   ],
   "source": [
    "pd.DataFrame(doc_word.toarray(), cv.get_feature_names()).head()"
   ]
  },
  {
   "cell_type": "code",
   "execution_count": 22,
   "metadata": {
    "ExecuteTime": {
     "end_time": "2020-02-28T07:48:16.245247Z",
     "start_time": "2020-02-28T07:48:16.242752Z"
    }
   },
   "outputs": [],
   "source": [
    "corpus = matutils.Sparse2Corpus(doc_word)"
   ]
  },
  {
   "cell_type": "code",
   "execution_count": 23,
   "metadata": {
    "ExecuteTime": {
     "end_time": "2020-02-28T07:48:17.507913Z",
     "start_time": "2020-02-28T07:48:17.479216Z"
    }
   },
   "outputs": [],
   "source": [
    "id2word = dict((v, k) for k, v in cv.vocabulary_.items())"
   ]
  },
  {
   "cell_type": "code",
   "execution_count": 24,
   "metadata": {
    "ExecuteTime": {
     "end_time": "2020-02-28T07:48:18.131450Z",
     "start_time": "2020-02-28T07:48:18.126570Z"
    }
   },
   "outputs": [
    {
     "data": {
      "text/plain": [
       "703"
      ]
     },
     "execution_count": 24,
     "metadata": {},
     "output_type": "execute_result"
    }
   ],
   "source": [
    "len(id2word)"
   ]
  },
  {
   "cell_type": "markdown",
   "metadata": {},
   "source": [
    "### LDA"
   ]
  },
  {
   "cell_type": "code",
   "execution_count": 25,
   "metadata": {
    "ExecuteTime": {
     "end_time": "2020-02-28T07:48:29.021169Z",
     "start_time": "2020-02-28T07:48:18.817825Z"
    },
    "scrolled": true
   },
   "outputs": [],
   "source": [
    "lda = models.LdaModel(corpus=corpus, num_topics=2, id2word=id2word, passes=10)"
   ]
  },
  {
   "cell_type": "code",
   "execution_count": 26,
   "metadata": {
    "ExecuteTime": {
     "end_time": "2020-02-28T07:48:29.024401Z",
     "start_time": "2020-02-28T07:48:19.438Z"
    }
   },
   "outputs": [
    {
     "data": {
      "text/plain": [
       "[(0,\n",
       "  '0.017*\"not\" + 0.015*\"effect\" + 0.014*\"year\" + 0.014*\"pain\" + 0.014*\"side\" + 0.013*\"take\" + 0.013*\"side effect\" + 0.013*\"taking\" + 0.011*\"time\" + 0.011*\"work\"'),\n",
       " (1,\n",
       "  '0.024*\"period\" + 0.023*\"pill\" + 0.017*\"not\" + 0.016*\"month\" + 0.016*\"weight\" + 0.015*\"no\" + 0.012*\"first\" + 0.012*\"control\" + 0.012*\"year\" + 0.010*\"got\"')]"
      ]
     },
     "execution_count": 26,
     "metadata": {},
     "output_type": "execute_result"
    }
   ],
   "source": [
    "lda.print_topics()"
   ]
  },
  {
   "cell_type": "code",
   "execution_count": 27,
   "metadata": {
    "ExecuteTime": {
     "end_time": "2020-02-28T07:48:29.026136Z",
     "start_time": "2020-02-28T07:48:20.862Z"
    }
   },
   "outputs": [
    {
     "data": {
      "text/plain": [
       "<gensim.interfaces.TransformedCorpus at 0x2979f7851c0>"
      ]
     },
     "execution_count": 27,
     "metadata": {},
     "output_type": "execute_result"
    }
   ],
   "source": [
    "lda_corpus = lda[corpus]\n",
    "lda_corpus"
   ]
  },
  {
   "cell_type": "code",
   "execution_count": 28,
   "metadata": {
    "ExecuteTime": {
     "end_time": "2020-02-28T05:25:29.134075Z",
     "start_time": "2020-02-28T05:24:53.909104Z"
    }
   },
   "outputs": [],
   "source": [
    "lda_docs = [doc for doc in lda_corpus]"
   ]
  },
  {
   "cell_type": "code",
   "execution_count": 29,
   "metadata": {
    "ExecuteTime": {
     "end_time": "2020-02-28T05:25:41.623550Z",
     "start_time": "2020-02-28T05:25:41.618137Z"
    }
   },
   "outputs": [
    {
     "data": {
      "text/plain": [
       "[[(0, 0.8338631), (1, 0.16613695)],\n",
       " [(0, 0.04355601), (1, 0.95644397)],\n",
       " [(0, 0.016278263), (1, 0.9837218)],\n",
       " [(0, 0.97721654), (1, 0.02278342)],\n",
       " [(0, 0.18145521), (1, 0.8185448)]]"
      ]
     },
     "execution_count": 29,
     "metadata": {},
     "output_type": "execute_result"
    }
   ],
   "source": [
    "lda_docs[0:5]"
   ]
  },
  {
   "cell_type": "code",
   "execution_count": 30,
   "metadata": {
    "ExecuteTime": {
     "end_time": "2020-02-28T05:25:43.769121Z",
     "start_time": "2020-02-28T05:25:43.764310Z"
    }
   },
   "outputs": [
    {
     "data": {
      "text/plain": [
       "148386"
      ]
     },
     "execution_count": 30,
     "metadata": {},
     "output_type": "execute_result"
    }
   ],
   "source": [
    "len(lda_docs)"
   ]
  },
  {
   "cell_type": "code",
   "execution_count": 31,
   "metadata": {
    "ExecuteTime": {
     "end_time": "2020-02-28T05:25:47.049609Z",
     "start_time": "2020-02-28T05:25:45.127634Z"
    },
    "scrolled": false
   },
   "outputs": [
    {
     "data": {
      "image/svg+xml": [
       "<?xml version=\"1.0\" encoding=\"utf-8\" standalone=\"no\"?>\r\n",
       "<!DOCTYPE svg PUBLIC \"-//W3C//DTD SVG 1.1//EN\"\r\n",
       "  \"http://www.w3.org/Graphics/SVG/1.1/DTD/svg11.dtd\">\r\n",
       "<!-- Created with matplotlib (https://matplotlib.org/) -->\r\n",
       "<svg height=\"280.0935pt\" version=\"1.1\" viewBox=\"0 0 712.8 280.0935\" width=\"712.8pt\" xmlns=\"http://www.w3.org/2000/svg\" xmlns:xlink=\"http://www.w3.org/1999/xlink\">\r\n",
       " <metadata>\r\n",
       "  <rdf:RDF xmlns:cc=\"http://creativecommons.org/ns#\" xmlns:dc=\"http://purl.org/dc/elements/1.1/\" xmlns:rdf=\"http://www.w3.org/1999/02/22-rdf-syntax-ns#\">\r\n",
       "   <cc:Work>\r\n",
       "    <dc:type rdf:resource=\"http://purl.org/dc/dcmitype/StillImage\"/>\r\n",
       "    <dc:date>2021-09-07T00:14:58.099019</dc:date>\r\n",
       "    <dc:format>image/svg+xml</dc:format>\r\n",
       "    <dc:creator>\r\n",
       "     <cc:Agent>\r\n",
       "      <dc:title>Matplotlib v3.3.4, https://matplotlib.org/</dc:title>\r\n",
       "     </cc:Agent>\r\n",
       "    </dc:creator>\r\n",
       "   </cc:Work>\r\n",
       "  </rdf:RDF>\r\n",
       " </metadata>\r\n",
       " <defs>\r\n",
       "  <style type=\"text/css\">*{stroke-linecap:butt;stroke-linejoin:round;}</style>\r\n",
       " </defs>\r\n",
       " <g id=\"figure_1\">\r\n",
       "  <g id=\"patch_1\">\r\n",
       "   <path d=\"M 0 280.0935 \r\n",
       "L 712.8 280.0935 \r\n",
       "L 712.8 0 \r\n",
       "L 0 0 \r\n",
       "z\r\n",
       "\" style=\"fill:none;\"/>\r\n",
       "  </g>\r\n",
       "  <g id=\"axes_1\">\r\n",
       "   <g clip-path=\"url(#p2fe4580903)\">\r\n",
       "    <image height=\"248\" id=\"imaged38c5ef69b\" transform=\"scale(1 -1)translate(0 -248)\" width=\"344\" x=\"7.2\" xlink:href=\"data:image/png;base64,\r\n",
       "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\" y=\"-24.8935\"/>\r\n",
       "   </g>\r\n",
       "   <g id=\"text_1\">\r\n",
       "    <!-- Topic 0 -->\r\n",
       "    <g transform=\"translate(151.34625 19.3575)scale(0.16 -0.16)\">\r\n",
       "     <defs>\r\n",
       "      <path d=\"M -0.296875 72.90625 \r\n",
       "L 61.375 72.90625 \r\n",
       "L 61.375 64.59375 \r\n",
       "L 35.5 64.59375 \r\n",
       "L 35.5 0 \r\n",
       "L 25.59375 0 \r\n",
       "L 25.59375 64.59375 \r\n",
       "L -0.296875 64.59375 \r\n",
       "z\r\n",
       "\" id=\"DejaVuSans-84\"/>\r\n",
       "      <path d=\"M 30.609375 48.390625 \r\n",
       "Q 23.390625 48.390625 19.1875 42.75 \r\n",
       "Q 14.984375 37.109375 14.984375 27.296875 \r\n",
       "Q 14.984375 17.484375 19.15625 11.84375 \r\n",
       "Q 23.34375 6.203125 30.609375 6.203125 \r\n",
       "Q 37.796875 6.203125 41.984375 11.859375 \r\n",
       "Q 46.1875 17.53125 46.1875 27.296875 \r\n",
       "Q 46.1875 37.015625 41.984375 42.703125 \r\n",
       "Q 37.796875 48.390625 30.609375 48.390625 \r\n",
       "z\r\n",
       "M 30.609375 56 \r\n",
       "Q 42.328125 56 49.015625 48.375 \r\n",
       "Q 55.71875 40.765625 55.71875 27.296875 \r\n",
       "Q 55.71875 13.875 49.015625 6.21875 \r\n",
       "Q 42.328125 -1.421875 30.609375 -1.421875 \r\n",
       "Q 18.84375 -1.421875 12.171875 6.21875 \r\n",
       "Q 5.515625 13.875 5.515625 27.296875 \r\n",
       "Q 5.515625 40.765625 12.171875 48.375 \r\n",
       "Q 18.84375 56 30.609375 56 \r\n",
       "z\r\n",
       "\" id=\"DejaVuSans-111\"/>\r\n",
       "      <path d=\"M 18.109375 8.203125 \r\n",
       "L 18.109375 -20.796875 \r\n",
       "L 9.078125 -20.796875 \r\n",
       "L 9.078125 54.6875 \r\n",
       "L 18.109375 54.6875 \r\n",
       "L 18.109375 46.390625 \r\n",
       "Q 20.953125 51.265625 25.265625 53.625 \r\n",
       "Q 29.59375 56 35.59375 56 \r\n",
       "Q 45.5625 56 51.78125 48.09375 \r\n",
       "Q 58.015625 40.1875 58.015625 27.296875 \r\n",
       "Q 58.015625 14.40625 51.78125 6.484375 \r\n",
       "Q 45.5625 -1.421875 35.59375 -1.421875 \r\n",
       "Q 29.59375 -1.421875 25.265625 0.953125 \r\n",
       "Q 20.953125 3.328125 18.109375 8.203125 \r\n",
       "z\r\n",
       "M 48.6875 27.296875 \r\n",
       "Q 48.6875 37.203125 44.609375 42.84375 \r\n",
       "Q 40.53125 48.484375 33.40625 48.484375 \r\n",
       "Q 26.265625 48.484375 22.1875 42.84375 \r\n",
       "Q 18.109375 37.203125 18.109375 27.296875 \r\n",
       "Q 18.109375 17.390625 22.1875 11.75 \r\n",
       "Q 26.265625 6.109375 33.40625 6.109375 \r\n",
       "Q 40.53125 6.109375 44.609375 11.75 \r\n",
       "Q 48.6875 17.390625 48.6875 27.296875 \r\n",
       "z\r\n",
       "\" id=\"DejaVuSans-112\"/>\r\n",
       "      <path d=\"M 9.421875 54.6875 \r\n",
       "L 18.40625 54.6875 \r\n",
       "L 18.40625 0 \r\n",
       "L 9.421875 0 \r\n",
       "z\r\n",
       "M 9.421875 75.984375 \r\n",
       "L 18.40625 75.984375 \r\n",
       "L 18.40625 64.59375 \r\n",
       "L 9.421875 64.59375 \r\n",
       "z\r\n",
       "\" id=\"DejaVuSans-105\"/>\r\n",
       "      <path d=\"M 48.78125 52.59375 \r\n",
       "L 48.78125 44.1875 \r\n",
       "Q 44.96875 46.296875 41.140625 47.34375 \r\n",
       "Q 37.3125 48.390625 33.40625 48.390625 \r\n",
       "Q 24.65625 48.390625 19.8125 42.84375 \r\n",
       "Q 14.984375 37.3125 14.984375 27.296875 \r\n",
       "Q 14.984375 17.28125 19.8125 11.734375 \r\n",
       "Q 24.65625 6.203125 33.40625 6.203125 \r\n",
       "Q 37.3125 6.203125 41.140625 7.25 \r\n",
       "Q 44.96875 8.296875 48.78125 10.40625 \r\n",
       "L 48.78125 2.09375 \r\n",
       "Q 45.015625 0.34375 40.984375 -0.53125 \r\n",
       "Q 36.96875 -1.421875 32.421875 -1.421875 \r\n",
       "Q 20.0625 -1.421875 12.78125 6.34375 \r\n",
       "Q 5.515625 14.109375 5.515625 27.296875 \r\n",
       "Q 5.515625 40.671875 12.859375 48.328125 \r\n",
       "Q 20.21875 56 33.015625 56 \r\n",
       "Q 37.15625 56 41.109375 55.140625 \r\n",
       "Q 45.0625 54.296875 48.78125 52.59375 \r\n",
       "z\r\n",
       "\" id=\"DejaVuSans-99\"/>\r\n",
       "      <path id=\"DejaVuSans-32\"/>\r\n",
       "      <path d=\"M 31.78125 66.40625 \r\n",
       "Q 24.171875 66.40625 20.328125 58.90625 \r\n",
       "Q 16.5 51.421875 16.5 36.375 \r\n",
       "Q 16.5 21.390625 20.328125 13.890625 \r\n",
       "Q 24.171875 6.390625 31.78125 6.390625 \r\n",
       "Q 39.453125 6.390625 43.28125 13.890625 \r\n",
       "Q 47.125 21.390625 47.125 36.375 \r\n",
       "Q 47.125 51.421875 43.28125 58.90625 \r\n",
       "Q 39.453125 66.40625 31.78125 66.40625 \r\n",
       "z\r\n",
       "M 31.78125 74.21875 \r\n",
       "Q 44.046875 74.21875 50.515625 64.515625 \r\n",
       "Q 56.984375 54.828125 56.984375 36.375 \r\n",
       "Q 56.984375 17.96875 50.515625 8.265625 \r\n",
       "Q 44.046875 -1.421875 31.78125 -1.421875 \r\n",
       "Q 19.53125 -1.421875 13.0625 8.265625 \r\n",
       "Q 6.59375 17.96875 6.59375 36.375 \r\n",
       "Q 6.59375 54.828125 13.0625 64.515625 \r\n",
       "Q 19.53125 74.21875 31.78125 74.21875 \r\n",
       "z\r\n",
       "\" id=\"DejaVuSans-48\"/>\r\n",
       "     </defs>\r\n",
       "     <use xlink:href=\"#DejaVuSans-84\"/>\r\n",
       "     <use x=\"44.083984\" xlink:href=\"#DejaVuSans-111\"/>\r\n",
       "     <use x=\"105.265625\" xlink:href=\"#DejaVuSans-112\"/>\r\n",
       "     <use x=\"168.742188\" xlink:href=\"#DejaVuSans-105\"/>\r\n",
       "     <use x=\"196.525391\" xlink:href=\"#DejaVuSans-99\"/>\r\n",
       "     <use x=\"251.505859\" xlink:href=\"#DejaVuSans-32\"/>\r\n",
       "     <use x=\"283.292969\" xlink:href=\"#DejaVuSans-48\"/>\r\n",
       "    </g>\r\n",
       "   </g>\r\n",
       "  </g>\r\n",
       "  <g id=\"axes_2\">\r\n",
       "   <g clip-path=\"url(#p93cf1f0668)\">\r\n",
       "    <image height=\"248\" id=\"image70d351aa17\" transform=\"scale(1 -1)translate(0 -248)\" width=\"344\" x=\"361.8\" xlink:href=\"data:image/png;base64,\r\n",
       "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\" y=\"-24.8935\"/>\r\n",
       "   </g>\r\n",
       "   <g id=\"text_2\">\r\n",
       "    <!-- Topic 1 -->\r\n",
       "    <g transform=\"translate(505.94625 19.3575)scale(0.16 -0.16)\">\r\n",
       "     <defs>\r\n",
       "      <path d=\"M 12.40625 8.296875 \r\n",
       "L 28.515625 8.296875 \r\n",
       "L 28.515625 63.921875 \r\n",
       "L 10.984375 60.40625 \r\n",
       "L 10.984375 69.390625 \r\n",
       "L 28.421875 72.90625 \r\n",
       "L 38.28125 72.90625 \r\n",
       "L 38.28125 8.296875 \r\n",
       "L 54.390625 8.296875 \r\n",
       "L 54.390625 0 \r\n",
       "L 12.40625 0 \r\n",
       "z\r\n",
       "\" id=\"DejaVuSans-49\"/>\r\n",
       "     </defs>\r\n",
       "     <use xlink:href=\"#DejaVuSans-84\"/>\r\n",
       "     <use x=\"44.083984\" xlink:href=\"#DejaVuSans-111\"/>\r\n",
       "     <use x=\"105.265625\" xlink:href=\"#DejaVuSans-112\"/>\r\n",
       "     <use x=\"168.742188\" xlink:href=\"#DejaVuSans-105\"/>\r\n",
       "     <use x=\"196.525391\" xlink:href=\"#DejaVuSans-99\"/>\r\n",
       "     <use x=\"251.505859\" xlink:href=\"#DejaVuSans-32\"/>\r\n",
       "     <use x=\"283.292969\" xlink:href=\"#DejaVuSans-49\"/>\r\n",
       "    </g>\r\n",
       "   </g>\r\n",
       "  </g>\r\n",
       " </g>\r\n",
       " <defs>\r\n",
       "  <clipPath id=\"p2fe4580903\">\r\n",
       "   <rect height=\"247.536\" width=\"343.8\" x=\"7.2\" y=\"25.3575\"/>\r\n",
       "  </clipPath>\r\n",
       "  <clipPath id=\"p93cf1f0668\">\r\n",
       "   <rect height=\"247.536\" width=\"343.8\" x=\"361.8\" y=\"25.3575\"/>\r\n",
       "  </clipPath>\r\n",
       " </defs>\r\n",
       "</svg>\r\n"
      ],
      "text/plain": [
       "<Figure size 720x1440 with 2 Axes>"
      ]
     },
     "metadata": {
      "needs_background": "light"
     },
     "output_type": "display_data"
    },
    {
     "data": {
      "text/plain": [
       "<Figure size 432x288 with 0 Axes>"
      ]
     },
     "metadata": {},
     "output_type": "display_data"
    }
   ],
   "source": [
    "from wordcloud import WordCloud\n",
    "import matplotlib.colors as mcolors\n",
    "\n",
    "cols = [color for name, color in mcolors.TABLEAU_COLORS.items()]  # more colors: 'mcolors.XKCD_COLORS'\n",
    "\n",
    "cloud = WordCloud(stopwords=stop,\n",
    "                  background_color='white',\n",
    "                  width=2500,\n",
    "                  height=1800,\n",
    "                  max_words=10,\n",
    "                  colormap='tab10',\n",
    "                  color_func=lambda *args, **kwargs: cols[i],\n",
    "                  prefer_horizontal=1.0)\n",
    "\n",
    "topics = lda.show_topics(formatted=False)\n",
    "\n",
    "fig, axes = plt.subplots(1, 2, figsize=(10,20), sharex=True, sharey=True)\n",
    "\n",
    "for i, ax in enumerate(axes.flatten()):\n",
    "    fig.add_subplot(ax)\n",
    "    topic_words = dict(topics[i][1])\n",
    "    cloud.generate_from_frequencies(topic_words, max_font_size=300)\n",
    "    plt.gca().imshow(cloud)\n",
    "    plt.gca().set_title('Topic ' + str(i), fontdict=dict(size=16))\n",
    "    plt.gca().axis('off')\n",
    "\n",
    "plt.subplots_adjust(wspace=0, hspace=0)\n",
    "plt.axis('off')\n",
    "plt.margins(x=0, y=0)\n",
    "plt.tight_layout()\n",
    "plt.show()\n",
    "\n",
    "plt.savefig(r'fig/wc_bigram_lda-2.svg')"
   ]
  },
  {
   "cell_type": "code",
   "execution_count": 32,
   "metadata": {
    "ExecuteTime": {
     "end_time": "2020-02-28T07:54:56.880398Z",
     "start_time": "2020-02-28T07:48:42.431214Z"
    }
   },
   "outputs": [],
   "source": [
    "lda1 = models.LdaModel(corpus=corpus, num_topics=4, id2word=id2word, passes=10)"
   ]
  },
  {
   "cell_type": "code",
   "execution_count": 33,
   "metadata": {
    "ExecuteTime": {
     "end_time": "2020-02-28T07:54:56.890117Z",
     "start_time": "2020-02-28T07:54:56.882352Z"
    }
   },
   "outputs": [
    {
     "data": {
      "text/plain": [
       "[(0,\n",
       "  '0.035*\"period\" + 0.025*\"pill\" + 0.018*\"not\" + 0.017*\"month\" + 0.016*\"control\" + 0.015*\"no\" + 0.014*\"birth\" + 0.013*\"birth control\" + 0.013*\"year\" + 0.012*\"first\"'),\n",
       " (1,\n",
       "  '0.068*\"effect\" + 0.066*\"side\" + 0.060*\"side effect\" + 0.023*\"no\" + 0.019*\"weight\" + 0.017*\"taking\" + 0.015*\"not\" + 0.014*\"started\" + 0.012*\"lb\" + 0.012*\"lost\"'),\n",
       " (2,\n",
       "  '0.032*\"pain\" + 0.018*\"not\" + 0.013*\"take\" + 0.012*\"time\" + 0.012*\"work\" + 0.012*\"took\" + 0.012*\"hour\" + 0.011*\"day\" + 0.010*\"get\" + 0.010*\"back\"'),\n",
       " (3,\n",
       "  '0.021*\"year\" + 0.018*\"anxiety\" + 0.018*\"feel\" + 0.017*\"not\" + 0.015*\"life\" + 0.015*\"taking\" + 0.014*\"take\" + 0.014*\"sleep\" + 0.013*\"like\" + 0.012*\"medication\"')]"
      ]
     },
     "execution_count": 33,
     "metadata": {},
     "output_type": "execute_result"
    }
   ],
   "source": [
    "lda1.print_topics()"
   ]
  },
  {
   "cell_type": "code",
   "execution_count": 34,
   "metadata": {
    "ExecuteTime": {
     "end_time": "2020-02-28T08:17:30.396013Z",
     "start_time": "2020-02-28T08:17:30.391566Z"
    }
   },
   "outputs": [
    {
     "data": {
      "text/plain": [
       "<gensim.interfaces.TransformedCorpus at 0x297ac8e7700>"
      ]
     },
     "execution_count": 34,
     "metadata": {},
     "output_type": "execute_result"
    }
   ],
   "source": [
    "all_topics = lda1.get_document_topics(corpus)\n",
    "all_topics"
   ]
  },
  {
   "cell_type": "code",
   "execution_count": 35,
   "metadata": {
    "ExecuteTime": {
     "end_time": "2020-02-28T08:17:55.757516Z",
     "start_time": "2020-02-28T08:17:55.754279Z"
    }
   },
   "outputs": [],
   "source": [
    "num_docs = len(all_topics)"
   ]
  },
  {
   "cell_type": "code",
   "execution_count": 36,
   "metadata": {
    "ExecuteTime": {
     "end_time": "2020-02-28T08:19:59.383260Z",
     "start_time": "2020-02-28T08:19:59.368603Z"
    }
   },
   "outputs": [
    {
     "ename": "ValueError",
     "evalue": "could not broadcast input array from shape (3,) into shape (4,)",
     "output_type": "error",
     "traceback": [
      "\u001b[1;31m---------------------------------------------------------------------------\u001b[0m",
      "\u001b[1;31mValueError\u001b[0m                                Traceback (most recent call last)",
      "\u001b[1;32m<ipython-input-36-17dccd5b65de>\u001b[0m in \u001b[0;36m<module>\u001b[1;34m\u001b[0m\n\u001b[0;32m      4\u001b[0m \u001b[1;33m\u001b[0m\u001b[0m\n\u001b[0;32m      5\u001b[0m \u001b[1;32mfor\u001b[0m \u001b[0mi\u001b[0m \u001b[1;32min\u001b[0m \u001b[0mrange\u001b[0m\u001b[1;33m(\u001b[0m\u001b[1;36m0\u001b[0m\u001b[1;33m,\u001b[0m \u001b[0mnum_docs\u001b[0m\u001b[1;33m)\u001b[0m\u001b[1;33m:\u001b[0m\u001b[1;33m\u001b[0m\u001b[1;33m\u001b[0m\u001b[0m\n\u001b[1;32m----> 6\u001b[1;33m     \u001b[0mlda_scores\u001b[0m\u001b[1;33m[\u001b[0m\u001b[0mi\u001b[0m\u001b[1;33m]\u001b[0m \u001b[1;33m=\u001b[0m \u001b[0mnp\u001b[0m\u001b[1;33m.\u001b[0m\u001b[0marray\u001b[0m\u001b[1;33m(\u001b[0m\u001b[0mall_topics\u001b[0m\u001b[1;33m[\u001b[0m\u001b[0mi\u001b[0m\u001b[1;33m]\u001b[0m\u001b[1;33m)\u001b[0m\u001b[1;33m.\u001b[0m\u001b[0mtranspose\u001b[0m\u001b[1;33m(\u001b[0m\u001b[1;33m)\u001b[0m\u001b[1;33m[\u001b[0m\u001b[1;36m0\u001b[0m\u001b[1;33m]\u001b[0m\u001b[1;33m\u001b[0m\u001b[1;33m\u001b[0m\u001b[0m\n\u001b[0m",
      "\u001b[1;31mValueError\u001b[0m: could not broadcast input array from shape (3,) into shape (4,)"
     ]
    }
   ],
   "source": [
    "num_topics=4\n",
    "\n",
    "lda_scores = np.empty([num_docs, num_topics])\n",
    "\n",
    "for i in range(0, num_docs):\n",
    "    lda_scores[i] = np.array(all_topics[i]).transpose()[0]"
   ]
  },
  {
   "cell_type": "code",
   "execution_count": 38,
   "metadata": {
    "ExecuteTime": {
     "end_time": "2020-02-28T07:54:56.897224Z",
     "start_time": "2020-02-28T07:54:56.892903Z"
    }
   },
   "outputs": [
    {
     "data": {
      "text/plain": [
       "<gensim.interfaces.TransformedCorpus at 0x297a12b0610>"
      ]
     },
     "execution_count": 38,
     "metadata": {},
     "output_type": "execute_result"
    }
   ],
   "source": [
    "lda_corpus1 = lda1[corpus]\n",
    "lda_corpus1"
   ]
  },
  {
   "cell_type": "code",
   "execution_count": 39,
   "metadata": {
    "ExecuteTime": {
     "end_time": "2020-02-28T07:55:28.381843Z",
     "start_time": "2020-02-28T07:54:56.899724Z"
    }
   },
   "outputs": [],
   "source": [
    "lda_docs1 = [doc for doc in lda_corpus1]"
   ]
  },
  {
   "cell_type": "code",
   "execution_count": 41,
   "metadata": {
    "ExecuteTime": {
     "end_time": "2020-02-28T07:55:28.390438Z",
     "start_time": "2020-02-28T07:55:28.383932Z"
    }
   },
   "outputs": [
    {
     "data": {
      "text/plain": [
       "[[(0, 0.016229484), (2, 0.41228127), (3, 0.5665088)],\n",
       " [(0, 0.6741856), (1, 0.3169032)],\n",
       " [(0, 0.9802756)],\n",
       " [(1, 0.3716231), (2, 0.61291707)],\n",
       " [(0, 0.4044061), (1, 0.017239654), (2, 0.5612469), (3, 0.017107384)]]"
      ]
     },
     "execution_count": 41,
     "metadata": {},
     "output_type": "execute_result"
    }
   ],
   "source": [
    "lda_docs1[0:5]"
   ]
  },
  {
   "cell_type": "code",
   "execution_count": 42,
   "metadata": {
    "ExecuteTime": {
     "end_time": "2020-02-28T08:01:48.633158Z",
     "start_time": "2020-02-28T08:01:48.628499Z"
    }
   },
   "outputs": [
    {
     "data": {
      "text/plain": [
       "148386"
      ]
     },
     "execution_count": 42,
     "metadata": {},
     "output_type": "execute_result"
    }
   ],
   "source": [
    "len(lda_docs1)"
   ]
  },
  {
   "cell_type": "code",
   "execution_count": 43,
   "metadata": {
    "ExecuteTime": {
     "end_time": "2020-02-28T08:59:30.767676Z",
     "start_time": "2020-02-28T08:43:36.182246Z"
    }
   },
   "outputs": [
    {
     "data": {
      "text/html": [
       "<div>\n",
       "<style scoped>\n",
       "    .dataframe tbody tr th:only-of-type {\n",
       "        vertical-align: middle;\n",
       "    }\n",
       "\n",
       "    .dataframe tbody tr th {\n",
       "        vertical-align: top;\n",
       "    }\n",
       "\n",
       "    .dataframe thead th {\n",
       "        text-align: right;\n",
       "    }\n",
       "</style>\n",
       "<table border=\"1\" class=\"dataframe\">\n",
       "  <thead>\n",
       "    <tr style=\"text-align: right;\">\n",
       "      <th></th>\n",
       "      <th>Dominant_Topic</th>\n",
       "      <th>Perc_Contribution</th>\n",
       "      <th>Topic_Keywords</th>\n",
       "      <th>review</th>\n",
       "    </tr>\n",
       "  </thead>\n",
       "  <tbody>\n",
       "    <tr>\n",
       "      <th>0</th>\n",
       "      <td>3.0</td>\n",
       "      <td>0.5674</td>\n",
       "      <td>year, anxiety, feel, not</td>\n",
       "      <td>son halfway fourth intuniv became concerned be...</td>\n",
       "    </tr>\n",
       "    <tr>\n",
       "      <th>1</th>\n",
       "      <td>0.0</td>\n",
       "      <td>0.6742</td>\n",
       "      <td>period, pill, not, month</td>\n",
       "      <td>used take another contraceptive pill cycle hap...</td>\n",
       "    </tr>\n",
       "    <tr>\n",
       "      <th>2</th>\n",
       "      <td>0.0</td>\n",
       "      <td>0.9803</td>\n",
       "      <td>period, pill, not, month</td>\n",
       "      <td>first time using form birth control glad went ...</td>\n",
       "    </tr>\n",
       "    <tr>\n",
       "      <th>3</th>\n",
       "      <td>2.0</td>\n",
       "      <td>0.6129</td>\n",
       "      <td>pain, not, take, time</td>\n",
       "      <td>nd started work rock hard erection however exp...</td>\n",
       "    </tr>\n",
       "    <tr>\n",
       "      <th>4</th>\n",
       "      <td>2.0</td>\n",
       "      <td>0.5612</td>\n",
       "      <td>pain, not, take, time</td>\n",
       "      <td>pulled cummed bit took plan b hour later took ...</td>\n",
       "    </tr>\n",
       "  </tbody>\n",
       "</table>\n",
       "</div>"
      ],
      "text/plain": [
       "   Dominant_Topic  Perc_Contribution            Topic_Keywords  \\\n",
       "0             3.0             0.5674  year, anxiety, feel, not   \n",
       "1             0.0             0.6742  period, pill, not, month   \n",
       "2             0.0             0.9803  period, pill, not, month   \n",
       "3             2.0             0.6129     pain, not, take, time   \n",
       "4             2.0             0.5612     pain, not, take, time   \n",
       "\n",
       "                                              review  \n",
       "0  son halfway fourth intuniv became concerned be...  \n",
       "1  used take another contraceptive pill cycle hap...  \n",
       "2  first time using form birth control glad went ...  \n",
       "3  nd started work rock hard erection however exp...  \n",
       "4  pulled cummed bit took plan b hour later took ...  "
      ]
     },
     "execution_count": 43,
     "metadata": {},
     "output_type": "execute_result"
    }
   ],
   "source": [
    "def dominant_topic(ldamodel, corpus, texts):\n",
    "     #Function to find the dominant topic in each review\n",
    "     sent_topics_df = pd.DataFrame() \n",
    "     # Get main topic in each review\n",
    "     for i, row in enumerate(ldamodel[corpus]):\n",
    "         row = sorted(row, key=lambda x: (x[1]), reverse=True)\n",
    "         # Get the Dominant topic, Perc Contribution and Keywords for each review\n",
    "         for j, (topic_num, prop_topic) in enumerate(row):\n",
    "             if j == 0:  # => dominant topic\n",
    "                 wp = ldamodel.show_topic(topic_num,topn=4)\n",
    "                 topic_keywords = \", \".join([word for word, prop in wp])\n",
    "                 sent_topics_df = sent_topics_df.append(pd.Series([int(topic_num), round(prop_topic,4), topic_keywords]), ignore_index=True)\n",
    "             else:\n",
    "                 break\n",
    "     sent_topics_df.columns = ['Dominant_Topic', 'Perc_Contribution', 'Topic_Keywords']\n",
    "     contents = pd.Series(texts)\n",
    "     sent_topics_df = pd.concat([sent_topics_df, contents], axis=1)\n",
    "     return(sent_topics_df)\n",
    "\n",
    "df_dominant_topic = dominant_topic(ldamodel=lda1, corpus=corpus, texts=df_train_s['review']) \n",
    "df_dominant_topic.head()"
   ]
  },
  {
   "cell_type": "code",
   "execution_count": 44,
   "metadata": {
    "ExecuteTime": {
     "end_time": "2020-02-28T09:01:18.369404Z",
     "start_time": "2020-02-28T09:01:16.788524Z"
    }
   },
   "outputs": [],
   "source": [
    "#export topic keywords to csv file for later use\n",
    "export_csv = df_dominant_topic.to_csv(r'df_dominant_topic.csv', index = None, header=True)"
   ]
  },
  {
   "cell_type": "code",
   "execution_count": 45,
   "metadata": {
    "ExecuteTime": {
     "end_time": "2020-02-28T05:34:18.751851Z",
     "start_time": "2020-02-28T05:34:14.781950Z"
    }
   },
   "outputs": [
    {
     "data": {
      "image/svg+xml": [
       "<?xml version=\"1.0\" encoding=\"utf-8\" standalone=\"no\"?>\r\n",
       "<!DOCTYPE svg PUBLIC \"-//W3C//DTD SVG 1.1//EN\"\r\n",
       "  \"http://www.w3.org/Graphics/SVG/1.1/DTD/svg11.dtd\">\r\n",
       "<!-- Created with matplotlib (https://matplotlib.org/) -->\r\n",
       "<svg height=\"608.2335pt\" version=\"1.1\" viewBox=\"0 0 712.8 608.2335\" width=\"712.8pt\" xmlns=\"http://www.w3.org/2000/svg\" xmlns:xlink=\"http://www.w3.org/1999/xlink\">\r\n",
       " <metadata>\r\n",
       "  <rdf:RDF xmlns:cc=\"http://creativecommons.org/ns#\" xmlns:dc=\"http://purl.org/dc/elements/1.1/\" xmlns:rdf=\"http://www.w3.org/1999/02/22-rdf-syntax-ns#\">\r\n",
       "   <cc:Work>\r\n",
       "    <dc:type rdf:resource=\"http://purl.org/dc/dcmitype/StillImage\"/>\r\n",
       "    <dc:date>2021-09-07T00:42:55.532616</dc:date>\r\n",
       "    <dc:format>image/svg+xml</dc:format>\r\n",
       "    <dc:creator>\r\n",
       "     <cc:Agent>\r\n",
       "      <dc:title>Matplotlib v3.3.4, https://matplotlib.org/</dc:title>\r\n",
       "     </cc:Agent>\r\n",
       "    </dc:creator>\r\n",
       "   </cc:Work>\r\n",
       "  </rdf:RDF>\r\n",
       " </metadata>\r\n",
       " <defs>\r\n",
       "  <style type=\"text/css\">*{stroke-linecap:butt;stroke-linejoin:round;}</style>\r\n",
       " </defs>\r\n",
       " <g id=\"figure_1\">\r\n",
       "  <g id=\"patch_1\">\r\n",
       "   <path d=\"M 0 608.2335 \r\n",
       "L 712.8 608.2335 \r\n",
       "L 712.8 0 \r\n",
       "L 0 0 \r\n",
       "z\r\n",
       "\" style=\"fill:none;\"/>\r\n",
       "  </g>\r\n",
       "  <g id=\"axes_1\">\r\n",
       "   <g clip-path=\"url(#p12500d25e1)\">\r\n",
       "    <image height=\"248\" id=\"image1206d0f7c0\" transform=\"scale(1 -1)translate(0 -248)\" width=\"344\" x=\"7.2\" xlink:href=\"data:image/png;base64,\r\n",
       "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\" y=\"-24.8935\"/>\r\n",
       "   </g>\r\n",
       "   <g id=\"text_1\">\r\n",
       "    <!-- Topic 0 -->\r\n",
       "    <g transform=\"translate(151.34625 19.3575)scale(0.16 -0.16)\">\r\n",
       "     <defs>\r\n",
       "      <path d=\"M -0.296875 72.90625 \r\n",
       "L 61.375 72.90625 \r\n",
       "L 61.375 64.59375 \r\n",
       "L 35.5 64.59375 \r\n",
       "L 35.5 0 \r\n",
       "L 25.59375 0 \r\n",
       "L 25.59375 64.59375 \r\n",
       "L -0.296875 64.59375 \r\n",
       "z\r\n",
       "\" id=\"DejaVuSans-84\"/>\r\n",
       "      <path d=\"M 30.609375 48.390625 \r\n",
       "Q 23.390625 48.390625 19.1875 42.75 \r\n",
       "Q 14.984375 37.109375 14.984375 27.296875 \r\n",
       "Q 14.984375 17.484375 19.15625 11.84375 \r\n",
       "Q 23.34375 6.203125 30.609375 6.203125 \r\n",
       "Q 37.796875 6.203125 41.984375 11.859375 \r\n",
       "Q 46.1875 17.53125 46.1875 27.296875 \r\n",
       "Q 46.1875 37.015625 41.984375 42.703125 \r\n",
       "Q 37.796875 48.390625 30.609375 48.390625 \r\n",
       "z\r\n",
       "M 30.609375 56 \r\n",
       "Q 42.328125 56 49.015625 48.375 \r\n",
       "Q 55.71875 40.765625 55.71875 27.296875 \r\n",
       "Q 55.71875 13.875 49.015625 6.21875 \r\n",
       "Q 42.328125 -1.421875 30.609375 -1.421875 \r\n",
       "Q 18.84375 -1.421875 12.171875 6.21875 \r\n",
       "Q 5.515625 13.875 5.515625 27.296875 \r\n",
       "Q 5.515625 40.765625 12.171875 48.375 \r\n",
       "Q 18.84375 56 30.609375 56 \r\n",
       "z\r\n",
       "\" id=\"DejaVuSans-111\"/>\r\n",
       "      <path d=\"M 18.109375 8.203125 \r\n",
       "L 18.109375 -20.796875 \r\n",
       "L 9.078125 -20.796875 \r\n",
       "L 9.078125 54.6875 \r\n",
       "L 18.109375 54.6875 \r\n",
       "L 18.109375 46.390625 \r\n",
       "Q 20.953125 51.265625 25.265625 53.625 \r\n",
       "Q 29.59375 56 35.59375 56 \r\n",
       "Q 45.5625 56 51.78125 48.09375 \r\n",
       "Q 58.015625 40.1875 58.015625 27.296875 \r\n",
       "Q 58.015625 14.40625 51.78125 6.484375 \r\n",
       "Q 45.5625 -1.421875 35.59375 -1.421875 \r\n",
       "Q 29.59375 -1.421875 25.265625 0.953125 \r\n",
       "Q 20.953125 3.328125 18.109375 8.203125 \r\n",
       "z\r\n",
       "M 48.6875 27.296875 \r\n",
       "Q 48.6875 37.203125 44.609375 42.84375 \r\n",
       "Q 40.53125 48.484375 33.40625 48.484375 \r\n",
       "Q 26.265625 48.484375 22.1875 42.84375 \r\n",
       "Q 18.109375 37.203125 18.109375 27.296875 \r\n",
       "Q 18.109375 17.390625 22.1875 11.75 \r\n",
       "Q 26.265625 6.109375 33.40625 6.109375 \r\n",
       "Q 40.53125 6.109375 44.609375 11.75 \r\n",
       "Q 48.6875 17.390625 48.6875 27.296875 \r\n",
       "z\r\n",
       "\" id=\"DejaVuSans-112\"/>\r\n",
       "      <path d=\"M 9.421875 54.6875 \r\n",
       "L 18.40625 54.6875 \r\n",
       "L 18.40625 0 \r\n",
       "L 9.421875 0 \r\n",
       "z\r\n",
       "M 9.421875 75.984375 \r\n",
       "L 18.40625 75.984375 \r\n",
       "L 18.40625 64.59375 \r\n",
       "L 9.421875 64.59375 \r\n",
       "z\r\n",
       "\" id=\"DejaVuSans-105\"/>\r\n",
       "      <path d=\"M 48.78125 52.59375 \r\n",
       "L 48.78125 44.1875 \r\n",
       "Q 44.96875 46.296875 41.140625 47.34375 \r\n",
       "Q 37.3125 48.390625 33.40625 48.390625 \r\n",
       "Q 24.65625 48.390625 19.8125 42.84375 \r\n",
       "Q 14.984375 37.3125 14.984375 27.296875 \r\n",
       "Q 14.984375 17.28125 19.8125 11.734375 \r\n",
       "Q 24.65625 6.203125 33.40625 6.203125 \r\n",
       "Q 37.3125 6.203125 41.140625 7.25 \r\n",
       "Q 44.96875 8.296875 48.78125 10.40625 \r\n",
       "L 48.78125 2.09375 \r\n",
       "Q 45.015625 0.34375 40.984375 -0.53125 \r\n",
       "Q 36.96875 -1.421875 32.421875 -1.421875 \r\n",
       "Q 20.0625 -1.421875 12.78125 6.34375 \r\n",
       "Q 5.515625 14.109375 5.515625 27.296875 \r\n",
       "Q 5.515625 40.671875 12.859375 48.328125 \r\n",
       "Q 20.21875 56 33.015625 56 \r\n",
       "Q 37.15625 56 41.109375 55.140625 \r\n",
       "Q 45.0625 54.296875 48.78125 52.59375 \r\n",
       "z\r\n",
       "\" id=\"DejaVuSans-99\"/>\r\n",
       "      <path id=\"DejaVuSans-32\"/>\r\n",
       "      <path d=\"M 31.78125 66.40625 \r\n",
       "Q 24.171875 66.40625 20.328125 58.90625 \r\n",
       "Q 16.5 51.421875 16.5 36.375 \r\n",
       "Q 16.5 21.390625 20.328125 13.890625 \r\n",
       "Q 24.171875 6.390625 31.78125 6.390625 \r\n",
       "Q 39.453125 6.390625 43.28125 13.890625 \r\n",
       "Q 47.125 21.390625 47.125 36.375 \r\n",
       "Q 47.125 51.421875 43.28125 58.90625 \r\n",
       "Q 39.453125 66.40625 31.78125 66.40625 \r\n",
       "z\r\n",
       "M 31.78125 74.21875 \r\n",
       "Q 44.046875 74.21875 50.515625 64.515625 \r\n",
       "Q 56.984375 54.828125 56.984375 36.375 \r\n",
       "Q 56.984375 17.96875 50.515625 8.265625 \r\n",
       "Q 44.046875 -1.421875 31.78125 -1.421875 \r\n",
       "Q 19.53125 -1.421875 13.0625 8.265625 \r\n",
       "Q 6.59375 17.96875 6.59375 36.375 \r\n",
       "Q 6.59375 54.828125 13.0625 64.515625 \r\n",
       "Q 19.53125 74.21875 31.78125 74.21875 \r\n",
       "z\r\n",
       "\" id=\"DejaVuSans-48\"/>\r\n",
       "     </defs>\r\n",
       "     <use xlink:href=\"#DejaVuSans-84\"/>\r\n",
       "     <use x=\"44.083984\" xlink:href=\"#DejaVuSans-111\"/>\r\n",
       "     <use x=\"105.265625\" xlink:href=\"#DejaVuSans-112\"/>\r\n",
       "     <use x=\"168.742188\" xlink:href=\"#DejaVuSans-105\"/>\r\n",
       "     <use x=\"196.525391\" xlink:href=\"#DejaVuSans-99\"/>\r\n",
       "     <use x=\"251.505859\" xlink:href=\"#DejaVuSans-32\"/>\r\n",
       "     <use x=\"283.292969\" xlink:href=\"#DejaVuSans-48\"/>\r\n",
       "    </g>\r\n",
       "   </g>\r\n",
       "  </g>\r\n",
       "  <g id=\"axes_2\">\r\n",
       "   <g clip-path=\"url(#p3c3ebc9e41)\">\r\n",
       "    <image height=\"248\" id=\"image62693f7492\" transform=\"scale(1 -1)translate(0 -248)\" width=\"344\" x=\"361.8\" xlink:href=\"data:image/png;base64,\r\n",
       "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\" y=\"-24.8935\"/>\r\n",
       "   </g>\r\n",
       "   <g id=\"text_2\">\r\n",
       "    <!-- Topic 1 -->\r\n",
       "    <g transform=\"translate(505.94625 19.3575)scale(0.16 -0.16)\">\r\n",
       "     <defs>\r\n",
       "      <path d=\"M 12.40625 8.296875 \r\n",
       "L 28.515625 8.296875 \r\n",
       "L 28.515625 63.921875 \r\n",
       "L 10.984375 60.40625 \r\n",
       "L 10.984375 69.390625 \r\n",
       "L 28.421875 72.90625 \r\n",
       "L 38.28125 72.90625 \r\n",
       "L 38.28125 8.296875 \r\n",
       "L 54.390625 8.296875 \r\n",
       "L 54.390625 0 \r\n",
       "L 12.40625 0 \r\n",
       "z\r\n",
       "\" id=\"DejaVuSans-49\"/>\r\n",
       "     </defs>\r\n",
       "     <use xlink:href=\"#DejaVuSans-84\"/>\r\n",
       "     <use x=\"44.083984\" xlink:href=\"#DejaVuSans-111\"/>\r\n",
       "     <use x=\"105.265625\" xlink:href=\"#DejaVuSans-112\"/>\r\n",
       "     <use x=\"168.742188\" xlink:href=\"#DejaVuSans-105\"/>\r\n",
       "     <use x=\"196.525391\" xlink:href=\"#DejaVuSans-99\"/>\r\n",
       "     <use x=\"251.505859\" xlink:href=\"#DejaVuSans-32\"/>\r\n",
       "     <use x=\"283.292969\" xlink:href=\"#DejaVuSans-49\"/>\r\n",
       "    </g>\r\n",
       "   </g>\r\n",
       "  </g>\r\n",
       "  <g id=\"axes_3\">\r\n",
       "   <g clip-path=\"url(#p62daf4887c)\">\r\n",
       "    <image height=\"248\" id=\"image64ee9c67ef\" transform=\"scale(1 -1)translate(0 -248)\" width=\"344\" x=\"7.2\" xlink:href=\"data:image/png;base64,\r\n",
       "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\" y=\"-353.0335\"/>\r\n",
       "   </g>\r\n",
       "   <g id=\"text_3\">\r\n",
       "    <!-- Topic 2 -->\r\n",
       "    <g transform=\"translate(151.34625 347.4975)scale(0.16 -0.16)\">\r\n",
       "     <defs>\r\n",
       "      <path d=\"M 19.1875 8.296875 \r\n",
       "L 53.609375 8.296875 \r\n",
       "L 53.609375 0 \r\n",
       "L 7.328125 0 \r\n",
       "L 7.328125 8.296875 \r\n",
       "Q 12.9375 14.109375 22.625 23.890625 \r\n",
       "Q 32.328125 33.6875 34.8125 36.53125 \r\n",
       "Q 39.546875 41.84375 41.421875 45.53125 \r\n",
       "Q 43.3125 49.21875 43.3125 52.78125 \r\n",
       "Q 43.3125 58.59375 39.234375 62.25 \r\n",
       "Q 35.15625 65.921875 28.609375 65.921875 \r\n",
       "Q 23.96875 65.921875 18.8125 64.3125 \r\n",
       "Q 13.671875 62.703125 7.8125 59.421875 \r\n",
       "L 7.8125 69.390625 \r\n",
       "Q 13.765625 71.78125 18.9375 73 \r\n",
       "Q 24.125 74.21875 28.421875 74.21875 \r\n",
       "Q 39.75 74.21875 46.484375 68.546875 \r\n",
       "Q 53.21875 62.890625 53.21875 53.421875 \r\n",
       "Q 53.21875 48.921875 51.53125 44.890625 \r\n",
       "Q 49.859375 40.875 45.40625 35.40625 \r\n",
       "Q 44.1875 33.984375 37.640625 27.21875 \r\n",
       "Q 31.109375 20.453125 19.1875 8.296875 \r\n",
       "z\r\n",
       "\" id=\"DejaVuSans-50\"/>\r\n",
       "     </defs>\r\n",
       "     <use xlink:href=\"#DejaVuSans-84\"/>\r\n",
       "     <use x=\"44.083984\" xlink:href=\"#DejaVuSans-111\"/>\r\n",
       "     <use x=\"105.265625\" xlink:href=\"#DejaVuSans-112\"/>\r\n",
       "     <use x=\"168.742188\" xlink:href=\"#DejaVuSans-105\"/>\r\n",
       "     <use x=\"196.525391\" xlink:href=\"#DejaVuSans-99\"/>\r\n",
       "     <use x=\"251.505859\" xlink:href=\"#DejaVuSans-32\"/>\r\n",
       "     <use x=\"283.292969\" xlink:href=\"#DejaVuSans-50\"/>\r\n",
       "    </g>\r\n",
       "   </g>\r\n",
       "  </g>\r\n",
       "  <g id=\"axes_4\">\r\n",
       "   <g clip-path=\"url(#p6f722f51c1)\">\r\n",
       "    <image height=\"248\" id=\"imagec8f76266ca\" transform=\"scale(1 -1)translate(0 -248)\" width=\"344\" x=\"361.8\" xlink:href=\"data:image/png;base64,\r\n",
       "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\" y=\"-353.0335\"/>\r\n",
       "   </g>\r\n",
       "   <g id=\"text_4\">\r\n",
       "    <!-- Topic 3 -->\r\n",
       "    <g transform=\"translate(505.94625 347.4975)scale(0.16 -0.16)\">\r\n",
       "     <defs>\r\n",
       "      <path d=\"M 40.578125 39.3125 \r\n",
       "Q 47.65625 37.796875 51.625 33 \r\n",
       "Q 55.609375 28.21875 55.609375 21.1875 \r\n",
       "Q 55.609375 10.40625 48.1875 4.484375 \r\n",
       "Q 40.765625 -1.421875 27.09375 -1.421875 \r\n",
       "Q 22.515625 -1.421875 17.65625 -0.515625 \r\n",
       "Q 12.796875 0.390625 7.625 2.203125 \r\n",
       "L 7.625 11.71875 \r\n",
       "Q 11.71875 9.328125 16.59375 8.109375 \r\n",
       "Q 21.484375 6.890625 26.8125 6.890625 \r\n",
       "Q 36.078125 6.890625 40.9375 10.546875 \r\n",
       "Q 45.796875 14.203125 45.796875 21.1875 \r\n",
       "Q 45.796875 27.640625 41.28125 31.265625 \r\n",
       "Q 36.765625 34.90625 28.71875 34.90625 \r\n",
       "L 20.21875 34.90625 \r\n",
       "L 20.21875 43.015625 \r\n",
       "L 29.109375 43.015625 \r\n",
       "Q 36.375 43.015625 40.234375 45.921875 \r\n",
       "Q 44.09375 48.828125 44.09375 54.296875 \r\n",
       "Q 44.09375 59.90625 40.109375 62.90625 \r\n",
       "Q 36.140625 65.921875 28.71875 65.921875 \r\n",
       "Q 24.65625 65.921875 20.015625 65.03125 \r\n",
       "Q 15.375 64.15625 9.8125 62.3125 \r\n",
       "L 9.8125 71.09375 \r\n",
       "Q 15.4375 72.65625 20.34375 73.4375 \r\n",
       "Q 25.25 74.21875 29.59375 74.21875 \r\n",
       "Q 40.828125 74.21875 47.359375 69.109375 \r\n",
       "Q 53.90625 64.015625 53.90625 55.328125 \r\n",
       "Q 53.90625 49.265625 50.4375 45.09375 \r\n",
       "Q 46.96875 40.921875 40.578125 39.3125 \r\n",
       "z\r\n",
       "\" id=\"DejaVuSans-51\"/>\r\n",
       "     </defs>\r\n",
       "     <use xlink:href=\"#DejaVuSans-84\"/>\r\n",
       "     <use x=\"44.083984\" xlink:href=\"#DejaVuSans-111\"/>\r\n",
       "     <use x=\"105.265625\" xlink:href=\"#DejaVuSans-112\"/>\r\n",
       "     <use x=\"168.742188\" xlink:href=\"#DejaVuSans-105\"/>\r\n",
       "     <use x=\"196.525391\" xlink:href=\"#DejaVuSans-99\"/>\r\n",
       "     <use x=\"251.505859\" xlink:href=\"#DejaVuSans-32\"/>\r\n",
       "     <use x=\"283.292969\" xlink:href=\"#DejaVuSans-51\"/>\r\n",
       "    </g>\r\n",
       "   </g>\r\n",
       "  </g>\r\n",
       " </g>\r\n",
       " <defs>\r\n",
       "  <clipPath id=\"p12500d25e1\">\r\n",
       "   <rect height=\"247.536\" width=\"343.8\" x=\"7.2\" y=\"25.3575\"/>\r\n",
       "  </clipPath>\r\n",
       "  <clipPath id=\"p3c3ebc9e41\">\r\n",
       "   <rect height=\"247.536\" width=\"343.8\" x=\"361.8\" y=\"25.3575\"/>\r\n",
       "  </clipPath>\r\n",
       "  <clipPath id=\"p62daf4887c\">\r\n",
       "   <rect height=\"247.536\" width=\"343.8\" x=\"7.2\" y=\"353.4975\"/>\r\n",
       "  </clipPath>\r\n",
       "  <clipPath id=\"p6f722f51c1\">\r\n",
       "   <rect height=\"247.536\" width=\"343.8\" x=\"361.8\" y=\"353.4975\"/>\r\n",
       "  </clipPath>\r\n",
       " </defs>\r\n",
       "</svg>\r\n"
      ],
      "text/plain": [
       "<Figure size 720x720 with 4 Axes>"
      ]
     },
     "metadata": {
      "needs_background": "light"
     },
     "output_type": "display_data"
    },
    {
     "data": {
      "text/plain": [
       "<Figure size 432x288 with 0 Axes>"
      ]
     },
     "metadata": {},
     "output_type": "display_data"
    }
   ],
   "source": [
    "cols = [color for name, color in mcolors.TABLEAU_COLORS.items()]  # more colors: 'mcolors.XKCD_COLORS'\n",
    "\n",
    "cloud = WordCloud(stopwords=stop,\n",
    "                  background_color='white',\n",
    "                  width=2500,\n",
    "                  height=1800,\n",
    "                  max_words=10,\n",
    "                  colormap='tab10',\n",
    "                  color_func=lambda *args, **kwargs: cols[i],\n",
    "                  prefer_horizontal=1.0)\n",
    "\n",
    "topics1 = lda1.show_topics(formatted=False)\n",
    "\n",
    "fig, axes = plt.subplots(2, 2, figsize=(10,10), sharex=True, sharey=True)\n",
    "\n",
    "for i, ax in enumerate(axes.flatten()):\n",
    "    fig.add_subplot(ax)\n",
    "    topic_words1 = dict(topics1[i][1])\n",
    "    cloud.generate_from_frequencies(topic_words1, max_font_size=300)\n",
    "    plt.gca().imshow(cloud)\n",
    "    plt.gca().set_title('Topic ' + str(i), fontdict=dict(size=16))\n",
    "    plt.gca().axis('off')\n",
    "\n",
    "plt.subplots_adjust(wspace=0, hspace=0)\n",
    "plt.axis('off')\n",
    "plt.margins(x=0, y=0)\n",
    "plt.tight_layout()\n",
    "plt.show()\n",
    "\n",
    "plt.savefig(r'fig/wc_bigram_lda-4.svg')"
   ]
  },
  {
   "cell_type": "code",
   "execution_count": null,
   "metadata": {
    "ExecuteTime": {
     "end_time": "2020-02-28T05:40:20.349269Z",
     "start_time": "2020-02-28T05:34:26.758846Z"
    }
   },
   "outputs": [],
   "source": [
    "lda2 = models.LdaModel(corpus=corpus, num_topics=6, id2word=id2word, passes=10)"
   ]
  },
  {
   "cell_type": "code",
   "execution_count": null,
   "metadata": {
    "ExecuteTime": {
     "end_time": "2020-02-28T05:40:38.051941Z",
     "start_time": "2020-02-28T05:40:38.038934Z"
    }
   },
   "outputs": [],
   "source": [
    "lda2.print_topics()"
   ]
  },
  {
   "cell_type": "code",
   "execution_count": null,
   "metadata": {
    "ExecuteTime": {
     "end_time": "2020-02-28T05:40:38.661228Z",
     "start_time": "2020-02-28T05:40:38.656061Z"
    }
   },
   "outputs": [],
   "source": [
    "lda_corpus2 = lda2[corpus]\n",
    "lda_corpus2"
   ]
  },
  {
   "cell_type": "code",
   "execution_count": null,
   "metadata": {
    "ExecuteTime": {
     "end_time": "2020-02-28T05:41:07.876633Z",
     "start_time": "2020-02-28T05:40:39.317362Z"
    }
   },
   "outputs": [],
   "source": [
    "lda_docs2 = [doc for doc in lda_corpus2]"
   ]
  },
  {
   "cell_type": "code",
   "execution_count": null,
   "metadata": {
    "ExecuteTime": {
     "end_time": "2020-02-28T05:41:07.884108Z",
     "start_time": "2020-02-28T05:41:07.878983Z"
    }
   },
   "outputs": [],
   "source": [
    "lda_docs2[0:5]"
   ]
  },
  {
   "cell_type": "code",
   "execution_count": null,
   "metadata": {
    "ExecuteTime": {
     "end_time": "2020-02-28T05:41:14.227333Z",
     "start_time": "2020-02-28T05:41:07.886442Z"
    }
   },
   "outputs": [],
   "source": [
    "cols = [color for name, color in mcolors.TABLEAU_COLORS.items()]  # more colors: 'mcolors.XKCD_COLORS'\n",
    "\n",
    "cloud = WordCloud(stopwords=stop,\n",
    "                  background_color='white',\n",
    "                  width=2500,\n",
    "                  height=1800,\n",
    "                  max_words=10,\n",
    "                  colormap='tab10',\n",
    "                  color_func=lambda *args, **kwargs: cols[i],\n",
    "                  prefer_horizontal=1.0)\n",
    "\n",
    "topics2 = lda2.show_topics(formatted=False)\n",
    "\n",
    "fig, axes = plt.subplots(2, 3, figsize=(12,10), sharex=True, sharey=True)\n",
    "\n",
    "for i, ax in enumerate(axes.flatten()):\n",
    "    fig.add_subplot(ax)\n",
    "    topic_words2 = dict(topics2[i][1])\n",
    "    cloud.generate_from_frequencies(topic_words2, max_font_size=300)\n",
    "    plt.gca().imshow(cloud)\n",
    "    plt.gca().set_title('Topic ' + str(i), fontdict=dict(size=16))\n",
    "    plt.gca().axis('off')\n",
    "\n",
    "plt.subplots_adjust(wspace=0, hspace=0)\n",
    "plt.axis('off')\n",
    "plt.margins(x=0, y=0)\n",
    "plt.tight_layout()\n",
    "plt.show()\n",
    "\n",
    "plt.savefig(r'fig/wc_bigram_lda-6.svg')"
   ]
  },
  {
   "cell_type": "code",
   "execution_count": null,
   "metadata": {},
   "outputs": [],
   "source": []
  }
 ],
 "metadata": {
  "kernelspec": {
   "display_name": "Python 3",
   "language": "python",
   "name": "python3"
  },
  "language_info": {
   "codemirror_mode": {
    "name": "ipython",
    "version": 3
   },
   "file_extension": ".py",
   "mimetype": "text/x-python",
   "name": "python",
   "nbconvert_exporter": "python",
   "pygments_lexer": "ipython3",
   "version": "3.8.8"
  },
  "latex_envs": {
   "LaTeX_envs_menu_present": true,
   "autoclose": false,
   "autocomplete": true,
   "bibliofile": "biblio.bib",
   "cite_by": "apalike",
   "current_citInitial": 1,
   "eqLabelWithNumbers": true,
   "eqNumInitial": 1,
   "hotkeys": {
    "equation": "Ctrl-E",
    "itemize": "Ctrl-I"
   },
   "labels_anchors": false,
   "latex_user_defs": false,
   "report_style_numbering": false,
   "user_envs_cfg": false
  }
 },
 "nbformat": 4,
 "nbformat_minor": 2
}
