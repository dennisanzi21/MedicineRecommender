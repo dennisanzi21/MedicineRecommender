{
 "cells": [
  {
   "cell_type": "code",
   "execution_count": 1,
   "metadata": {
    "ExecuteTime": {
     "end_time": "2020-02-28T07:47:28.019418Z",
     "start_time": "2020-02-28T07:47:25.762612Z"
    }
   },
   "outputs": [],
   "source": [
    "import pandas as pd\n",
    "import numpy as np\n",
    "\n",
    "import matplotlib.pyplot as plt\n",
    "import seaborn as sns\n",
    "from mlxtend.plotting import plot_decision_regions\n",
    "\n",
    "plt.style.use('ggplot')\n",
    "%config InlineBackend.figure_format = 'svg'\n",
    "%matplotlib inline\n",
    "np.set_printoptions(suppress=True) # Suppress scientific notation where possible"
   ]
  },
  {
   "cell_type": "code",
   "execution_count": 2,
   "metadata": {
    "ExecuteTime": {
     "end_time": "2020-02-28T07:47:28.556370Z",
     "start_time": "2020-02-28T07:47:28.021578Z"
    }
   },
   "outputs": [],
   "source": [
    "from sklearn.feature_extraction.text import CountVectorizer\n",
    "from gensim import corpora, models, similarities, matutils\n",
    "from sklearn.decomposition import TruncatedSVD\n",
    "from sklearn.metrics.pairwise import cosine_similarity"
   ]
  },
  {
   "cell_type": "markdown",
   "metadata": {},
   "source": [
    "### Import cleaned datasets"
   ]
  },
  {
   "cell_type": "code",
   "execution_count": 3,
   "metadata": {
    "ExecuteTime": {
     "end_time": "2020-02-28T07:47:29.047017Z",
     "start_time": "2020-02-28T07:47:28.558662Z"
    }
   },
   "outputs": [],
   "source": [
    "df_train_s = pd.read_csv(r'df_train.csv')"
   ]
  },
  {
   "cell_type": "code",
   "execution_count": 4,
   "metadata": {
    "ExecuteTime": {
     "end_time": "2020-02-28T07:47:29.100921Z",
     "start_time": "2020-02-28T07:47:29.049613Z"
    }
   },
   "outputs": [
    {
     "name": "stdout",
     "output_type": "stream",
     "text": [
      "<class 'pandas.core.frame.DataFrame'>\n",
      "RangeIndex: 148387 entries, 0 to 148386\n",
      "Data columns (total 5 columns):\n",
      " #   Column       Non-Null Count   Dtype  \n",
      "---  ------       --------------   -----  \n",
      " 0   drugName     148387 non-null  object \n",
      " 1   condition    148387 non-null  object \n",
      " 2   rating       148387 non-null  float64\n",
      " 3   usefulCount  148387 non-null  int64  \n",
      " 4   review       148386 non-null  object \n",
      "dtypes: float64(1), int64(1), object(3)\n",
      "memory usage: 5.7+ MB\n"
     ]
    }
   ],
   "source": [
    "df_train_s.info()"
   ]
  },
  {
   "cell_type": "code",
   "execution_count": 5,
   "metadata": {
    "ExecuteTime": {
     "end_time": "2020-02-28T07:47:29.159263Z",
     "start_time": "2020-02-28T07:47:29.103818Z"
    }
   },
   "outputs": [],
   "source": [
    "#drop Nan value\n",
    "df_train_s.dropna(inplace=True)"
   ]
  },
  {
   "cell_type": "code",
   "execution_count": 6,
   "metadata": {
    "ExecuteTime": {
     "end_time": "2020-02-28T07:47:29.166672Z",
     "start_time": "2020-02-28T07:47:29.161550Z"
    }
   },
   "outputs": [],
   "source": [
    "df_train_s.reset_index(inplace=True)"
   ]
  },
  {
   "cell_type": "code",
   "execution_count": 7,
   "metadata": {
    "ExecuteTime": {
     "end_time": "2020-02-28T07:47:33.015994Z",
     "start_time": "2020-02-28T07:47:33.008429Z"
    }
   },
   "outputs": [
    {
     "data": {
      "text/plain": [
       "0                                 ADHD\n",
       "1                        Birth Control\n",
       "2                        Birth Control\n",
       "3         Benign Prostatic Hyperplasia\n",
       "4              Emergency Contraception\n",
       "                      ...             \n",
       "148381                   Birth Control\n",
       "148382                 Nausea/Vomiting\n",
       "148383            Rheumatoid Arthritis\n",
       "148384             Underactive Thyroid\n",
       "148385           Constipation, Chronic\n",
       "Name: condition, Length: 148386, dtype: object"
      ]
     },
     "execution_count": 7,
     "metadata": {},
     "output_type": "execute_result"
    }
   ],
   "source": [
    "df_train_s['condition']\n"
   ]
  },
  {
   "cell_type": "code",
   "execution_count": 8,
   "metadata": {
    "ExecuteTime": {
     "end_time": "2020-02-28T07:47:33.484383Z",
     "start_time": "2020-02-28T07:47:33.479704Z"
    }
   },
   "outputs": [],
   "source": [
    "condition_list=df_train_s['condition'].tolist()"
   ]
  },
  {
   "cell_type": "code",
   "execution_count": 9,
   "metadata": {
    "ExecuteTime": {
     "end_time": "2020-02-28T07:47:34.426886Z",
     "start_time": "2020-02-28T07:47:34.423802Z"
    }
   },
   "outputs": [],
   "source": [
    "corpus_train=df_train_s.review\n",
    "# corpus_test=df_test_s.review"
   ]
  },
  {
   "cell_type": "code",
   "execution_count": 10,
   "metadata": {
    "ExecuteTime": {
     "end_time": "2020-02-28T07:47:35.816603Z",
     "start_time": "2020-02-28T07:47:34.996440Z"
    }
   },
   "outputs": [],
   "source": [
    "#custom stopwords\n",
    "from nltk.corpus import stopwords\n",
    "\n",
    "stop = set(stopwords.words('english'))\n",
    "n = [\"aren't\",\"couldn't\",\"didn't\",\"doesn't\",\"don't\",\"hadn't\",\"hasn't\",\"haven't\",\"isn't\",\n",
    "     \"mightn't\",\"mustn't\",\"needn't\",\"no\",\"nor\",\"not\",\"shan't\",\"shouldn't\",\"wasn't\",\"weren't\",\"wouldn't\"]\n",
    "for i in n:\n",
    "    stop.remove(i)\n",
    "\n",
    "a = ['mg', 'week', 'month', 'day', 'january', 'february', 'march', 'april', 'may', 'june', 'july', \n",
    "     'august', 'september','october','november','december', 'iv','oral','pound',]\n",
    "for j in a:\n",
    "    stop.add(j)"
   ]
  },
  {
   "cell_type": "markdown",
   "metadata": {},
   "source": [
    "### CountVectorizer"
   ]
  },
  {
   "cell_type": "code",
   "execution_count": 11,
   "metadata": {
    "ExecuteTime": {
     "end_time": "2020-02-28T07:47:49.143780Z",
     "start_time": "2020-02-28T07:47:36.206929Z"
    }
   },
   "outputs": [
    {
     "data": {
      "text/plain": [
       "CountVectorizer(max_df=0.8, min_df=0.01, ngram_range=(1, 2))"
      ]
     },
     "execution_count": 11,
     "metadata": {},
     "output_type": "execute_result"
    }
   ],
   "source": [
    "# Create a CountVectorizer for parsing/counting words\n",
    "cv = CountVectorizer(ngram_range=(1, 2), min_df=0.01, max_df=0.8)\n",
    "# cv = CountVectorizer(ngram_range=(2, 2), min_df=10, max_df=0.8)\n",
    "\n",
    "cv.fit(corpus_train)"
   ]
  },
  {
   "cell_type": "code",
   "execution_count": 12,
   "metadata": {
    "ExecuteTime": {
     "end_time": "2020-02-28T07:48:09.744295Z",
     "start_time": "2020-02-28T07:48:02.744254Z"
    }
   },
   "outputs": [],
   "source": [
    "doc_word = cv.transform(corpus_train).transpose()"
   ]
  },
  {
   "cell_type": "code",
   "execution_count": 13,
   "metadata": {
    "ExecuteTime": {
     "end_time": "2020-02-28T07:48:16.240356Z",
     "start_time": "2020-02-28T07:48:09.746913Z"
    }
   },
   "outputs": [
    {
     "data": {
      "text/html": [
       "<div>\n",
       "<style scoped>\n",
       "    .dataframe tbody tr th:only-of-type {\n",
       "        vertical-align: middle;\n",
       "    }\n",
       "\n",
       "    .dataframe tbody tr th {\n",
       "        vertical-align: top;\n",
       "    }\n",
       "\n",
       "    .dataframe thead th {\n",
       "        text-align: right;\n",
       "    }\n",
       "</style>\n",
       "<table border=\"1\" class=\"dataframe\">\n",
       "  <thead>\n",
       "    <tr style=\"text-align: right;\">\n",
       "      <th></th>\n",
       "      <th>0</th>\n",
       "      <th>1</th>\n",
       "      <th>2</th>\n",
       "      <th>3</th>\n",
       "      <th>4</th>\n",
       "      <th>5</th>\n",
       "      <th>6</th>\n",
       "      <th>7</th>\n",
       "      <th>8</th>\n",
       "      <th>9</th>\n",
       "      <th>...</th>\n",
       "      <th>148376</th>\n",
       "      <th>148377</th>\n",
       "      <th>148378</th>\n",
       "      <th>148379</th>\n",
       "      <th>148380</th>\n",
       "      <th>148381</th>\n",
       "      <th>148382</th>\n",
       "      <th>148383</th>\n",
       "      <th>148384</th>\n",
       "      <th>148385</th>\n",
       "    </tr>\n",
       "  </thead>\n",
       "  <tbody>\n",
       "    <tr>\n",
       "      <th>able</th>\n",
       "      <td>0</td>\n",
       "      <td>0</td>\n",
       "      <td>0</td>\n",
       "      <td>0</td>\n",
       "      <td>0</td>\n",
       "      <td>0</td>\n",
       "      <td>0</td>\n",
       "      <td>0</td>\n",
       "      <td>0</td>\n",
       "      <td>0</td>\n",
       "      <td>...</td>\n",
       "      <td>0</td>\n",
       "      <td>0</td>\n",
       "      <td>0</td>\n",
       "      <td>0</td>\n",
       "      <td>0</td>\n",
       "      <td>0</td>\n",
       "      <td>0</td>\n",
       "      <td>0</td>\n",
       "      <td>0</td>\n",
       "      <td>0</td>\n",
       "    </tr>\n",
       "    <tr>\n",
       "      <th>absolutely</th>\n",
       "      <td>0</td>\n",
       "      <td>0</td>\n",
       "      <td>0</td>\n",
       "      <td>0</td>\n",
       "      <td>0</td>\n",
       "      <td>0</td>\n",
       "      <td>0</td>\n",
       "      <td>0</td>\n",
       "      <td>0</td>\n",
       "      <td>0</td>\n",
       "      <td>...</td>\n",
       "      <td>0</td>\n",
       "      <td>0</td>\n",
       "      <td>0</td>\n",
       "      <td>0</td>\n",
       "      <td>0</td>\n",
       "      <td>0</td>\n",
       "      <td>0</td>\n",
       "      <td>0</td>\n",
       "      <td>0</td>\n",
       "      <td>0</td>\n",
       "    </tr>\n",
       "    <tr>\n",
       "      <th>ache</th>\n",
       "      <td>0</td>\n",
       "      <td>0</td>\n",
       "      <td>0</td>\n",
       "      <td>1</td>\n",
       "      <td>0</td>\n",
       "      <td>0</td>\n",
       "      <td>0</td>\n",
       "      <td>0</td>\n",
       "      <td>0</td>\n",
       "      <td>0</td>\n",
       "      <td>...</td>\n",
       "      <td>0</td>\n",
       "      <td>0</td>\n",
       "      <td>0</td>\n",
       "      <td>0</td>\n",
       "      <td>0</td>\n",
       "      <td>0</td>\n",
       "      <td>0</td>\n",
       "      <td>0</td>\n",
       "      <td>0</td>\n",
       "      <td>0</td>\n",
       "    </tr>\n",
       "    <tr>\n",
       "      <th>acne</th>\n",
       "      <td>0</td>\n",
       "      <td>0</td>\n",
       "      <td>0</td>\n",
       "      <td>0</td>\n",
       "      <td>0</td>\n",
       "      <td>0</td>\n",
       "      <td>0</td>\n",
       "      <td>2</td>\n",
       "      <td>0</td>\n",
       "      <td>0</td>\n",
       "      <td>...</td>\n",
       "      <td>0</td>\n",
       "      <td>0</td>\n",
       "      <td>0</td>\n",
       "      <td>0</td>\n",
       "      <td>0</td>\n",
       "      <td>0</td>\n",
       "      <td>0</td>\n",
       "      <td>0</td>\n",
       "      <td>0</td>\n",
       "      <td>0</td>\n",
       "    </tr>\n",
       "    <tr>\n",
       "      <th>active</th>\n",
       "      <td>0</td>\n",
       "      <td>0</td>\n",
       "      <td>0</td>\n",
       "      <td>0</td>\n",
       "      <td>0</td>\n",
       "      <td>0</td>\n",
       "      <td>0</td>\n",
       "      <td>0</td>\n",
       "      <td>0</td>\n",
       "      <td>0</td>\n",
       "      <td>...</td>\n",
       "      <td>0</td>\n",
       "      <td>0</td>\n",
       "      <td>0</td>\n",
       "      <td>0</td>\n",
       "      <td>0</td>\n",
       "      <td>0</td>\n",
       "      <td>0</td>\n",
       "      <td>0</td>\n",
       "      <td>0</td>\n",
       "      <td>0</td>\n",
       "    </tr>\n",
       "  </tbody>\n",
       "</table>\n",
       "<p>5 rows × 148386 columns</p>\n",
       "</div>"
      ],
      "text/plain": [
       "            0       1       2       3       4       5       6       7       \\\n",
       "able             0       0       0       0       0       0       0       0   \n",
       "absolutely       0       0       0       0       0       0       0       0   \n",
       "ache             0       0       0       1       0       0       0       0   \n",
       "acne             0       0       0       0       0       0       0       2   \n",
       "active           0       0       0       0       0       0       0       0   \n",
       "\n",
       "            8       9       ...  148376  148377  148378  148379  148380  \\\n",
       "able             0       0  ...       0       0       0       0       0   \n",
       "absolutely       0       0  ...       0       0       0       0       0   \n",
       "ache             0       0  ...       0       0       0       0       0   \n",
       "acne             0       0  ...       0       0       0       0       0   \n",
       "active           0       0  ...       0       0       0       0       0   \n",
       "\n",
       "            148381  148382  148383  148384  148385  \n",
       "able             0       0       0       0       0  \n",
       "absolutely       0       0       0       0       0  \n",
       "ache             0       0       0       0       0  \n",
       "acne             0       0       0       0       0  \n",
       "active           0       0       0       0       0  \n",
       "\n",
       "[5 rows x 148386 columns]"
      ]
     },
     "execution_count": 13,
     "metadata": {},
     "output_type": "execute_result"
    }
   ],
   "source": [
    "pd.DataFrame(doc_word.toarray(), cv.get_feature_names()).head()"
   ]
  },
  {
   "cell_type": "code",
   "execution_count": 14,
   "metadata": {
    "ExecuteTime": {
     "end_time": "2020-02-28T07:48:16.245247Z",
     "start_time": "2020-02-28T07:48:16.242752Z"
    }
   },
   "outputs": [],
   "source": [
    "corpus = matutils.Sparse2Corpus(doc_word)"
   ]
  },
  {
   "cell_type": "code",
   "execution_count": 15,
   "metadata": {
    "ExecuteTime": {
     "end_time": "2020-02-28T07:48:17.507913Z",
     "start_time": "2020-02-28T07:48:17.479216Z"
    }
   },
   "outputs": [],
   "source": [
    "id2word = dict((v, k) for k, v in cv.vocabulary_.items())"
   ]
  },
  {
   "cell_type": "code",
   "execution_count": 16,
   "metadata": {
    "ExecuteTime": {
     "end_time": "2020-02-28T07:48:18.131450Z",
     "start_time": "2020-02-28T07:48:18.126570Z"
    }
   },
   "outputs": [
    {
     "data": {
      "text/plain": [
       "703"
      ]
     },
     "execution_count": 16,
     "metadata": {},
     "output_type": "execute_result"
    }
   ],
   "source": [
    "len(id2word)"
   ]
  },
  {
   "cell_type": "markdown",
   "metadata": {},
   "source": [
    "### LDA"
   ]
  },
  {
   "cell_type": "code",
   "execution_count": 17,
   "metadata": {
    "ExecuteTime": {
     "end_time": "2020-02-28T07:48:29.021169Z",
     "start_time": "2020-02-28T07:48:18.817825Z"
    },
    "scrolled": true
   },
   "outputs": [],
   "source": [
    "lda = models.LdaModel(corpus=corpus, num_topics=2, id2word=id2word, passes=10)"
   ]
  },
  {
   "cell_type": "code",
   "execution_count": 18,
   "metadata": {
    "ExecuteTime": {
     "end_time": "2020-02-28T07:48:29.024401Z",
     "start_time": "2020-02-28T07:48:19.438Z"
    }
   },
   "outputs": [
    {
     "data": {
      "text/plain": [
       "[(0,\n",
       "  '0.017*\"not\" + 0.015*\"effect\" + 0.014*\"year\" + 0.014*\"pain\" + 0.014*\"side\" + 0.013*\"take\" + 0.013*\"side effect\" + 0.013*\"taking\" + 0.011*\"time\" + 0.011*\"work\"'),\n",
       " (1,\n",
       "  '0.024*\"period\" + 0.023*\"pill\" + 0.017*\"not\" + 0.017*\"month\" + 0.016*\"weight\" + 0.015*\"no\" + 0.012*\"first\" + 0.012*\"control\" + 0.012*\"year\" + 0.010*\"got\"')]"
      ]
     },
     "execution_count": 18,
     "metadata": {},
     "output_type": "execute_result"
    }
   ],
   "source": [
    "lda.print_topics()"
   ]
  },
  {
   "cell_type": "code",
   "execution_count": 19,
   "metadata": {
    "ExecuteTime": {
     "end_time": "2020-02-28T07:48:29.026136Z",
     "start_time": "2020-02-28T07:48:20.862Z"
    }
   },
   "outputs": [
    {
     "data": {
      "text/plain": [
       "<gensim.interfaces.TransformedCorpus at 0x21763187a30>"
      ]
     },
     "execution_count": 19,
     "metadata": {},
     "output_type": "execute_result"
    }
   ],
   "source": [
    "lda_corpus = lda[corpus]\n",
    "lda_corpus"
   ]
  },
  {
   "cell_type": "code",
   "execution_count": 20,
   "metadata": {
    "ExecuteTime": {
     "end_time": "2020-02-28T05:25:29.134075Z",
     "start_time": "2020-02-28T05:24:53.909104Z"
    }
   },
   "outputs": [],
   "source": [
    "lda_docs = [doc for doc in lda_corpus]"
   ]
  },
  {
   "cell_type": "code",
   "execution_count": 21,
   "metadata": {
    "ExecuteTime": {
     "end_time": "2020-02-28T05:25:41.623550Z",
     "start_time": "2020-02-28T05:25:41.618137Z"
    }
   },
   "outputs": [
    {
     "data": {
      "text/plain": [
       "[[(0, 0.83381414), (1, 0.16618584)],\n",
       " [(0, 0.033627026), (1, 0.96637297)],\n",
       " [(0, 0.016490808), (1, 0.9835092)],\n",
       " [(0, 0.9771683), (1, 0.022831758)],\n",
       " [(0, 0.21549986), (1, 0.7845001)]]"
      ]
     },
     "execution_count": 21,
     "metadata": {},
     "output_type": "execute_result"
    }
   ],
   "source": [
    "lda_docs[0:5]"
   ]
  },
  {
   "cell_type": "code",
   "execution_count": 22,
   "metadata": {
    "ExecuteTime": {
     "end_time": "2020-02-28T05:25:43.769121Z",
     "start_time": "2020-02-28T05:25:43.764310Z"
    }
   },
   "outputs": [
    {
     "data": {
      "text/plain": [
       "148386"
      ]
     },
     "execution_count": 22,
     "metadata": {},
     "output_type": "execute_result"
    }
   ],
   "source": [
    "len(lda_docs)"
   ]
  },
  {
   "cell_type": "code",
   "execution_count": 23,
   "metadata": {
    "ExecuteTime": {
     "end_time": "2020-02-28T05:25:47.049609Z",
     "start_time": "2020-02-28T05:25:45.127634Z"
    },
    "scrolled": false
   },
   "outputs": [
    {
     "data": {
      "image/svg+xml": [
       "<?xml version=\"1.0\" encoding=\"utf-8\" standalone=\"no\"?>\r\n",
       "<!DOCTYPE svg PUBLIC \"-//W3C//DTD SVG 1.1//EN\"\r\n",
       "  \"http://www.w3.org/Graphics/SVG/1.1/DTD/svg11.dtd\">\r\n",
       "<!-- Created with matplotlib (https://matplotlib.org/) -->\r\n",
       "<svg height=\"280.0935pt\" version=\"1.1\" viewBox=\"0 0 712.8 280.0935\" width=\"712.8pt\" xmlns=\"http://www.w3.org/2000/svg\" xmlns:xlink=\"http://www.w3.org/1999/xlink\">\r\n",
       " <metadata>\r\n",
       "  <rdf:RDF xmlns:cc=\"http://creativecommons.org/ns#\" xmlns:dc=\"http://purl.org/dc/elements/1.1/\" xmlns:rdf=\"http://www.w3.org/1999/02/22-rdf-syntax-ns#\">\r\n",
       "   <cc:Work>\r\n",
       "    <dc:type rdf:resource=\"http://purl.org/dc/dcmitype/StillImage\"/>\r\n",
       "    <dc:date>2021-08-24T11:24:15.455999</dc:date>\r\n",
       "    <dc:format>image/svg+xml</dc:format>\r\n",
       "    <dc:creator>\r\n",
       "     <cc:Agent>\r\n",
       "      <dc:title>Matplotlib v3.3.4, https://matplotlib.org/</dc:title>\r\n",
       "     </cc:Agent>\r\n",
       "    </dc:creator>\r\n",
       "   </cc:Work>\r\n",
       "  </rdf:RDF>\r\n",
       " </metadata>\r\n",
       " <defs>\r\n",
       "  <style type=\"text/css\">*{stroke-linecap:butt;stroke-linejoin:round;}</style>\r\n",
       " </defs>\r\n",
       " <g id=\"figure_1\">\r\n",
       "  <g id=\"patch_1\">\r\n",
       "   <path d=\"M 0 280.0935 \r\n",
       "L 712.8 280.0935 \r\n",
       "L 712.8 0 \r\n",
       "L 0 0 \r\n",
       "z\r\n",
       "\" style=\"fill:none;\"/>\r\n",
       "  </g>\r\n",
       "  <g id=\"axes_1\">\r\n",
       "   <g clip-path=\"url(#p5723d4029f)\">\r\n",
       "    <image height=\"248\" id=\"imagef6cf150c49\" transform=\"scale(1 -1)translate(0 -248)\" width=\"344\" x=\"7.2\" xlink:href=\"data:image/png;base64,\r\n",
       "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\" y=\"-24.8935\"/>\r\n",
       "   </g>\r\n",
       "   <g id=\"text_1\">\r\n",
       "    <!-- Topic 0 -->\r\n",
       "    <g transform=\"translate(151.34625 19.3575)scale(0.16 -0.16)\">\r\n",
       "     <defs>\r\n",
       "      <path d=\"M -0.296875 72.90625 \r\n",
       "L 61.375 72.90625 \r\n",
       "L 61.375 64.59375 \r\n",
       "L 35.5 64.59375 \r\n",
       "L 35.5 0 \r\n",
       "L 25.59375 0 \r\n",
       "L 25.59375 64.59375 \r\n",
       "L -0.296875 64.59375 \r\n",
       "z\r\n",
       "\" id=\"DejaVuSans-84\"/>\r\n",
       "      <path d=\"M 30.609375 48.390625 \r\n",
       "Q 23.390625 48.390625 19.1875 42.75 \r\n",
       "Q 14.984375 37.109375 14.984375 27.296875 \r\n",
       "Q 14.984375 17.484375 19.15625 11.84375 \r\n",
       "Q 23.34375 6.203125 30.609375 6.203125 \r\n",
       "Q 37.796875 6.203125 41.984375 11.859375 \r\n",
       "Q 46.1875 17.53125 46.1875 27.296875 \r\n",
       "Q 46.1875 37.015625 41.984375 42.703125 \r\n",
       "Q 37.796875 48.390625 30.609375 48.390625 \r\n",
       "z\r\n",
       "M 30.609375 56 \r\n",
       "Q 42.328125 56 49.015625 48.375 \r\n",
       "Q 55.71875 40.765625 55.71875 27.296875 \r\n",
       "Q 55.71875 13.875 49.015625 6.21875 \r\n",
       "Q 42.328125 -1.421875 30.609375 -1.421875 \r\n",
       "Q 18.84375 -1.421875 12.171875 6.21875 \r\n",
       "Q 5.515625 13.875 5.515625 27.296875 \r\n",
       "Q 5.515625 40.765625 12.171875 48.375 \r\n",
       "Q 18.84375 56 30.609375 56 \r\n",
       "z\r\n",
       "\" id=\"DejaVuSans-111\"/>\r\n",
       "      <path d=\"M 18.109375 8.203125 \r\n",
       "L 18.109375 -20.796875 \r\n",
       "L 9.078125 -20.796875 \r\n",
       "L 9.078125 54.6875 \r\n",
       "L 18.109375 54.6875 \r\n",
       "L 18.109375 46.390625 \r\n",
       "Q 20.953125 51.265625 25.265625 53.625 \r\n",
       "Q 29.59375 56 35.59375 56 \r\n",
       "Q 45.5625 56 51.78125 48.09375 \r\n",
       "Q 58.015625 40.1875 58.015625 27.296875 \r\n",
       "Q 58.015625 14.40625 51.78125 6.484375 \r\n",
       "Q 45.5625 -1.421875 35.59375 -1.421875 \r\n",
       "Q 29.59375 -1.421875 25.265625 0.953125 \r\n",
       "Q 20.953125 3.328125 18.109375 8.203125 \r\n",
       "z\r\n",
       "M 48.6875 27.296875 \r\n",
       "Q 48.6875 37.203125 44.609375 42.84375 \r\n",
       "Q 40.53125 48.484375 33.40625 48.484375 \r\n",
       "Q 26.265625 48.484375 22.1875 42.84375 \r\n",
       "Q 18.109375 37.203125 18.109375 27.296875 \r\n",
       "Q 18.109375 17.390625 22.1875 11.75 \r\n",
       "Q 26.265625 6.109375 33.40625 6.109375 \r\n",
       "Q 40.53125 6.109375 44.609375 11.75 \r\n",
       "Q 48.6875 17.390625 48.6875 27.296875 \r\n",
       "z\r\n",
       "\" id=\"DejaVuSans-112\"/>\r\n",
       "      <path d=\"M 9.421875 54.6875 \r\n",
       "L 18.40625 54.6875 \r\n",
       "L 18.40625 0 \r\n",
       "L 9.421875 0 \r\n",
       "z\r\n",
       "M 9.421875 75.984375 \r\n",
       "L 18.40625 75.984375 \r\n",
       "L 18.40625 64.59375 \r\n",
       "L 9.421875 64.59375 \r\n",
       "z\r\n",
       "\" id=\"DejaVuSans-105\"/>\r\n",
       "      <path d=\"M 48.78125 52.59375 \r\n",
       "L 48.78125 44.1875 \r\n",
       "Q 44.96875 46.296875 41.140625 47.34375 \r\n",
       "Q 37.3125 48.390625 33.40625 48.390625 \r\n",
       "Q 24.65625 48.390625 19.8125 42.84375 \r\n",
       "Q 14.984375 37.3125 14.984375 27.296875 \r\n",
       "Q 14.984375 17.28125 19.8125 11.734375 \r\n",
       "Q 24.65625 6.203125 33.40625 6.203125 \r\n",
       "Q 37.3125 6.203125 41.140625 7.25 \r\n",
       "Q 44.96875 8.296875 48.78125 10.40625 \r\n",
       "L 48.78125 2.09375 \r\n",
       "Q 45.015625 0.34375 40.984375 -0.53125 \r\n",
       "Q 36.96875 -1.421875 32.421875 -1.421875 \r\n",
       "Q 20.0625 -1.421875 12.78125 6.34375 \r\n",
       "Q 5.515625 14.109375 5.515625 27.296875 \r\n",
       "Q 5.515625 40.671875 12.859375 48.328125 \r\n",
       "Q 20.21875 56 33.015625 56 \r\n",
       "Q 37.15625 56 41.109375 55.140625 \r\n",
       "Q 45.0625 54.296875 48.78125 52.59375 \r\n",
       "z\r\n",
       "\" id=\"DejaVuSans-99\"/>\r\n",
       "      <path id=\"DejaVuSans-32\"/>\r\n",
       "      <path d=\"M 31.78125 66.40625 \r\n",
       "Q 24.171875 66.40625 20.328125 58.90625 \r\n",
       "Q 16.5 51.421875 16.5 36.375 \r\n",
       "Q 16.5 21.390625 20.328125 13.890625 \r\n",
       "Q 24.171875 6.390625 31.78125 6.390625 \r\n",
       "Q 39.453125 6.390625 43.28125 13.890625 \r\n",
       "Q 47.125 21.390625 47.125 36.375 \r\n",
       "Q 47.125 51.421875 43.28125 58.90625 \r\n",
       "Q 39.453125 66.40625 31.78125 66.40625 \r\n",
       "z\r\n",
       "M 31.78125 74.21875 \r\n",
       "Q 44.046875 74.21875 50.515625 64.515625 \r\n",
       "Q 56.984375 54.828125 56.984375 36.375 \r\n",
       "Q 56.984375 17.96875 50.515625 8.265625 \r\n",
       "Q 44.046875 -1.421875 31.78125 -1.421875 \r\n",
       "Q 19.53125 -1.421875 13.0625 8.265625 \r\n",
       "Q 6.59375 17.96875 6.59375 36.375 \r\n",
       "Q 6.59375 54.828125 13.0625 64.515625 \r\n",
       "Q 19.53125 74.21875 31.78125 74.21875 \r\n",
       "z\r\n",
       "\" id=\"DejaVuSans-48\"/>\r\n",
       "     </defs>\r\n",
       "     <use xlink:href=\"#DejaVuSans-84\"/>\r\n",
       "     <use x=\"44.083984\" xlink:href=\"#DejaVuSans-111\"/>\r\n",
       "     <use x=\"105.265625\" xlink:href=\"#DejaVuSans-112\"/>\r\n",
       "     <use x=\"168.742188\" xlink:href=\"#DejaVuSans-105\"/>\r\n",
       "     <use x=\"196.525391\" xlink:href=\"#DejaVuSans-99\"/>\r\n",
       "     <use x=\"251.505859\" xlink:href=\"#DejaVuSans-32\"/>\r\n",
       "     <use x=\"283.292969\" xlink:href=\"#DejaVuSans-48\"/>\r\n",
       "    </g>\r\n",
       "   </g>\r\n",
       "  </g>\r\n",
       "  <g id=\"axes_2\">\r\n",
       "   <g clip-path=\"url(#pb0b18c8cef)\">\r\n",
       "    <image height=\"248\" id=\"image54a8710ca5\" transform=\"scale(1 -1)translate(0 -248)\" width=\"344\" x=\"361.8\" xlink:href=\"data:image/png;base64,\r\n",
       "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\" y=\"-24.8935\"/>\r\n",
       "   </g>\r\n",
       "   <g id=\"text_2\">\r\n",
       "    <!-- Topic 1 -->\r\n",
       "    <g transform=\"translate(505.94625 19.3575)scale(0.16 -0.16)\">\r\n",
       "     <defs>\r\n",
       "      <path d=\"M 12.40625 8.296875 \r\n",
       "L 28.515625 8.296875 \r\n",
       "L 28.515625 63.921875 \r\n",
       "L 10.984375 60.40625 \r\n",
       "L 10.984375 69.390625 \r\n",
       "L 28.421875 72.90625 \r\n",
       "L 38.28125 72.90625 \r\n",
       "L 38.28125 8.296875 \r\n",
       "L 54.390625 8.296875 \r\n",
       "L 54.390625 0 \r\n",
       "L 12.40625 0 \r\n",
       "z\r\n",
       "\" id=\"DejaVuSans-49\"/>\r\n",
       "     </defs>\r\n",
       "     <use xlink:href=\"#DejaVuSans-84\"/>\r\n",
       "     <use x=\"44.083984\" xlink:href=\"#DejaVuSans-111\"/>\r\n",
       "     <use x=\"105.265625\" xlink:href=\"#DejaVuSans-112\"/>\r\n",
       "     <use x=\"168.742188\" xlink:href=\"#DejaVuSans-105\"/>\r\n",
       "     <use x=\"196.525391\" xlink:href=\"#DejaVuSans-99\"/>\r\n",
       "     <use x=\"251.505859\" xlink:href=\"#DejaVuSans-32\"/>\r\n",
       "     <use x=\"283.292969\" xlink:href=\"#DejaVuSans-49\"/>\r\n",
       "    </g>\r\n",
       "   </g>\r\n",
       "  </g>\r\n",
       " </g>\r\n",
       " <defs>\r\n",
       "  <clipPath id=\"p5723d4029f\">\r\n",
       "   <rect height=\"247.536\" width=\"343.8\" x=\"7.2\" y=\"25.3575\"/>\r\n",
       "  </clipPath>\r\n",
       "  <clipPath id=\"pb0b18c8cef\">\r\n",
       "   <rect height=\"247.536\" width=\"343.8\" x=\"361.8\" y=\"25.3575\"/>\r\n",
       "  </clipPath>\r\n",
       " </defs>\r\n",
       "</svg>\r\n"
      ],
      "text/plain": [
       "<Figure size 720x1440 with 2 Axes>"
      ]
     },
     "metadata": {
      "needs_background": "light"
     },
     "output_type": "display_data"
    },
    {
     "data": {
      "text/plain": [
       "<Figure size 432x288 with 0 Axes>"
      ]
     },
     "metadata": {},
     "output_type": "display_data"
    }
   ],
   "source": [
    "from wordcloud import WordCloud\n",
    "import matplotlib.colors as mcolors\n",
    "\n",
    "cols = [color for name, color in mcolors.TABLEAU_COLORS.items()]  # more colors: 'mcolors.XKCD_COLORS'\n",
    "\n",
    "cloud = WordCloud(stopwords=stop,\n",
    "                  background_color='white',\n",
    "                  width=2500,\n",
    "                  height=1800,\n",
    "                  max_words=10,\n",
    "                  colormap='tab10',\n",
    "                  color_func=lambda *args, **kwargs: cols[i],\n",
    "                  prefer_horizontal=1.0)\n",
    "\n",
    "topics = lda.show_topics(formatted=False)\n",
    "\n",
    "fig, axes = plt.subplots(1, 2, figsize=(10,20), sharex=True, sharey=True)\n",
    "\n",
    "for i, ax in enumerate(axes.flatten()):\n",
    "    fig.add_subplot(ax)\n",
    "    topic_words = dict(topics[i][1])\n",
    "    cloud.generate_from_frequencies(topic_words, max_font_size=300)\n",
    "    plt.gca().imshow(cloud)\n",
    "    plt.gca().set_title('Topic ' + str(i), fontdict=dict(size=16))\n",
    "    plt.gca().axis('off')\n",
    "\n",
    "plt.subplots_adjust(wspace=0, hspace=0)\n",
    "plt.axis('off')\n",
    "plt.margins(x=0, y=0)\n",
    "plt.tight_layout()\n",
    "plt.show()\n",
    "\n",
    "plt.savefig(r'fig/wc_bigram_lda-2.svg')"
   ]
  },
  {
   "cell_type": "code",
   "execution_count": 24,
   "metadata": {
    "ExecuteTime": {
     "end_time": "2020-02-28T07:54:56.880398Z",
     "start_time": "2020-02-28T07:48:42.431214Z"
    }
   },
   "outputs": [],
   "source": [
    "lda1 = models.LdaModel(corpus=corpus, num_topics=4, id2word=id2word, passes=10)"
   ]
  },
  {
   "cell_type": "code",
   "execution_count": 25,
   "metadata": {
    "ExecuteTime": {
     "end_time": "2020-02-28T07:54:56.890117Z",
     "start_time": "2020-02-28T07:54:56.882352Z"
    }
   },
   "outputs": [
    {
     "data": {
      "text/plain": [
       "[(0,\n",
       "  '0.124*\"effect\" + 0.120*\"side\" + 0.110*\"side effect\" + 0.037*\"no\" + 0.019*\"no side\" + 0.017*\"blood\" + 0.016*\"taking\" + 0.012*\"medication\" + 0.012*\"year\" + 0.010*\"pressure\"'),\n",
       " (1,\n",
       "  '0.017*\"feel\" + 0.017*\"not\" + 0.016*\"anxiety\" + 0.016*\"taking\" + 0.016*\"year\" + 0.014*\"started\" + 0.012*\"take\" + 0.012*\"like\" + 0.012*\"life\" + 0.011*\"time\"'),\n",
       " (2,\n",
       "  '0.030*\"pain\" + 0.019*\"not\" + 0.013*\"take\" + 0.013*\"time\" + 0.012*\"year\" + 0.012*\"work\" + 0.011*\"hour\" + 0.011*\"took\" + 0.010*\"get\" + 0.010*\"day\"'),\n",
       " (3,\n",
       "  '0.034*\"period\" + 0.025*\"pill\" + 0.018*\"not\" + 0.017*\"month\" + 0.016*\"control\" + 0.015*\"no\" + 0.014*\"birth\" + 0.013*\"weight\" + 0.013*\"birth control\" + 0.013*\"first\"')]"
      ]
     },
     "execution_count": 25,
     "metadata": {},
     "output_type": "execute_result"
    }
   ],
   "source": [
    "lda1.print_topics()"
   ]
  },
  {
   "cell_type": "code",
   "execution_count": 26,
   "metadata": {
    "ExecuteTime": {
     "end_time": "2020-02-28T08:17:30.396013Z",
     "start_time": "2020-02-28T08:17:30.391566Z"
    }
   },
   "outputs": [
    {
     "data": {
      "text/plain": [
       "<gensim.interfaces.TransformedCorpus at 0x2176f5b4580>"
      ]
     },
     "execution_count": 26,
     "metadata": {},
     "output_type": "execute_result"
    }
   ],
   "source": [
    "all_topics = lda1.get_document_topics(corpus)\n",
    "all_topics"
   ]
  },
  {
   "cell_type": "code",
   "execution_count": 27,
   "metadata": {
    "ExecuteTime": {
     "end_time": "2020-02-28T08:17:55.757516Z",
     "start_time": "2020-02-28T08:17:55.754279Z"
    }
   },
   "outputs": [],
   "source": [
    "num_docs = len(all_topics)"
   ]
  },
  {
   "cell_type": "code",
   "execution_count": 28,
   "metadata": {
    "ExecuteTime": {
     "end_time": "2020-02-28T08:19:59.383260Z",
     "start_time": "2020-02-28T08:19:59.368603Z"
    }
   },
   "outputs": [
    {
     "ename": "ValueError",
     "evalue": "could not broadcast input array from shape (3,) into shape (4,)",
     "output_type": "error",
     "traceback": [
      "\u001b[1;31m---------------------------------------------------------------------------\u001b[0m",
      "\u001b[1;31mValueError\u001b[0m                                Traceback (most recent call last)",
      "\u001b[1;32m<ipython-input-28-6d636ffdf8c0>\u001b[0m in \u001b[0;36m<module>\u001b[1;34m\u001b[0m\n\u001b[0;32m      4\u001b[0m \u001b[1;33m\u001b[0m\u001b[0m\n\u001b[0;32m      5\u001b[0m \u001b[1;32mfor\u001b[0m \u001b[0mi\u001b[0m \u001b[1;32min\u001b[0m \u001b[0mrange\u001b[0m\u001b[1;33m(\u001b[0m\u001b[1;36m0\u001b[0m\u001b[1;33m,\u001b[0m \u001b[0mnum_docs\u001b[0m\u001b[1;33m)\u001b[0m\u001b[1;33m:\u001b[0m\u001b[1;33m\u001b[0m\u001b[1;33m\u001b[0m\u001b[0m\n\u001b[1;32m----> 6\u001b[1;33m     \u001b[0mlda_scores\u001b[0m\u001b[1;33m[\u001b[0m\u001b[0mi\u001b[0m\u001b[1;33m]\u001b[0m \u001b[1;33m=\u001b[0m \u001b[0mnp\u001b[0m\u001b[1;33m.\u001b[0m\u001b[0marray\u001b[0m\u001b[1;33m(\u001b[0m\u001b[0mall_topics\u001b[0m\u001b[1;33m[\u001b[0m\u001b[0mi\u001b[0m\u001b[1;33m]\u001b[0m\u001b[1;33m)\u001b[0m\u001b[1;33m.\u001b[0m\u001b[0mtranspose\u001b[0m\u001b[1;33m(\u001b[0m\u001b[1;33m)\u001b[0m\u001b[1;33m[\u001b[0m\u001b[1;36m1\u001b[0m\u001b[1;33m]\u001b[0m\u001b[1;33m\u001b[0m\u001b[1;33m\u001b[0m\u001b[0m\n\u001b[0m",
      "\u001b[1;31mValueError\u001b[0m: could not broadcast input array from shape (3,) into shape (4,)"
     ]
    }
   ],
   "source": [
    "num_topics=4\n",
    "\n",
    "lda_scores = np.empty([num_docs, num_topics])\n",
    "\n",
    "for i in range(0, num_docs):\n",
    "    lda_scores[i] = np.array(all_topics[i]).transpose()[1]"
   ]
  },
  {
   "cell_type": "code",
   "execution_count": null,
   "metadata": {
    "ExecuteTime": {
     "end_time": "2020-02-28T07:54:56.897224Z",
     "start_time": "2020-02-28T07:54:56.892903Z"
    }
   },
   "outputs": [],
   "source": [
    "lda_corpus1 = lda1[corpus]\n",
    "lda_corpus1"
   ]
  },
  {
   "cell_type": "code",
   "execution_count": null,
   "metadata": {
    "ExecuteTime": {
     "end_time": "2020-02-28T07:55:28.381843Z",
     "start_time": "2020-02-28T07:54:56.899724Z"
    }
   },
   "outputs": [],
   "source": [
    "lda_docs1 = [doc for doc in lda_corpus1]"
   ]
  },
  {
   "cell_type": "code",
   "execution_count": null,
   "metadata": {
    "ExecuteTime": {
     "end_time": "2020-02-28T07:55:28.390438Z",
     "start_time": "2020-02-28T07:55:28.383932Z"
    }
   },
   "outputs": [],
   "source": [
    "lda_docs1[0:5]"
   ]
  },
  {
   "cell_type": "code",
   "execution_count": null,
   "metadata": {
    "ExecuteTime": {
     "end_time": "2020-02-28T08:01:48.633158Z",
     "start_time": "2020-02-28T08:01:48.628499Z"
    }
   },
   "outputs": [],
   "source": [
    "len(lda_docs1)"
   ]
  },
  {
   "cell_type": "code",
   "execution_count": null,
   "metadata": {
    "ExecuteTime": {
     "end_time": "2020-02-28T08:59:30.767676Z",
     "start_time": "2020-02-28T08:43:36.182246Z"
    }
   },
   "outputs": [],
   "source": [
    "def dominant_topic(ldamodel, corpus, texts):\n",
    "     #Function to find the dominant topic in each review\n",
    "     sent_topics_df = pd.DataFrame() \n",
    "     # Get main topic in each review\n",
    "     for i, row in enumerate(ldamodel[corpus]):\n",
    "         row = sorted(row, key=lambda x: (x[1]), reverse=True)\n",
    "         # Get the Dominant topic, Perc Contribution and Keywords for each review\n",
    "         for j, (topic_num, prop_topic) in enumerate(row):\n",
    "             if j == 0:  # => dominant topic\n",
    "                 wp = ldamodel.show_topic(topic_num,topn=4)\n",
    "                 topic_keywords = \", \".join([word for word, prop in wp])\n",
    "                 sent_topics_df = sent_topics_df.append(pd.Series([int(topic_num), round(prop_topic,4), topic_keywords]), ignore_index=True)\n",
    "             else:\n",
    "                 break\n",
    "     sent_topics_df.columns = ['Dominant_Topic', 'Perc_Contribution', 'Topic_Keywords']\n",
    "     contents = pd.Series(texts)\n",
    "     sent_topics_df = pd.concat([sent_topics_df, contents], axis=1)\n",
    "     return(sent_topics_df)\n",
    "\n",
    "df_dominant_topic = dominant_topic(ldamodel=lda1, corpus=corpus, texts=df_train_s['review']) \n",
    "df_dominant_topic.head()"
   ]
  },
  {
   "cell_type": "code",
   "execution_count": null,
   "metadata": {
    "ExecuteTime": {
     "end_time": "2020-02-28T09:01:18.369404Z",
     "start_time": "2020-02-28T09:01:16.788524Z"
    }
   },
   "outputs": [],
   "source": [
    "#export topic keywords to csv file for later use\n",
    "export_csv = df_dominant_topic.to_csv(r'df_dominant_topic.csv', index = None, header=True)"
   ]
  },
  {
   "cell_type": "code",
   "execution_count": null,
   "metadata": {
    "ExecuteTime": {
     "end_time": "2020-02-28T05:34:18.751851Z",
     "start_time": "2020-02-28T05:34:14.781950Z"
    }
   },
   "outputs": [],
   "source": [
    "cols = [color for name, color in mcolors.TABLEAU_COLORS.items()]  # more colors: 'mcolors.XKCD_COLORS'\n",
    "\n",
    "cloud = WordCloud(stopwords=stop,\n",
    "                  background_color='white',\n",
    "                  width=2500,\n",
    "                  height=1800,\n",
    "                  max_words=10,\n",
    "                  colormap='tab10',\n",
    "                  color_func=lambda *args, **kwargs: cols[i],\n",
    "                  prefer_horizontal=1.0)\n",
    "\n",
    "topics1 = lda1.show_topics(formatted=False)\n",
    "\n",
    "fig, axes = plt.subplots(2, 2, figsize=(10,10), sharex=True, sharey=True)\n",
    "\n",
    "for i, ax in enumerate(axes.flatten()):\n",
    "    fig.add_subplot(ax)\n",
    "    topic_words1 = dict(topics1[i][1])\n",
    "    cloud.generate_from_frequencies(topic_words1, max_font_size=300)\n",
    "    plt.gca().imshow(cloud)\n",
    "    plt.gca().set_title('Topic ' + str(i), fontdict=dict(size=16))\n",
    "    plt.gca().axis('off')\n",
    "\n",
    "plt.subplots_adjust(wspace=0, hspace=0)\n",
    "plt.axis('off')\n",
    "plt.margins(x=0, y=0)\n",
    "plt.tight_layout()\n",
    "plt.show()\n",
    "\n",
    "plt.savefig(r'fig/wc_bigram_lda-4.svg')"
   ]
  },
  {
   "cell_type": "code",
   "execution_count": null,
   "metadata": {
    "ExecuteTime": {
     "end_time": "2020-02-28T05:40:20.349269Z",
     "start_time": "2020-02-28T05:34:26.758846Z"
    }
   },
   "outputs": [],
   "source": [
    "lda2 = models.LdaModel(corpus=corpus, num_topics=6, id2word=id2word, passes=10)"
   ]
  },
  {
   "cell_type": "code",
   "execution_count": null,
   "metadata": {
    "ExecuteTime": {
     "end_time": "2020-02-28T05:40:38.051941Z",
     "start_time": "2020-02-28T05:40:38.038934Z"
    }
   },
   "outputs": [],
   "source": [
    "lda2.print_topics()"
   ]
  },
  {
   "cell_type": "code",
   "execution_count": null,
   "metadata": {
    "ExecuteTime": {
     "end_time": "2020-02-28T05:40:38.661228Z",
     "start_time": "2020-02-28T05:40:38.656061Z"
    }
   },
   "outputs": [],
   "source": [
    "lda_corpus2 = lda2[corpus]\n",
    "lda_corpus2"
   ]
  },
  {
   "cell_type": "code",
   "execution_count": null,
   "metadata": {
    "ExecuteTime": {
     "end_time": "2020-02-28T05:41:07.876633Z",
     "start_time": "2020-02-28T05:40:39.317362Z"
    }
   },
   "outputs": [],
   "source": [
    "lda_docs2 = [doc for doc in lda_corpus2]"
   ]
  },
  {
   "cell_type": "code",
   "execution_count": null,
   "metadata": {
    "ExecuteTime": {
     "end_time": "2020-02-28T05:41:07.884108Z",
     "start_time": "2020-02-28T05:41:07.878983Z"
    }
   },
   "outputs": [],
   "source": [
    "lda_docs2[0:5]"
   ]
  },
  {
   "cell_type": "code",
   "execution_count": null,
   "metadata": {
    "ExecuteTime": {
     "end_time": "2020-02-28T05:41:14.227333Z",
     "start_time": "2020-02-28T05:41:07.886442Z"
    }
   },
   "outputs": [],
   "source": [
    "cols = [color for name, color in mcolors.TABLEAU_COLORS.items()]  # more colors: 'mcolors.XKCD_COLORS'\n",
    "\n",
    "cloud = WordCloud(stopwords=stop,\n",
    "                  background_color='white',\n",
    "                  width=2500,\n",
    "                  height=1800,\n",
    "                  max_words=10,\n",
    "                  colormap='tab10',\n",
    "                  color_func=lambda *args, **kwargs: cols[i],\n",
    "                  prefer_horizontal=1.0)\n",
    "\n",
    "topics2 = lda2.show_topics(formatted=False)\n",
    "\n",
    "fig, axes = plt.subplots(2, 3, figsize=(12,10), sharex=True, sharey=True)\n",
    "\n",
    "for i, ax in enumerate(axes.flatten()):\n",
    "    fig.add_subplot(ax)\n",
    "    topic_words2 = dict(topics2[i][1])\n",
    "    cloud.generate_from_frequencies(topic_words2, max_font_size=300)\n",
    "    plt.gca().imshow(cloud)\n",
    "    plt.gca().set_title('Topic ' + str(i), fontdict=dict(size=16))\n",
    "    plt.gca().axis('off')\n",
    "\n",
    "plt.subplots_adjust(wspace=0, hspace=0)\n",
    "plt.axis('off')\n",
    "plt.margins(x=0, y=0)\n",
    "plt.tight_layout()\n",
    "plt.show()\n",
    "\n",
    "plt.savefig(r'fig/wc_bigram_lda-6.svg')"
   ]
  },
  {
   "cell_type": "code",
   "execution_count": null,
   "metadata": {},
   "outputs": [],
   "source": []
  },
  {
   "cell_type": "code",
   "execution_count": null,
   "metadata": {},
   "outputs": [],
   "source": []
  },
  {
   "cell_type": "code",
   "execution_count": null,
   "metadata": {},
   "outputs": [],
   "source": []
  },
  {
   "cell_type": "code",
   "execution_count": null,
   "metadata": {},
   "outputs": [],
   "source": []
  }
 ],
 "metadata": {
  "kernelspec": {
   "display_name": "Python 3",
   "language": "python",
   "name": "python3"
  },
  "language_info": {
   "codemirror_mode": {
    "name": "ipython",
    "version": 3
   },
   "file_extension": ".py",
   "mimetype": "text/x-python",
   "name": "python",
   "nbconvert_exporter": "python",
   "pygments_lexer": "ipython3",
   "version": "3.8.8"
  },
  "latex_envs": {
   "LaTeX_envs_menu_present": true,
   "autoclose": false,
   "autocomplete": true,
   "bibliofile": "biblio.bib",
   "cite_by": "apalike",
   "current_citInitial": 1,
   "eqLabelWithNumbers": true,
   "eqNumInitial": 1,
   "hotkeys": {
    "equation": "Ctrl-E",
    "itemize": "Ctrl-I"
   },
   "labels_anchors": false,
   "latex_user_defs": false,
   "report_style_numbering": false,
   "user_envs_cfg": false
  }
 },
 "nbformat": 4,
 "nbformat_minor": 2
}
