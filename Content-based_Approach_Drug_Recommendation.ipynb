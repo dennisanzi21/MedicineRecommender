{
 "cells": [
  {
   "cell_type": "code",
   "execution_count": null,
   "metadata": {
    "ExecuteTime": {
     "end_time": "2020-02-28T09:02:24.390509Z",
     "start_time": "2020-02-28T09:02:22.194564Z"
    }
   },
   "outputs": [],
   "source": [
    "import pandas as pd\n",
    "import numpy as np\n",
    "\n",
    "import matplotlib.pyplot as plt\n",
    "import seaborn as sns\n",
    "from mlxtend.plotting import plot_decision_regions\n",
    "\n",
    "plt.style.use('ggplot')\n",
    "%config InlineBackend.figure_format = 'svg'\n",
    "%matplotlib inline\n",
    "np.set_printoptions(suppress=True) # Suppress scientific notation where possible"
   ]
  },
  {
   "cell_type": "code",
   "execution_count": null,
   "metadata": {
    "ExecuteTime": {
     "end_time": "2020-02-28T09:02:24.989097Z",
     "start_time": "2020-02-28T09:02:24.392357Z"
    }
   },
   "outputs": [],
   "source": [
    "from sklearn import naive_bayes\n",
    "from sklearn.linear_model import LogisticRegression\n",
    "from sklearn.feature_extraction.text import CountVectorizer\n",
    "from sklearn.naive_bayes import GaussianNB\n",
    "from sklearn.metrics import precision_score, recall_score, precision_recall_curve,f1_score, fbeta_score\n",
    "from sklearn.preprocessing import StandardScaler\n",
    "from sklearn.metrics import accuracy_score, confusion_matrix, roc_curve, roc_auc_score, make_scorer\n",
    "from sklearn.datasets import fetch_20newsgroups\n",
    "import gensim"
   ]
  },
  {
   "cell_type": "markdown",
   "metadata": {},
   "source": [
    "### Import cleaned datasets"
   ]
  },
  {
   "cell_type": "code",
   "execution_count": null,
   "metadata": {
    "ExecuteTime": {
     "end_time": "2020-02-28T09:05:36.581780Z",
     "start_time": "2020-02-28T09:05:36.090020Z"
    }
   },
   "outputs": [],
   "source": [
    "df_train = pd.read_csv(r'df_train.csv')"
   ]
  },
  {
   "cell_type": "code",
   "execution_count": null,
   "metadata": {
    "ExecuteTime": {
     "end_time": "2020-02-28T09:05:37.196254Z",
     "start_time": "2020-02-28T09:05:37.160040Z"
    }
   },
   "outputs": [],
   "source": [
    "df_train.info()"
   ]
  },
  {
   "cell_type": "code",
   "execution_count": null,
   "metadata": {
    "ExecuteTime": {
     "end_time": "2020-02-28T09:05:52.011399Z",
     "start_time": "2020-02-28T09:05:51.948897Z"
    }
   },
   "outputs": [],
   "source": [
    "df_train.dropna()"
   ]
  },
  {
   "cell_type": "code",
   "execution_count": null,
   "metadata": {
    "ExecuteTime": {
     "end_time": "2020-02-28T09:04:25.521530Z",
     "start_time": "2020-02-28T09:04:25.078320Z"
    }
   },
   "outputs": [],
   "source": [
    "df_topic = pd.read_csv(r'df_dominant_topic.csv')"
   ]
  },
  {
   "cell_type": "code",
   "execution_count": null,
   "metadata": {
    "ExecuteTime": {
     "end_time": "2020-02-28T09:04:41.156883Z",
     "start_time": "2020-02-28T09:04:41.128246Z"
    }
   },
   "outputs": [],
   "source": [
    "df_topic.info()"
   ]
  },
  {
   "cell_type": "code",
   "execution_count": null,
   "metadata": {
    "ExecuteTime": {
     "end_time": "2020-02-28T09:08:38.137405Z",
     "start_time": "2020-02-28T09:08:38.079612Z"
    }
   },
   "outputs": [],
   "source": [
    "df = pd.concat([df_train, df_topic], axis=1, join='inner')"
   ]
  },
  {
   "cell_type": "code",
   "execution_count": null,
   "metadata": {
    "ExecuteTime": {
     "end_time": "2020-02-28T09:09:25.225297Z",
     "start_time": "2020-02-28T09:09:25.212403Z"
    }
   },
   "outputs": [],
   "source": [
    "del df['review']"
   ]
  },
  {
   "cell_type": "code",
   "execution_count": null,
   "metadata": {
    "ExecuteTime": {
     "end_time": "2020-02-28T09:09:28.312526Z",
     "start_time": "2020-02-28T09:09:28.294277Z"
    }
   },
   "outputs": [],
   "source": [
    "df"
   ]
  },
  {
   "cell_type": "code",
   "execution_count": null,
   "metadata": {
    "ExecuteTime": {
     "end_time": "2020-02-28T09:43:03.878209Z",
     "start_time": "2020-02-28T09:43:03.743655Z"
    }
   },
   "outputs": [],
   "source": [
    "drug_per_condition = df.groupby(['condition'])['drugName'].nunique().sort_values(ascending=False)\n",
    "drug_per_condition"
   ]
  },
  {
   "cell_type": "code",
   "execution_count": null,
   "metadata": {
    "ExecuteTime": {
     "end_time": "2020-02-28T09:37:15.130747Z",
     "start_time": "2020-02-28T09:37:15.125028Z"
    }
   },
   "outputs": [],
   "source": [
    "drug_per_condition[:10]"
   ]
  },
  {
   "cell_type": "code",
   "execution_count": null,
   "metadata": {
    "ExecuteTime": {
     "end_time": "2020-02-28T09:38:59.517740Z",
     "start_time": "2020-02-28T09:38:59.512040Z"
    }
   },
   "outputs": [],
   "source": [
    "condition_1=drug_per_condition[:10].keys()\n",
    "condition_1"
   ]
  },
  {
   "cell_type": "code",
   "execution_count": null,
   "metadata": {
    "ExecuteTime": {
     "end_time": "2020-02-28T09:40:40.879320Z",
     "start_time": "2020-02-28T09:40:40.857335Z"
    }
   },
   "outputs": [],
   "source": [
    "#selecting only top 10 conditions\n",
    "df_top_10=df[df['condition'].isin(condition_1)]\n",
    "df_top_10.head()"
   ]
  },
  {
   "cell_type": "code",
   "execution_count": null,
   "metadata": {
    "ExecuteTime": {
     "end_time": "2020-02-28T09:56:18.754223Z",
     "start_time": "2020-02-28T09:56:18.738315Z"
    }
   },
   "outputs": [],
   "source": [
    "top_10=df_top_10.groupby(['condition']).Dominant_Topic.value_counts(normalize=True)"
   ]
  },
  {
   "cell_type": "code",
   "execution_count": null,
   "metadata": {
    "ExecuteTime": {
     "end_time": "2020-02-28T09:56:20.952062Z",
     "start_time": "2020-02-28T09:56:20.944730Z"
    }
   },
   "outputs": [],
   "source": [
    "top_10"
   ]
  },
  {
   "cell_type": "markdown",
   "metadata": {},
   "source": [
    "### ==> visualization in Tableau"
   ]
  },
  {
   "cell_type": "code",
   "execution_count": null,
   "metadata": {},
   "outputs": [],
   "source": [
    "condition = input(\"Enter a condition (e.g. Acne): \")\n",
    "result=df_top_10.loc[df_top_10['condition'] == condition]\n",
    "result = result.groupby(['drugName'])['Perc_Contribution'].nunique().sort_values(ascending=False)\n",
    "result[:3]"
   ]
  },
  {
   "cell_type": "code",
   "execution_count": null,
   "metadata": {},
   "outputs": [],
   "source": []
  }
 ],
 "metadata": {
  "kernelspec": {
   "display_name": "Python 3",
   "language": "python",
   "name": "python3"
  },
  "language_info": {
   "codemirror_mode": {
    "name": "ipython",
    "version": 3
   },
   "file_extension": ".py",
   "mimetype": "text/x-python",
   "name": "python",
   "nbconvert_exporter": "python",
   "pygments_lexer": "ipython3",
   "version": "3.8.8"
  },
  "latex_envs": {
   "LaTeX_envs_menu_present": true,
   "autoclose": false,
   "autocomplete": true,
   "bibliofile": "biblio.bib",
   "cite_by": "apalike",
   "current_citInitial": 1,
   "eqLabelWithNumbers": true,
   "eqNumInitial": 1,
   "hotkeys": {
    "equation": "Ctrl-E",
    "itemize": "Ctrl-I"
   },
   "labels_anchors": false,
   "latex_user_defs": false,
   "report_style_numbering": false,
   "user_envs_cfg": false
  },
  "toc": {
   "base_numbering": 1,
   "nav_menu": {},
   "number_sections": true,
   "sideBar": true,
   "skip_h1_title": false,
   "title_cell": "Table of Contents",
   "title_sidebar": "Contents",
   "toc_cell": false,
   "toc_position": {},
   "toc_section_display": true,
   "toc_window_display": false
  }
 },
 "nbformat": 4,
 "nbformat_minor": 2
}
