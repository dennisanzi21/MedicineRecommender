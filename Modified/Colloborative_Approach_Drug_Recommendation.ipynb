{
 "cells": [
  {
   "cell_type": "markdown",
   "id": "191b5c31",
   "metadata": {},
   "source": [
    "# JD Drug Recommendation System "
   ]
  },
  {
   "cell_type": "markdown",
   "id": "5b3ad03c",
   "metadata": {},
   "source": [
    "### Data Cleaning"
   ]
  },
  {
   "cell_type": "markdown",
   "id": "f9ebd46a",
   "metadata": {},
   "source": [
    "In this section, the system will read from the raw dataset and perform data cleaning."
   ]
  },
  {
   "cell_type": "code",
   "execution_count": 2,
   "id": "11d06aa4",
   "metadata": {},
   "outputs": [],
   "source": [
    "# Pandas is a data analysis tool that allows importing data from other file formats\n",
    "# Numpy facilitate advanced mathematical operation on large numbers of data\n",
    "# Pyplot is a module in matplotlib that manipulate elements of a figure, create figure\n",
    "# Seaborn is used for making statistical graphics.\n",
    "# plot_decision_regions is a function for plotting decision regions of classifiers in 1 or 2 dimensions\n",
    "import pandas as pd\n",
    "import numpy as np\n",
    "import matplotlib.pyplot as plt\n",
    "import seaborn as sns\n",
    "from mlxtend.plotting import plot_decision_regions\n",
    "\n",
    "# ggplot is used to map data to visual objects that make up the visualization\n",
    "# we specified the figure format to be svg format\n",
    "# we use matplotlib to renders the figure inline in this jupyter notebook\n",
    "plt.style.use('ggplot')\n",
    "%config InlineBackend.figure_format = 'svg'\n",
    "%matplotlib inline\n",
    "np.set_printoptions(suppress=True) # Suppress scientific notation where possible"
   ]
  },
  {
   "cell_type": "code",
   "execution_count": 3,
   "id": "398f0351",
   "metadata": {},
   "outputs": [],
   "source": [
    "# we start reading dataset from a csv file\n",
    "# please noted that if you are not cloning the file in github then please replace with your path in the path given below\n",
    "df_train = pd.read_csv(r\"..\\Modified\\dataset\\drugsComTrain_raw.tsv\", sep=None, engine='python')"
   ]
  },
  {
   "cell_type": "code",
   "execution_count": 4,
   "id": "907e9d1b",
   "metadata": {},
   "outputs": [
    {
     "name": "stdout",
     "output_type": "stream",
     "text": [
      "<class 'pandas.core.frame.DataFrame'>\n",
      "RangeIndex: 161297 entries, 0 to 161296\n",
      "Data columns (total 7 columns):\n",
      " #   Column       Non-Null Count   Dtype  \n",
      "---  ------       --------------   -----  \n",
      " 0   Unnamed: 0   161297 non-null  int64  \n",
      " 1   drugName     161297 non-null  object \n",
      " 2   condition    160398 non-null  object \n",
      " 3   review       161297 non-null  object \n",
      " 4   rating       161297 non-null  float64\n",
      " 5   date         161297 non-null  object \n",
      " 6   usefulCount  161297 non-null  int64  \n",
      "dtypes: float64(1), int64(2), object(4)\n",
      "memory usage: 8.6+ MB\n"
     ]
    }
   ],
   "source": [
    "#  to check out data types, missing values and more\n",
    "df_train.info()"
   ]
  },
  {
   "cell_type": "code",
   "execution_count": 5,
   "id": "ef89568f",
   "metadata": {},
   "outputs": [
    {
     "data": {
      "text/html": [
       "<div>\n",
       "<style scoped>\n",
       "    .dataframe tbody tr th:only-of-type {\n",
       "        vertical-align: middle;\n",
       "    }\n",
       "\n",
       "    .dataframe tbody tr th {\n",
       "        vertical-align: top;\n",
       "    }\n",
       "\n",
       "    .dataframe thead th {\n",
       "        text-align: right;\n",
       "    }\n",
       "</style>\n",
       "<table border=\"1\" class=\"dataframe\">\n",
       "  <thead>\n",
       "    <tr style=\"text-align: right;\">\n",
       "      <th></th>\n",
       "      <th>Unnamed: 0</th>\n",
       "      <th>drugName</th>\n",
       "      <th>condition</th>\n",
       "      <th>review</th>\n",
       "      <th>rating</th>\n",
       "      <th>date</th>\n",
       "      <th>usefulCount</th>\n",
       "    </tr>\n",
       "  </thead>\n",
       "  <tbody>\n",
       "    <tr>\n",
       "      <th>0</th>\n",
       "      <td>206461</td>\n",
       "      <td>Valsartan</td>\n",
       "      <td>Left Ventricular Dysfunction</td>\n",
       "      <td>\"It has no side effect, I take it in combinati...</td>\n",
       "      <td>9.0</td>\n",
       "      <td>May 20, 2012</td>\n",
       "      <td>27</td>\n",
       "    </tr>\n",
       "    <tr>\n",
       "      <th>1</th>\n",
       "      <td>95260</td>\n",
       "      <td>Guanfacine</td>\n",
       "      <td>ADHD</td>\n",
       "      <td>\"My son is halfway through his fourth week of ...</td>\n",
       "      <td>8.0</td>\n",
       "      <td>April 27, 2010</td>\n",
       "      <td>192</td>\n",
       "    </tr>\n",
       "    <tr>\n",
       "      <th>2</th>\n",
       "      <td>92703</td>\n",
       "      <td>Lybrel</td>\n",
       "      <td>Birth Control</td>\n",
       "      <td>\"I used to take another oral contraceptive, wh...</td>\n",
       "      <td>5.0</td>\n",
       "      <td>December 14, 2009</td>\n",
       "      <td>17</td>\n",
       "    </tr>\n",
       "  </tbody>\n",
       "</table>\n",
       "</div>"
      ],
      "text/plain": [
       "   Unnamed: 0    drugName                     condition  \\\n",
       "0      206461   Valsartan  Left Ventricular Dysfunction   \n",
       "1       95260  Guanfacine                          ADHD   \n",
       "2       92703      Lybrel                 Birth Control   \n",
       "\n",
       "                                              review  rating  \\\n",
       "0  \"It has no side effect, I take it in combinati...     9.0   \n",
       "1  \"My son is halfway through his fourth week of ...     8.0   \n",
       "2  \"I used to take another oral contraceptive, wh...     5.0   \n",
       "\n",
       "                date  usefulCount  \n",
       "0       May 20, 2012           27  \n",
       "1     April 27, 2010          192  \n",
       "2  December 14, 2009           17  "
      ]
     },
     "execution_count": 5,
     "metadata": {},
     "output_type": "execute_result"
    }
   ],
   "source": [
    "# returns top n rows of a DataFrame or Series where n is a user input value\n",
    "n = 3\n",
    "df_train.head(n) # default n value is 5"
   ]
  },
  {
   "cell_type": "code",
   "execution_count": 6,
   "id": "02102d20",
   "metadata": {},
   "outputs": [],
   "source": [
    "# to delete/exclude unnecessary columns in the dataset\n",
    "del df_train['Unnamed: 0']\n",
    "del df_train['date']"
   ]
  },
  {
   "cell_type": "code",
   "execution_count": 7,
   "id": "23997352",
   "metadata": {},
   "outputs": [
    {
     "name": "stdout",
     "output_type": "stream",
     "text": [
      "number of drugs: 3436\n",
      "number of conditions: 885\n"
     ]
    }
   ],
   "source": [
    "# to list out the number of drugs and condition in the dataset\n",
    "print(\"number of drugs:\", len(df_train['drugName'].unique()))\n",
    "print(\"number of conditions:\", len(df_train['condition'].unique()))"
   ]
  },
  {
   "cell_type": "code",
   "execution_count": 8,
   "id": "196c8949",
   "metadata": {},
   "outputs": [
    {
     "data": {
      "text/plain": [
       "condition\n",
       "Not Listed / Othe                             214\n",
       "Pain                                          200\n",
       "Birth Control                                 172\n",
       "High Blood Pressure                           140\n",
       "Acne                                          117\n",
       "Depression                                    105\n",
       "Rheumatoid Arthritis                           98\n",
       "Diabetes, Type 2                               89\n",
       "Allergic Rhinitis                              88\n",
       "Osteoarthritis                                 80\n",
       "Bipolar Disorde                                80\n",
       "Anxiety                                        78\n",
       "Insomnia                                       78\n",
       "Abnormal Uterine Bleeding                      74\n",
       "Migraine                                       59\n",
       "Psoriasis                                      58\n",
       "Endometriosis                                  57\n",
       "3</span> users found this comment helpful.     57\n",
       "ADHD                                           55\n",
       "Asthma, Maintenance                            54\n",
       "Chronic Pain                                   53\n",
       "Migraine Prevention                            50\n",
       "Major Depressive Disorde                       49\n",
       "Irritable Bowel Syndrome                       49\n",
       "Urinary Tract Infection                        47\n",
       "ibromyalgia                                    45\n",
       "4</span> users found this comment helpful.     45\n",
       "Bronchitis                                     44\n",
       "Postmenopausal Symptoms                        44\n",
       "Bacterial Infection                            43\n",
       "Name: drugName, dtype: int64"
      ]
     },
     "execution_count": 8,
     "metadata": {},
     "output_type": "execute_result"
    }
   ],
   "source": [
    "# to group data according to their condition and list out the first 30 popular use drugs\n",
    "drug_per_condition = df_train.groupby(['condition'])['drugName'].nunique().sort_values(ascending=False)\n",
    "drug_per_condition[:30]"
   ]
  },
  {
   "cell_type": "code",
   "execution_count": 9,
   "id": "c3f026cd",
   "metadata": {},
   "outputs": [
    {
     "data": {
      "text/plain": [
       "3436"
      ]
     },
     "execution_count": 9,
     "metadata": {},
     "output_type": "execute_result"
    }
   ],
   "source": [
    "# to replace invalid data in condition column with NaN\n",
    "df_train.loc[df_train['condition'].str.contains('</span>',case=False, na=False), 'condition'] = 'NAN'\n",
    "df_train['condition'].replace('NAN', np.NaN, inplace=True)\n",
    "df_train['condition'].replace('Not Listed / Othe', np.NaN, inplace=True)\n",
    "\n",
    "# to create a dictionary with drugname:condition to fill NaN\n",
    "dictionary=df_train.set_index('drugName')['condition'].to_dict()\n",
    "len(dictionary)"
   ]
  },
  {
   "cell_type": "code",
   "execution_count": 10,
   "id": "df3d4d49",
   "metadata": {
    "scrolled": true
   },
   "outputs": [
    {
     "name": "stdout",
     "output_type": "stream",
     "text": [
      "<class 'pandas.core.frame.DataFrame'>\n",
      "RangeIndex: 161297 entries, 0 to 161296\n",
      "Data columns (total 5 columns):\n",
      " #   Column       Non-Null Count   Dtype  \n",
      "---  ------       --------------   -----  \n",
      " 0   drugName     161297 non-null  object \n",
      " 1   condition    161197 non-null  object \n",
      " 2   review       161297 non-null  object \n",
      " 3   rating       161297 non-null  float64\n",
      " 4   usefulCount  161297 non-null  int64  \n",
      "dtypes: float64(1), int64(1), object(3)\n",
      "memory usage: 6.2+ MB\n"
     ]
    }
   ],
   "source": [
    "# to fill NaN value with correct condition names using created dictionary\n",
    "df_train.condition.fillna(df_train.drugName.map(dictionary), inplace=True)\n",
    "df_train.info()"
   ]
  },
  {
   "cell_type": "code",
   "execution_count": 11,
   "id": "f84f0d8b",
   "metadata": {},
   "outputs": [],
   "source": [
    "# to drop rows with still missing values in condition (100 rows = 0.0006% of total data)\n",
    "df_train.dropna(inplace=True)"
   ]
  },
  {
   "cell_type": "code",
   "execution_count": 12,
   "id": "7d26e188",
   "metadata": {},
   "outputs": [
    {
     "ename": "SyntaxError",
     "evalue": "invalid syntax (<ipython-input-12-b54f96778742>, line 1)",
     "output_type": "error",
     "traceback": [
      "\u001b[1;36m  File \u001b[1;32m\"<ipython-input-12-b54f96778742>\"\u001b[1;36m, line \u001b[1;32m1\u001b[0m\n\u001b[1;33m    drug_per_condition = df_train.groupby(['condition']s)['drugName'].nunique().sort_values(ascending=False)\u001b[0m\n\u001b[1;37m                                                       ^\u001b[0m\n\u001b[1;31mSyntaxError\u001b[0m\u001b[1;31m:\u001b[0m invalid syntax\n"
     ]
    }
   ],
   "source": [
    "drug_per_condition = df_train.groupby(['condition']s)['drugName'].nunique().sort_values(ascending=False)\n",
    "drug_per_condition[:30]"
   ]
  },
  {
   "cell_type": "code",
   "execution_count": null,
   "id": "93dd1031",
   "metadata": {},
   "outputs": [],
   "source": [
    "# to list out top 15 number of drugs/conditions\n",
    "drug_per_condition[:15].plot(kind=\"bar\", figsize = (14,6), fontsize = 10, color=\"#a1c995\")\n",
    "plt.xlabel(\"\", fontsize = 20)\n",
    "plt.ylabel(\"\", fontsize = 20)\n",
    "plt.title(\"Top 15 Number of Drugs / Condition\", fontsize = 20)\n",
    "plt.savefig(r\"../Modified/fig/top15_condition.svg\")"
   ]
  },
  {
   "cell_type": "code",
   "execution_count": 13,
   "id": "aa56a061",
   "metadata": {},
   "outputs": [
    {
     "data": {
      "text/plain": [
       "Index(['Allergies', 'Autism', 'Postpartum Depression', 'Alzheimer's Disease',\n",
       "       'Constipation, Acute', 'Uveitis', 'Malaria',\n",
       "       'Primary Immunodeficiency Syndrome', 'Chronic Fatigue Syndrome',\n",
       "       'Social Anxiety Disorde',\n",
       "       ...\n",
       "       '77</span> users found this comment helpful.',\n",
       "       'Secondary Cutaneous Bacterial Infections',\n",
       "       '76</span> users found this comment helpful.', 'Mononucleosis',\n",
       "       'Mixed Connective Tissue Disease', 'Sepsis',\n",
       "       '72</span> users found this comment helpful.',\n",
       "       'Microscopic polyangiitis', 'Short Stature',\n",
       "       'Epicondylitis, Tennis Elbow'],\n",
       "      dtype='object', name='condition', length=678)"
      ]
     },
     "execution_count": 13,
     "metadata": {},
     "output_type": "execute_result"
    }
   ],
   "source": [
    "# to select conditions with less than 11 drugs\n",
    "condition_1=drug_per_condition[drug_per_condition<=10].keys()\n",
    "condition_1"
   ]
  },
  {
   "cell_type": "code",
   "execution_count": 14,
   "id": "b589c5b5",
   "metadata": {},
   "outputs": [
    {
     "name": "stdout",
     "output_type": "stream",
     "text": [
      "<class 'pandas.core.frame.DataFrame'>\n",
      "Int64Index: 148387 entries, 1 to 161296\n",
      "Data columns (total 5 columns):\n",
      " #   Column       Non-Null Count   Dtype  \n",
      "---  ------       --------------   -----  \n",
      " 0   drugName     148387 non-null  object \n",
      " 1   condition    148387 non-null  object \n",
      " 2   review       148387 non-null  object \n",
      " 3   rating       148387 non-null  float64\n",
      " 4   usefulCount  148387 non-null  int64  \n",
      "dtypes: float64(1), int64(1), object(3)\n",
      "memory usage: 6.8+ MB\n"
     ]
    }
   ],
   "source": [
    "# to delete condition with less than 11 drugs\n",
    "df_train1=df_train[~df_train['condition'].isin(condition_1)]\n",
    "df_train1.info()"
   ]
  },
  {
   "cell_type": "code",
   "execution_count": 15,
   "id": "a9ff5a47",
   "metadata": {},
   "outputs": [
    {
     "data": {
      "text/plain": [
       "condition\n",
       "Not Listed / Othe                   214\n",
       "Pain                                200\n",
       "Birth Control                       172\n",
       "High Blood Pressure                 140\n",
       "Acne                                117\n",
       "                                   ... \n",
       "Head Lice                            11\n",
       "Gout                                 11\n",
       "Nausea/Vomiting, Postoperative       11\n",
       "Hyperhidrosis                        11\n",
       "Sexual Dysfunction, SSRI Induced     11\n",
       "Name: drugName, Length: 200, dtype: int64"
      ]
     },
     "execution_count": 15,
     "metadata": {},
     "output_type": "execute_result"
    }
   ],
   "source": [
    "drug_per_condition[:200]"
   ]
  },
  {
   "cell_type": "code",
   "execution_count": null,
   "id": "9e886f5e",
   "metadata": {},
   "outputs": [],
   "source": []
  },
  {
   "cell_type": "code",
   "execution_count": null,
   "id": "01351b72",
   "metadata": {},
   "outputs": [],
   "source": []
  },
  {
   "cell_type": "code",
   "execution_count": null,
   "id": "e8b2a5e9",
   "metadata": {},
   "outputs": [],
   "source": [
    "input your interested topic: what symptoms what disesae"
   ]
  },
  {
   "cell_type": "code",
   "execution_count": null,
   "id": "16dfb10e",
   "metadata": {},
   "outputs": [],
   "source": []
  }
 ],
 "metadata": {
  "kernelspec": {
   "display_name": "Python 3",
   "language": "python",
   "name": "python3"
  },
  "language_info": {
   "codemirror_mode": {
    "name": "ipython",
    "version": 3
   },
   "file_extension": ".py",
   "mimetype": "text/x-python",
   "name": "python",
   "nbconvert_exporter": "python",
   "pygments_lexer": "ipython3",
   "version": "3.8.8"
  }
 },
 "nbformat": 4,
 "nbformat_minor": 5
}
