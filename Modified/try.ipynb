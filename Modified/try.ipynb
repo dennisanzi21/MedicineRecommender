{
 "cells": [
  {
   "cell_type": "code",
   "execution_count": 13,
   "id": "2bdc080d",
   "metadata": {},
   "outputs": [],
   "source": [
    "from sklearn.feature_extraction.text import CountVectorizer\n",
    "from sklearn.feature_extraction.text import TfidfVectorizer\n",
    "from pandas import DataFrame\n",
    "from nltk.corpus import stopwords\n",
    "from sklearn.feature_extraction.text import CountVectorizer\n",
    "from gensim import corpora, models, similarities, matutils\n",
    "from sklearn.decomposition import TruncatedSVD\n",
    "from sklearn.metrics.pairwise import cosine_similarity\n",
    "import pandas as pd\n",
    "import numpy as np\n",
    "\n",
    "import matplotlib.pyplot as plt\n",
    "import seaborn as sns\n",
    "from mlxtend.plotting import plot_decision_regions\n",
    "\n",
    "stop = set(stopwords.words('english'))\n",
    "n = [\"aren't\",\"couldn't\",\"didn't\",\"doesn't\",\"don't\",\"hadn't\",\"hasn't\",\"haven't\",\"isn't\",\n",
    "     \"mightn't\",\"mustn't\",\"needn't\",\"no\",\"nor\",\"not\",\"shan't\",\"shouldn't\",\"wasn't\",\"weren't\",\"wouldn't\"]\n",
    "for i in n:\n",
    "    stop.remove(i)\n",
    "\n",
    "a = ['mg', 'week', 'month', 'day', 'january', 'february', 'march', 'april', 'may', 'june', 'july', \n",
    "     'august', 'september','october','november','december', 'iv','oral','pound',]\n",
    "for j in a:\n",
    "    stop.add(j)\n",
    "\n",
    "def create_document_term_matrix(message_list, vectorizer):\n",
    "    doc_term_matrix = vectorizer.fit_transform(message_list)\n",
    "    return DataFrame(doc_term_matrix.toarray(),\n",
    "                    columns=vectorizer.get_feature_names())\n",
    "msg_1 = [\"My name is Dennis\", \"I have a friend called Jordan\", \"We aren't bookworms\", \"It's Tuesday\", \"It's Tuesday\", \"My name is Dennis\", \"I have a friend called Jordan\", \"We aren't bookworms\", \"It's Tuesday\", \"It's Tuesday\"]\n",
    "count_vect = CountVectorizer(stop_words=stop, ngram_range=(2, 2))"
   ]
  },
  {
   "cell_type": "code",
   "execution_count": 14,
   "id": "b37a4026",
   "metadata": {},
   "outputs": [
    {
     "ename": "NameError",
     "evalue": "name 'ngram_range' is not defined",
     "output_type": "error",
     "traceback": [
      "\u001b[1;31m---------------------------------------------------------------------------\u001b[0m",
      "\u001b[1;31mNameError\u001b[0m                                 Traceback (most recent call last)",
      "\u001b[1;32m<ipython-input-14-37a9631e0153>\u001b[0m in \u001b[0;36m<module>\u001b[1;34m\u001b[0m\n\u001b[1;32m----> 1\u001b[1;33m \u001b[0mcreate_document_term_matrix\u001b[0m\u001b[1;33m(\u001b[0m\u001b[0mmsg_1\u001b[0m\u001b[1;33m,\u001b[0m \u001b[0mcount_vect\u001b[0m\u001b[1;33m,\u001b[0m \u001b[0mngram_range\u001b[0m\u001b[1;33m)\u001b[0m\u001b[1;33m\u001b[0m\u001b[1;33m\u001b[0m\u001b[0m\n\u001b[0m",
      "\u001b[1;31mNameError\u001b[0m: name 'ngram_range' is not defined"
     ]
    }
   ],
   "source": [
    "create_document_term_matrix(msg_1, count_vect, ngram_range)"
   ]
  },
  {
   "cell_type": "code",
   "execution_count": null,
   "id": "b5bdfbc0",
   "metadata": {},
   "outputs": [],
   "source": []
  }
 ],
 "metadata": {
  "kernelspec": {
   "display_name": "Python 3",
   "language": "python",
   "name": "python3"
  },
  "language_info": {
   "codemirror_mode": {
    "name": "ipython",
    "version": 3
   },
   "file_extension": ".py",
   "mimetype": "text/x-python",
   "name": "python",
   "nbconvert_exporter": "python",
   "pygments_lexer": "ipython3",
   "version": "3.8.8"
  }
 },
 "nbformat": 4,
 "nbformat_minor": 5
}
