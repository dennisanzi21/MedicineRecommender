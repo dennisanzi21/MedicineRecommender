{
 "cells": [
  {
   "cell_type": "code",
   "execution_count": null,
   "id": "11d06aa4",
   "metadata": {},
   "outputs": [],
   "source": [
    "# Pandas is a data analysis tool that allows importing data from other file formats\n",
    "import pandas as pd\n",
    "# Numpy facilitate advanced mathematical operation on large numbers of data\n",
    "import numpy as np\n",
    "# Pyplot is a module in matplotlib that manipulate elements of a figure, create figure\n",
    "import matplotlib.pyplot as plt\n",
    "# Seaborn is used for making statistical graphics.\n",
    "import seaborn as sns\n",
    "# plot_decision_regions is a function for plotting decision regions of classifiers in 1 or 2 dimensions\n",
    "from mlxtend.plotting import plot_decision_regions\n",
    "\n",
    "# ggplot is used to map data to visual objects that make up the visualization\n",
    "plt.style.use('ggplot')\n",
    "# specifying figure format\n",
    "%config InlineBackend.figure_format = 'svg'\n",
    "# renders the figure in a notebook\n",
    "%matplotlib inline\n",
    "np.set_printoptions(suppress=True) # Suppress scientific notation where possible"
   ]
  },
  {
   "cell_type": "code",
   "execution_count": null,
   "id": "398f0351",
   "metadata": {},
   "outputs": [],
   "source": []
  }
 ],
 "metadata": {
  "kernelspec": {
   "display_name": "Python 3",
   "language": "python",
   "name": "python3"
  },
  "language_info": {
   "codemirror_mode": {
    "name": "ipython",
    "version": 3
   },
   "file_extension": ".py",
   "mimetype": "text/x-python",
   "name": "python",
   "nbconvert_exporter": "python",
   "pygments_lexer": "ipython3",
   "version": "3.8.8"
  }
 },
 "nbformat": 4,
 "nbformat_minor": 5
}
