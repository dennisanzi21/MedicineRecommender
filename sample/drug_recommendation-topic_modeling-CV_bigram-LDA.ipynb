{
 "cells": [
  {
   "cell_type": "code",
   "execution_count": 2,
   "metadata": {
    "ExecuteTime": {
     "end_time": "2020-02-28T07:47:28.019418Z",
     "start_time": "2020-02-28T07:47:25.762612Z"
    }
   },
   "outputs": [],
   "source": [
    "import pandas as pd\n",
    "import numpy as np\n",
    "\n",
    "import matplotlib.pyplot as plt\n",
    "import seaborn as sns\n",
    "from mlxtend.plotting import plot_decision_regions\n",
    "\n",
    "plt.style.use('ggplot')\n",
    "%config InlineBackend.figure_format = 'svg'\n",
    "%matplotlib inline\n",
    "np.set_printoptions(suppress=True) # Suppress scientific notation where possible"
   ]
  },
  {
   "cell_type": "code",
   "execution_count": 3,
   "metadata": {
    "ExecuteTime": {
     "end_time": "2020-02-28T07:47:28.556370Z",
     "start_time": "2020-02-28T07:47:28.021578Z"
    }
   },
   "outputs": [],
   "source": [
    "from sklearn.feature_extraction.text import CountVectorizer\n",
    "from gensim import corpora, models, similarities, matutils\n",
    "from sklearn.decomposition import TruncatedSVD\n",
    "from sklearn.metrics.pairwise import cosine_similarity"
   ]
  },
  {
   "cell_type": "markdown",
   "metadata": {},
   "source": [
    "### Import cleaned datasets"
   ]
  },
  {
   "cell_type": "code",
   "execution_count": 4,
   "metadata": {
    "ExecuteTime": {
     "end_time": "2020-02-28T07:47:29.047017Z",
     "start_time": "2020-02-28T07:47:28.558662Z"
    }
   },
   "outputs": [],
   "source": [
    "df_train_s = pd.read_csv(r'df_train.csv')\n",
    "# df_test_s = pd.read_csv('C:/Users/ND/Documents/GitHub/drug-recommendation/df_test.csv')"
   ]
  },
  {
   "cell_type": "code",
   "execution_count": 5,
   "metadata": {
    "ExecuteTime": {
     "end_time": "2020-02-28T07:47:29.100921Z",
     "start_time": "2020-02-28T07:47:29.049613Z"
    }
   },
   "outputs": [
    {
     "name": "stdout",
     "output_type": "stream",
     "text": [
      "<class 'pandas.core.frame.DataFrame'>\n",
      "RangeIndex: 148387 entries, 0 to 148386\n",
      "Data columns (total 5 columns):\n",
      " #   Column       Non-Null Count   Dtype  \n",
      "---  ------       --------------   -----  \n",
      " 0   drugName     148387 non-null  object \n",
      " 1   condition    148387 non-null  object \n",
      " 2   rating       148387 non-null  float64\n",
      " 3   usefulCount  148387 non-null  int64  \n",
      " 4   review       148386 non-null  object \n",
      "dtypes: float64(1), int64(1), object(3)\n",
      "memory usage: 5.7+ MB\n"
     ]
    }
   ],
   "source": [
    "df_train_s.info()"
   ]
  },
  {
   "cell_type": "code",
   "execution_count": 6,
   "metadata": {
    "ExecuteTime": {
     "end_time": "2020-02-28T07:47:29.159263Z",
     "start_time": "2020-02-28T07:47:29.103818Z"
    }
   },
   "outputs": [],
   "source": [
    "#drop Nan value\n",
    "df_train_s.dropna(inplace=True)"
   ]
  },
  {
   "cell_type": "code",
   "execution_count": 7,
   "metadata": {
    "ExecuteTime": {
     "end_time": "2020-02-28T07:47:29.166672Z",
     "start_time": "2020-02-28T07:47:29.161550Z"
    }
   },
   "outputs": [],
   "source": [
    "df_train_s.reset_index(inplace=True)"
   ]
  },
  {
   "cell_type": "code",
   "execution_count": 8,
   "metadata": {
    "ExecuteTime": {
     "end_time": "2020-02-28T07:47:33.015994Z",
     "start_time": "2020-02-28T07:47:33.008429Z"
    }
   },
   "outputs": [
    {
     "data": {
      "text/plain": [
       "0                                 ADHD\n",
       "1                        Birth Control\n",
       "2                        Birth Control\n",
       "3         Benign Prostatic Hyperplasia\n",
       "4              Emergency Contraception\n",
       "                      ...             \n",
       "148381                   Birth Control\n",
       "148382                 Nausea/Vomiting\n",
       "148383            Rheumatoid Arthritis\n",
       "148384             Underactive Thyroid\n",
       "148385           Constipation, Chronic\n",
       "Name: condition, Length: 148386, dtype: object"
      ]
     },
     "execution_count": 8,
     "metadata": {},
     "output_type": "execute_result"
    }
   ],
   "source": [
    "df_train_s['condition']\n"
   ]
  },
  {
   "cell_type": "code",
   "execution_count": 9,
   "metadata": {
    "ExecuteTime": {
     "end_time": "2020-02-28T07:47:33.484383Z",
     "start_time": "2020-02-28T07:47:33.479704Z"
    }
   },
   "outputs": [],
   "source": [
    "condition_list=df_train_s['condition'].tolist()"
   ]
  },
  {
   "cell_type": "code",
   "execution_count": 10,
   "metadata": {
    "ExecuteTime": {
     "end_time": "2020-02-28T07:47:34.426886Z",
     "start_time": "2020-02-28T07:47:34.423802Z"
    }
   },
   "outputs": [],
   "source": [
    "corpus_train=df_train_s.review\n",
    "# corpus_test=df_test_s.review"
   ]
  },
  {
   "cell_type": "code",
   "execution_count": 11,
   "metadata": {
    "ExecuteTime": {
     "end_time": "2020-02-28T07:47:35.816603Z",
     "start_time": "2020-02-28T07:47:34.996440Z"
    }
   },
   "outputs": [],
   "source": [
    "#custom stopwords\n",
    "from nltk.corpus import stopwords\n",
    "\n",
    "stop = set(stopwords.words('english'))\n",
    "n = [\"aren't\",\"couldn't\",\"didn't\",\"doesn't\",\"don't\",\"hadn't\",\"hasn't\",\"haven't\",\"isn't\",\n",
    "     \"mightn't\",\"mustn't\",\"needn't\",\"no\",\"nor\",\"not\",\"shan't\",\"shouldn't\",\"wasn't\",\"weren't\",\"wouldn't\"]\n",
    "for i in n:\n",
    "    stop.remove(i)\n",
    "\n",
    "a = ['mg', 'week', 'month', 'day', 'january', 'february', 'march', 'april', 'may', 'june', 'july', \n",
    "     'august', 'september','october','november','december', 'iv','oral','pound',]\n",
    "for j in a:\n",
    "    stop.add(j)"
   ]
  },
  {
   "cell_type": "markdown",
   "metadata": {},
   "source": [
    "### CountVectorizer"
   ]
  },
  {
   "cell_type": "code",
   "execution_count": 12,
   "metadata": {
    "ExecuteTime": {
     "end_time": "2020-02-28T07:47:49.143780Z",
     "start_time": "2020-02-28T07:47:36.206929Z"
    }
   },
   "outputs": [
    {
     "data": {
      "text/plain": [
       "CountVectorizer(max_df=0.8, min_df=0.01, ngram_range=(1, 2))"
      ]
     },
     "execution_count": 12,
     "metadata": {},
     "output_type": "execute_result"
    }
   ],
   "source": [
    "# Create a CountVectorizer for parsing/counting words\n",
    "cv = CountVectorizer(ngram_range=(1, 2), min_df=0.01, max_df=0.8)\n",
    "# cv = CountVectorizer(ngram_range=(2, 2), min_df=10, max_df=0.8)\n",
    "\n",
    "cv.fit(corpus_train)"
   ]
  },
  {
   "cell_type": "code",
   "execution_count": 13,
   "metadata": {
    "ExecuteTime": {
     "end_time": "2020-02-28T07:48:09.744295Z",
     "start_time": "2020-02-28T07:48:02.744254Z"
    }
   },
   "outputs": [],
   "source": [
    "doc_word = cv.transform(corpus_train).transpose()"
   ]
  },
  {
   "cell_type": "code",
   "execution_count": 14,
   "metadata": {
    "ExecuteTime": {
     "end_time": "2020-02-28T07:48:16.240356Z",
     "start_time": "2020-02-28T07:48:09.746913Z"
    }
   },
   "outputs": [
    {
     "data": {
      "text/html": [
       "<div>\n",
       "<style scoped>\n",
       "    .dataframe tbody tr th:only-of-type {\n",
       "        vertical-align: middle;\n",
       "    }\n",
       "\n",
       "    .dataframe tbody tr th {\n",
       "        vertical-align: top;\n",
       "    }\n",
       "\n",
       "    .dataframe thead th {\n",
       "        text-align: right;\n",
       "    }\n",
       "</style>\n",
       "<table border=\"1\" class=\"dataframe\">\n",
       "  <thead>\n",
       "    <tr style=\"text-align: right;\">\n",
       "      <th></th>\n",
       "      <th>0</th>\n",
       "      <th>1</th>\n",
       "      <th>2</th>\n",
       "      <th>3</th>\n",
       "      <th>4</th>\n",
       "      <th>5</th>\n",
       "      <th>6</th>\n",
       "      <th>7</th>\n",
       "      <th>8</th>\n",
       "      <th>9</th>\n",
       "      <th>...</th>\n",
       "      <th>148376</th>\n",
       "      <th>148377</th>\n",
       "      <th>148378</th>\n",
       "      <th>148379</th>\n",
       "      <th>148380</th>\n",
       "      <th>148381</th>\n",
       "      <th>148382</th>\n",
       "      <th>148383</th>\n",
       "      <th>148384</th>\n",
       "      <th>148385</th>\n",
       "    </tr>\n",
       "  </thead>\n",
       "  <tbody>\n",
       "    <tr>\n",
       "      <th>able</th>\n",
       "      <td>0</td>\n",
       "      <td>0</td>\n",
       "      <td>0</td>\n",
       "      <td>0</td>\n",
       "      <td>0</td>\n",
       "      <td>0</td>\n",
       "      <td>0</td>\n",
       "      <td>0</td>\n",
       "      <td>0</td>\n",
       "      <td>0</td>\n",
       "      <td>...</td>\n",
       "      <td>0</td>\n",
       "      <td>0</td>\n",
       "      <td>0</td>\n",
       "      <td>0</td>\n",
       "      <td>0</td>\n",
       "      <td>0</td>\n",
       "      <td>0</td>\n",
       "      <td>0</td>\n",
       "      <td>0</td>\n",
       "      <td>0</td>\n",
       "    </tr>\n",
       "    <tr>\n",
       "      <th>absolutely</th>\n",
       "      <td>0</td>\n",
       "      <td>0</td>\n",
       "      <td>0</td>\n",
       "      <td>0</td>\n",
       "      <td>0</td>\n",
       "      <td>0</td>\n",
       "      <td>0</td>\n",
       "      <td>0</td>\n",
       "      <td>0</td>\n",
       "      <td>0</td>\n",
       "      <td>...</td>\n",
       "      <td>0</td>\n",
       "      <td>0</td>\n",
       "      <td>0</td>\n",
       "      <td>0</td>\n",
       "      <td>0</td>\n",
       "      <td>0</td>\n",
       "      <td>0</td>\n",
       "      <td>0</td>\n",
       "      <td>0</td>\n",
       "      <td>0</td>\n",
       "    </tr>\n",
       "    <tr>\n",
       "      <th>ache</th>\n",
       "      <td>0</td>\n",
       "      <td>0</td>\n",
       "      <td>0</td>\n",
       "      <td>1</td>\n",
       "      <td>0</td>\n",
       "      <td>0</td>\n",
       "      <td>0</td>\n",
       "      <td>0</td>\n",
       "      <td>0</td>\n",
       "      <td>0</td>\n",
       "      <td>...</td>\n",
       "      <td>0</td>\n",
       "      <td>0</td>\n",
       "      <td>0</td>\n",
       "      <td>0</td>\n",
       "      <td>0</td>\n",
       "      <td>0</td>\n",
       "      <td>0</td>\n",
       "      <td>0</td>\n",
       "      <td>0</td>\n",
       "      <td>0</td>\n",
       "    </tr>\n",
       "    <tr>\n",
       "      <th>acne</th>\n",
       "      <td>0</td>\n",
       "      <td>0</td>\n",
       "      <td>0</td>\n",
       "      <td>0</td>\n",
       "      <td>0</td>\n",
       "      <td>0</td>\n",
       "      <td>0</td>\n",
       "      <td>2</td>\n",
       "      <td>0</td>\n",
       "      <td>0</td>\n",
       "      <td>...</td>\n",
       "      <td>0</td>\n",
       "      <td>0</td>\n",
       "      <td>0</td>\n",
       "      <td>0</td>\n",
       "      <td>0</td>\n",
       "      <td>0</td>\n",
       "      <td>0</td>\n",
       "      <td>0</td>\n",
       "      <td>0</td>\n",
       "      <td>0</td>\n",
       "    </tr>\n",
       "    <tr>\n",
       "      <th>active</th>\n",
       "      <td>0</td>\n",
       "      <td>0</td>\n",
       "      <td>0</td>\n",
       "      <td>0</td>\n",
       "      <td>0</td>\n",
       "      <td>0</td>\n",
       "      <td>0</td>\n",
       "      <td>0</td>\n",
       "      <td>0</td>\n",
       "      <td>0</td>\n",
       "      <td>...</td>\n",
       "      <td>0</td>\n",
       "      <td>0</td>\n",
       "      <td>0</td>\n",
       "      <td>0</td>\n",
       "      <td>0</td>\n",
       "      <td>0</td>\n",
       "      <td>0</td>\n",
       "      <td>0</td>\n",
       "      <td>0</td>\n",
       "      <td>0</td>\n",
       "    </tr>\n",
       "  </tbody>\n",
       "</table>\n",
       "<p>5 rows × 148386 columns</p>\n",
       "</div>"
      ],
      "text/plain": [
       "            0       1       2       3       4       5       6       7       \\\n",
       "able             0       0       0       0       0       0       0       0   \n",
       "absolutely       0       0       0       0       0       0       0       0   \n",
       "ache             0       0       0       1       0       0       0       0   \n",
       "acne             0       0       0       0       0       0       0       2   \n",
       "active           0       0       0       0       0       0       0       0   \n",
       "\n",
       "            8       9       ...  148376  148377  148378  148379  148380  \\\n",
       "able             0       0  ...       0       0       0       0       0   \n",
       "absolutely       0       0  ...       0       0       0       0       0   \n",
       "ache             0       0  ...       0       0       0       0       0   \n",
       "acne             0       0  ...       0       0       0       0       0   \n",
       "active           0       0  ...       0       0       0       0       0   \n",
       "\n",
       "            148381  148382  148383  148384  148385  \n",
       "able             0       0       0       0       0  \n",
       "absolutely       0       0       0       0       0  \n",
       "ache             0       0       0       0       0  \n",
       "acne             0       0       0       0       0  \n",
       "active           0       0       0       0       0  \n",
       "\n",
       "[5 rows x 148386 columns]"
      ]
     },
     "execution_count": 14,
     "metadata": {},
     "output_type": "execute_result"
    }
   ],
   "source": [
    "pd.DataFrame(doc_word.toarray(), cv.get_feature_names()).head()"
   ]
  },
  {
   "cell_type": "code",
   "execution_count": 15,
   "metadata": {
    "ExecuteTime": {
     "end_time": "2020-02-28T07:48:16.245247Z",
     "start_time": "2020-02-28T07:48:16.242752Z"
    }
   },
   "outputs": [],
   "source": [
    "corpus = matutils.Sparse2Corpus(doc_word)"
   ]
  },
  {
   "cell_type": "code",
   "execution_count": 16,
   "metadata": {
    "ExecuteTime": {
     "end_time": "2020-02-28T07:48:17.507913Z",
     "start_time": "2020-02-28T07:48:17.479216Z"
    }
   },
   "outputs": [],
   "source": [
    "id2word = dict((v, k) for k, v in cv.vocabulary_.items())"
   ]
  },
  {
   "cell_type": "code",
   "execution_count": 17,
   "metadata": {
    "ExecuteTime": {
     "end_time": "2020-02-28T07:48:18.131450Z",
     "start_time": "2020-02-28T07:48:18.126570Z"
    }
   },
   "outputs": [
    {
     "data": {
      "text/plain": [
       "703"
      ]
     },
     "execution_count": 17,
     "metadata": {},
     "output_type": "execute_result"
    }
   ],
   "source": [
    "len(id2word)"
   ]
  },
  {
   "cell_type": "markdown",
   "metadata": {},
   "source": [
    "### LDA"
   ]
  },
  {
   "cell_type": "code",
   "execution_count": 18,
   "metadata": {
    "ExecuteTime": {
     "end_time": "2020-02-28T07:48:29.021169Z",
     "start_time": "2020-02-28T07:48:18.817825Z"
    },
    "scrolled": true
   },
   "outputs": [],
   "source": [
    "lda = models.LdaModel(corpus=corpus, num_topics=2, id2word=id2word, passes=10)"
   ]
  },
  {
   "cell_type": "code",
   "execution_count": 19,
   "metadata": {
    "ExecuteTime": {
     "end_time": "2020-02-28T07:48:29.024401Z",
     "start_time": "2020-02-28T07:48:19.438Z"
    }
   },
   "outputs": [
    {
     "data": {
      "text/plain": [
       "[(0,\n",
       "  '0.017*\"not\" + 0.015*\"effect\" + 0.014*\"year\" + 0.014*\"pain\" + 0.014*\"side\" + 0.013*\"take\" + 0.013*\"side effect\" + 0.013*\"taking\" + 0.011*\"time\" + 0.011*\"work\"'),\n",
       " (1,\n",
       "  '0.024*\"period\" + 0.023*\"pill\" + 0.017*\"not\" + 0.017*\"month\" + 0.016*\"weight\" + 0.015*\"no\" + 0.012*\"first\" + 0.012*\"control\" + 0.012*\"year\" + 0.010*\"got\"')]"
      ]
     },
     "execution_count": 19,
     "metadata": {},
     "output_type": "execute_result"
    }
   ],
   "source": [
    "lda.print_topics()"
   ]
  },
  {
   "cell_type": "code",
   "execution_count": 20,
   "metadata": {
    "ExecuteTime": {
     "end_time": "2020-02-28T07:48:29.026136Z",
     "start_time": "2020-02-28T07:48:20.862Z"
    }
   },
   "outputs": [
    {
     "data": {
      "text/plain": [
       "<gensim.interfaces.TransformedCorpus at 0x204429fff70>"
      ]
     },
     "execution_count": 20,
     "metadata": {},
     "output_type": "execute_result"
    }
   ],
   "source": [
    "lda_corpus = lda[corpus]\n",
    "lda_corpus"
   ]
  },
  {
   "cell_type": "code",
   "execution_count": 21,
   "metadata": {
    "ExecuteTime": {
     "end_time": "2020-02-28T05:25:29.134075Z",
     "start_time": "2020-02-28T05:24:53.909104Z"
    }
   },
   "outputs": [],
   "source": [
    "lda_docs = [doc for doc in lda_corpus]"
   ]
  },
  {
   "cell_type": "code",
   "execution_count": 22,
   "metadata": {
    "ExecuteTime": {
     "end_time": "2020-02-28T05:25:41.623550Z",
     "start_time": "2020-02-28T05:25:41.618137Z"
    }
   },
   "outputs": [
    {
     "data": {
      "text/plain": [
       "[[(0, 0.8336926), (1, 0.16630737)],\n",
       " [(0, 0.0335737), (1, 0.9664263)],\n",
       " [(0, 0.016481614), (1, 0.98351836)],\n",
       " [(0, 0.9771733), (1, 0.02282668)],\n",
       " [(0, 0.21441337), (1, 0.7855866)]]"
      ]
     },
     "execution_count": 22,
     "metadata": {},
     "output_type": "execute_result"
    }
   ],
   "source": [
    "lda_docs[0:5]"
   ]
  },
  {
   "cell_type": "code",
   "execution_count": 23,
   "metadata": {
    "ExecuteTime": {
     "end_time": "2020-02-28T05:25:43.769121Z",
     "start_time": "2020-02-28T05:25:43.764310Z"
    }
   },
   "outputs": [
    {
     "data": {
      "text/plain": [
       "148386"
      ]
     },
     "execution_count": 23,
     "metadata": {},
     "output_type": "execute_result"
    }
   ],
   "source": [
    "len(lda_docs)"
   ]
  },
  {
   "cell_type": "code",
   "execution_count": 24,
   "metadata": {
    "ExecuteTime": {
     "end_time": "2020-02-28T05:25:47.049609Z",
     "start_time": "2020-02-28T05:25:45.127634Z"
    },
    "scrolled": false
   },
   "outputs": [
    {
     "data": {
      "image/svg+xml": [
       "<?xml version=\"1.0\" encoding=\"utf-8\" standalone=\"no\"?>\r\n",
       "<!DOCTYPE svg PUBLIC \"-//W3C//DTD SVG 1.1//EN\"\r\n",
       "  \"http://www.w3.org/Graphics/SVG/1.1/DTD/svg11.dtd\">\r\n",
       "<!-- Created with matplotlib (https://matplotlib.org/) -->\r\n",
       "<svg height=\"280.0935pt\" version=\"1.1\" viewBox=\"0 0 712.8 280.0935\" width=\"712.8pt\" xmlns=\"http://www.w3.org/2000/svg\" xmlns:xlink=\"http://www.w3.org/1999/xlink\">\r\n",
       " <metadata>\r\n",
       "  <rdf:RDF xmlns:cc=\"http://creativecommons.org/ns#\" xmlns:dc=\"http://purl.org/dc/elements/1.1/\" xmlns:rdf=\"http://www.w3.org/1999/02/22-rdf-syntax-ns#\">\r\n",
       "   <cc:Work>\r\n",
       "    <dc:type rdf:resource=\"http://purl.org/dc/dcmitype/StillImage\"/>\r\n",
       "    <dc:date>2021-08-17T15:29:18.143661</dc:date>\r\n",
       "    <dc:format>image/svg+xml</dc:format>\r\n",
       "    <dc:creator>\r\n",
       "     <cc:Agent>\r\n",
       "      <dc:title>Matplotlib v3.3.4, https://matplotlib.org/</dc:title>\r\n",
       "     </cc:Agent>\r\n",
       "    </dc:creator>\r\n",
       "   </cc:Work>\r\n",
       "  </rdf:RDF>\r\n",
       " </metadata>\r\n",
       " <defs>\r\n",
       "  <style type=\"text/css\">*{stroke-linecap:butt;stroke-linejoin:round;}</style>\r\n",
       " </defs>\r\n",
       " <g id=\"figure_1\">\r\n",
       "  <g id=\"patch_1\">\r\n",
       "   <path d=\"M 0 280.0935 \r\n",
       "L 712.8 280.0935 \r\n",
       "L 712.8 0 \r\n",
       "L 0 0 \r\n",
       "z\r\n",
       "\" style=\"fill:none;\"/>\r\n",
       "  </g>\r\n",
       "  <g id=\"axes_1\">\r\n",
       "   <g clip-path=\"url(#pcc63265e65)\">\r\n",
       "    <image height=\"248\" id=\"image0e5069f25f\" transform=\"scale(1 -1)translate(0 -248)\" width=\"344\" x=\"7.2\" xlink:href=\"data:image/png;base64,\r\n",
       "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\" y=\"-24.8935\"/>\r\n",
       "   </g>\r\n",
       "   <g id=\"text_1\">\r\n",
       "    <!-- Topic 0 -->\r\n",
       "    <g transform=\"translate(151.34625 19.3575)scale(0.16 -0.16)\">\r\n",
       "     <defs>\r\n",
       "      <path d=\"M -0.296875 72.90625 \r\n",
       "L 61.375 72.90625 \r\n",
       "L 61.375 64.59375 \r\n",
       "L 35.5 64.59375 \r\n",
       "L 35.5 0 \r\n",
       "L 25.59375 0 \r\n",
       "L 25.59375 64.59375 \r\n",
       "L -0.296875 64.59375 \r\n",
       "z\r\n",
       "\" id=\"DejaVuSans-84\"/>\r\n",
       "      <path d=\"M 30.609375 48.390625 \r\n",
       "Q 23.390625 48.390625 19.1875 42.75 \r\n",
       "Q 14.984375 37.109375 14.984375 27.296875 \r\n",
       "Q 14.984375 17.484375 19.15625 11.84375 \r\n",
       "Q 23.34375 6.203125 30.609375 6.203125 \r\n",
       "Q 37.796875 6.203125 41.984375 11.859375 \r\n",
       "Q 46.1875 17.53125 46.1875 27.296875 \r\n",
       "Q 46.1875 37.015625 41.984375 42.703125 \r\n",
       "Q 37.796875 48.390625 30.609375 48.390625 \r\n",
       "z\r\n",
       "M 30.609375 56 \r\n",
       "Q 42.328125 56 49.015625 48.375 \r\n",
       "Q 55.71875 40.765625 55.71875 27.296875 \r\n",
       "Q 55.71875 13.875 49.015625 6.21875 \r\n",
       "Q 42.328125 -1.421875 30.609375 -1.421875 \r\n",
       "Q 18.84375 -1.421875 12.171875 6.21875 \r\n",
       "Q 5.515625 13.875 5.515625 27.296875 \r\n",
       "Q 5.515625 40.765625 12.171875 48.375 \r\n",
       "Q 18.84375 56 30.609375 56 \r\n",
       "z\r\n",
       "\" id=\"DejaVuSans-111\"/>\r\n",
       "      <path d=\"M 18.109375 8.203125 \r\n",
       "L 18.109375 -20.796875 \r\n",
       "L 9.078125 -20.796875 \r\n",
       "L 9.078125 54.6875 \r\n",
       "L 18.109375 54.6875 \r\n",
       "L 18.109375 46.390625 \r\n",
       "Q 20.953125 51.265625 25.265625 53.625 \r\n",
       "Q 29.59375 56 35.59375 56 \r\n",
       "Q 45.5625 56 51.78125 48.09375 \r\n",
       "Q 58.015625 40.1875 58.015625 27.296875 \r\n",
       "Q 58.015625 14.40625 51.78125 6.484375 \r\n",
       "Q 45.5625 -1.421875 35.59375 -1.421875 \r\n",
       "Q 29.59375 -1.421875 25.265625 0.953125 \r\n",
       "Q 20.953125 3.328125 18.109375 8.203125 \r\n",
       "z\r\n",
       "M 48.6875 27.296875 \r\n",
       "Q 48.6875 37.203125 44.609375 42.84375 \r\n",
       "Q 40.53125 48.484375 33.40625 48.484375 \r\n",
       "Q 26.265625 48.484375 22.1875 42.84375 \r\n",
       "Q 18.109375 37.203125 18.109375 27.296875 \r\n",
       "Q 18.109375 17.390625 22.1875 11.75 \r\n",
       "Q 26.265625 6.109375 33.40625 6.109375 \r\n",
       "Q 40.53125 6.109375 44.609375 11.75 \r\n",
       "Q 48.6875 17.390625 48.6875 27.296875 \r\n",
       "z\r\n",
       "\" id=\"DejaVuSans-112\"/>\r\n",
       "      <path d=\"M 9.421875 54.6875 \r\n",
       "L 18.40625 54.6875 \r\n",
       "L 18.40625 0 \r\n",
       "L 9.421875 0 \r\n",
       "z\r\n",
       "M 9.421875 75.984375 \r\n",
       "L 18.40625 75.984375 \r\n",
       "L 18.40625 64.59375 \r\n",
       "L 9.421875 64.59375 \r\n",
       "z\r\n",
       "\" id=\"DejaVuSans-105\"/>\r\n",
       "      <path d=\"M 48.78125 52.59375 \r\n",
       "L 48.78125 44.1875 \r\n",
       "Q 44.96875 46.296875 41.140625 47.34375 \r\n",
       "Q 37.3125 48.390625 33.40625 48.390625 \r\n",
       "Q 24.65625 48.390625 19.8125 42.84375 \r\n",
       "Q 14.984375 37.3125 14.984375 27.296875 \r\n",
       "Q 14.984375 17.28125 19.8125 11.734375 \r\n",
       "Q 24.65625 6.203125 33.40625 6.203125 \r\n",
       "Q 37.3125 6.203125 41.140625 7.25 \r\n",
       "Q 44.96875 8.296875 48.78125 10.40625 \r\n",
       "L 48.78125 2.09375 \r\n",
       "Q 45.015625 0.34375 40.984375 -0.53125 \r\n",
       "Q 36.96875 -1.421875 32.421875 -1.421875 \r\n",
       "Q 20.0625 -1.421875 12.78125 6.34375 \r\n",
       "Q 5.515625 14.109375 5.515625 27.296875 \r\n",
       "Q 5.515625 40.671875 12.859375 48.328125 \r\n",
       "Q 20.21875 56 33.015625 56 \r\n",
       "Q 37.15625 56 41.109375 55.140625 \r\n",
       "Q 45.0625 54.296875 48.78125 52.59375 \r\n",
       "z\r\n",
       "\" id=\"DejaVuSans-99\"/>\r\n",
       "      <path id=\"DejaVuSans-32\"/>\r\n",
       "      <path d=\"M 31.78125 66.40625 \r\n",
       "Q 24.171875 66.40625 20.328125 58.90625 \r\n",
       "Q 16.5 51.421875 16.5 36.375 \r\n",
       "Q 16.5 21.390625 20.328125 13.890625 \r\n",
       "Q 24.171875 6.390625 31.78125 6.390625 \r\n",
       "Q 39.453125 6.390625 43.28125 13.890625 \r\n",
       "Q 47.125 21.390625 47.125 36.375 \r\n",
       "Q 47.125 51.421875 43.28125 58.90625 \r\n",
       "Q 39.453125 66.40625 31.78125 66.40625 \r\n",
       "z\r\n",
       "M 31.78125 74.21875 \r\n",
       "Q 44.046875 74.21875 50.515625 64.515625 \r\n",
       "Q 56.984375 54.828125 56.984375 36.375 \r\n",
       "Q 56.984375 17.96875 50.515625 8.265625 \r\n",
       "Q 44.046875 -1.421875 31.78125 -1.421875 \r\n",
       "Q 19.53125 -1.421875 13.0625 8.265625 \r\n",
       "Q 6.59375 17.96875 6.59375 36.375 \r\n",
       "Q 6.59375 54.828125 13.0625 64.515625 \r\n",
       "Q 19.53125 74.21875 31.78125 74.21875 \r\n",
       "z\r\n",
       "\" id=\"DejaVuSans-48\"/>\r\n",
       "     </defs>\r\n",
       "     <use xlink:href=\"#DejaVuSans-84\"/>\r\n",
       "     <use x=\"44.083984\" xlink:href=\"#DejaVuSans-111\"/>\r\n",
       "     <use x=\"105.265625\" xlink:href=\"#DejaVuSans-112\"/>\r\n",
       "     <use x=\"168.742188\" xlink:href=\"#DejaVuSans-105\"/>\r\n",
       "     <use x=\"196.525391\" xlink:href=\"#DejaVuSans-99\"/>\r\n",
       "     <use x=\"251.505859\" xlink:href=\"#DejaVuSans-32\"/>\r\n",
       "     <use x=\"283.292969\" xlink:href=\"#DejaVuSans-48\"/>\r\n",
       "    </g>\r\n",
       "   </g>\r\n",
       "  </g>\r\n",
       "  <g id=\"axes_2\">\r\n",
       "   <g clip-path=\"url(#p72b6f6afcb)\">\r\n",
       "    <image height=\"248\" id=\"imagee2784d0df4\" transform=\"scale(1 -1)translate(0 -248)\" width=\"344\" x=\"361.8\" xlink:href=\"data:image/png;base64,\r\n",
       "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\" y=\"-24.8935\"/>\r\n",
       "   </g>\r\n",
       "   <g id=\"text_2\">\r\n",
       "    <!-- Topic 1 -->\r\n",
       "    <g transform=\"translate(505.94625 19.3575)scale(0.16 -0.16)\">\r\n",
       "     <defs>\r\n",
       "      <path d=\"M 12.40625 8.296875 \r\n",
       "L 28.515625 8.296875 \r\n",
       "L 28.515625 63.921875 \r\n",
       "L 10.984375 60.40625 \r\n",
       "L 10.984375 69.390625 \r\n",
       "L 28.421875 72.90625 \r\n",
       "L 38.28125 72.90625 \r\n",
       "L 38.28125 8.296875 \r\n",
       "L 54.390625 8.296875 \r\n",
       "L 54.390625 0 \r\n",
       "L 12.40625 0 \r\n",
       "z\r\n",
       "\" id=\"DejaVuSans-49\"/>\r\n",
       "     </defs>\r\n",
       "     <use xlink:href=\"#DejaVuSans-84\"/>\r\n",
       "     <use x=\"44.083984\" xlink:href=\"#DejaVuSans-111\"/>\r\n",
       "     <use x=\"105.265625\" xlink:href=\"#DejaVuSans-112\"/>\r\n",
       "     <use x=\"168.742188\" xlink:href=\"#DejaVuSans-105\"/>\r\n",
       "     <use x=\"196.525391\" xlink:href=\"#DejaVuSans-99\"/>\r\n",
       "     <use x=\"251.505859\" xlink:href=\"#DejaVuSans-32\"/>\r\n",
       "     <use x=\"283.292969\" xlink:href=\"#DejaVuSans-49\"/>\r\n",
       "    </g>\r\n",
       "   </g>\r\n",
       "  </g>\r\n",
       " </g>\r\n",
       " <defs>\r\n",
       "  <clipPath id=\"pcc63265e65\">\r\n",
       "   <rect height=\"247.536\" width=\"343.8\" x=\"7.2\" y=\"25.3575\"/>\r\n",
       "  </clipPath>\r\n",
       "  <clipPath id=\"p72b6f6afcb\">\r\n",
       "   <rect height=\"247.536\" width=\"343.8\" x=\"361.8\" y=\"25.3575\"/>\r\n",
       "  </clipPath>\r\n",
       " </defs>\r\n",
       "</svg>\r\n"
      ],
      "text/plain": [
       "<Figure size 720x1440 with 2 Axes>"
      ]
     },
     "metadata": {
      "needs_background": "light"
     },
     "output_type": "display_data"
    },
    {
     "data": {
      "text/plain": [
       "<Figure size 432x288 with 0 Axes>"
      ]
     },
     "metadata": {},
     "output_type": "display_data"
    }
   ],
   "source": [
    "from wordcloud import WordCloud\n",
    "import matplotlib.colors as mcolors\n",
    "\n",
    "cols = [color for name, color in mcolors.TABLEAU_COLORS.items()]  # more colors: 'mcolors.XKCD_COLORS'\n",
    "\n",
    "cloud = WordCloud(stopwords=stop,\n",
    "                  background_color='white',\n",
    "                  width=2500,\n",
    "                  height=1800,\n",
    "                  max_words=10,\n",
    "                  colormap='tab10',\n",
    "                  color_func=lambda *args, **kwargs: cols[i],\n",
    "                  prefer_horizontal=1.0)\n",
    "\n",
    "topics = lda.show_topics(formatted=False)\n",
    "\n",
    "fig, axes = plt.subplots(1, 2, figsize=(10,20), sharex=True, sharey=True)\n",
    "\n",
    "for i, ax in enumerate(axes.flatten()):\n",
    "    fig.add_subplot(ax)\n",
    "    topic_words = dict(topics[i][1])\n",
    "    cloud.generate_from_frequencies(topic_words, max_font_size=300)\n",
    "    plt.gca().imshow(cloud)\n",
    "    plt.gca().set_title('Topic ' + str(i), fontdict=dict(size=16))\n",
    "    plt.gca().axis('off')\n",
    "\n",
    "plt.subplots_adjust(wspace=0, hspace=0)\n",
    "plt.axis('off')\n",
    "plt.margins(x=0, y=0)\n",
    "plt.tight_layout()\n",
    "plt.show()\n",
    "\n",
    "plt.savefig(r'fig/wc_bigram_lda-2.svg')"
   ]
  },
  {
   "cell_type": "code",
   "execution_count": 25,
   "metadata": {
    "ExecuteTime": {
     "end_time": "2020-02-28T07:54:56.880398Z",
     "start_time": "2020-02-28T07:48:42.431214Z"
    }
   },
   "outputs": [],
   "source": [
    "lda1 = models.LdaModel(corpus=corpus, num_topics=4, id2word=id2word, passes=10)"
   ]
  },
  {
   "cell_type": "code",
   "execution_count": 26,
   "metadata": {
    "ExecuteTime": {
     "end_time": "2020-02-28T07:54:56.890117Z",
     "start_time": "2020-02-28T07:54:56.882352Z"
    }
   },
   "outputs": [
    {
     "data": {
      "text/plain": [
       "[(0,\n",
       "  '0.042*\"weight\" + 0.019*\"acne\" + 0.019*\"skin\" + 0.017*\"lost\" + 0.017*\"started\" + 0.017*\"lb\" + 0.017*\"gain\" + 0.017*\"month\" + 0.015*\"not\" + 0.013*\"pound\"'),\n",
       " (1,\n",
       "  '0.040*\"period\" + 0.028*\"pill\" + 0.018*\"not\" + 0.018*\"control\" + 0.016*\"month\" + 0.016*\"no\" + 0.016*\"birth\" + 0.015*\"birth control\" + 0.014*\"got\" + 0.013*\"first\"'),\n",
       " (2,\n",
       "  '0.026*\"pain\" + 0.021*\"not\" + 0.017*\"take\" + 0.014*\"work\" + 0.014*\"time\" + 0.012*\"hour\" + 0.011*\"took\" + 0.011*\"get\" + 0.010*\"day\" + 0.010*\"year\"'),\n",
       " (3,\n",
       "  '0.038*\"effect\" + 0.037*\"side\" + 0.034*\"side effect\" + 0.019*\"year\" + 0.017*\"anxiety\" + 0.015*\"taking\" + 0.014*\"no\" + 0.014*\"feel\" + 0.013*\"not\" + 0.013*\"life\"')]"
      ]
     },
     "execution_count": 26,
     "metadata": {},
     "output_type": "execute_result"
    }
   ],
   "source": [
    "lda1.print_topics()"
   ]
  },
  {
   "cell_type": "code",
   "execution_count": 27,
   "metadata": {
    "ExecuteTime": {
     "end_time": "2020-02-28T08:17:30.396013Z",
     "start_time": "2020-02-28T08:17:30.391566Z"
    }
   },
   "outputs": [
    {
     "data": {
      "text/plain": [
       "<gensim.interfaces.TransformedCorpus at 0x2044dc53190>"
      ]
     },
     "execution_count": 27,
     "metadata": {},
     "output_type": "execute_result"
    }
   ],
   "source": [
    "all_topics = lda1.get_document_topics(corpus)\n",
    "all_topics"
   ]
  },
  {
   "cell_type": "code",
   "execution_count": 28,
   "metadata": {
    "ExecuteTime": {
     "end_time": "2020-02-28T08:17:55.757516Z",
     "start_time": "2020-02-28T08:17:55.754279Z"
    }
   },
   "outputs": [],
   "source": [
    "num_docs = len(all_topics)"
   ]
  },
  {
   "cell_type": "code",
   "execution_count": 29,
   "metadata": {
    "ExecuteTime": {
     "end_time": "2020-02-28T08:19:59.383260Z",
     "start_time": "2020-02-28T08:19:59.368603Z"
    }
   },
   "outputs": [
    {
     "ename": "ValueError",
     "evalue": "could not broadcast input array from shape (3,) into shape (4,)",
     "output_type": "error",
     "traceback": [
      "\u001b[1;31m---------------------------------------------------------------------------\u001b[0m",
      "\u001b[1;31mValueError\u001b[0m                                Traceback (most recent call last)",
      "\u001b[1;32m<ipython-input-29-6d636ffdf8c0>\u001b[0m in \u001b[0;36m<module>\u001b[1;34m\u001b[0m\n\u001b[0;32m      4\u001b[0m \u001b[1;33m\u001b[0m\u001b[0m\n\u001b[0;32m      5\u001b[0m \u001b[1;32mfor\u001b[0m \u001b[0mi\u001b[0m \u001b[1;32min\u001b[0m \u001b[0mrange\u001b[0m\u001b[1;33m(\u001b[0m\u001b[1;36m0\u001b[0m\u001b[1;33m,\u001b[0m \u001b[0mnum_docs\u001b[0m\u001b[1;33m)\u001b[0m\u001b[1;33m:\u001b[0m\u001b[1;33m\u001b[0m\u001b[1;33m\u001b[0m\u001b[0m\n\u001b[1;32m----> 6\u001b[1;33m     \u001b[0mlda_scores\u001b[0m\u001b[1;33m[\u001b[0m\u001b[0mi\u001b[0m\u001b[1;33m]\u001b[0m \u001b[1;33m=\u001b[0m \u001b[0mnp\u001b[0m\u001b[1;33m.\u001b[0m\u001b[0marray\u001b[0m\u001b[1;33m(\u001b[0m\u001b[0mall_topics\u001b[0m\u001b[1;33m[\u001b[0m\u001b[0mi\u001b[0m\u001b[1;33m]\u001b[0m\u001b[1;33m)\u001b[0m\u001b[1;33m.\u001b[0m\u001b[0mtranspose\u001b[0m\u001b[1;33m(\u001b[0m\u001b[1;33m)\u001b[0m\u001b[1;33m[\u001b[0m\u001b[1;36m1\u001b[0m\u001b[1;33m]\u001b[0m\u001b[1;33m\u001b[0m\u001b[1;33m\u001b[0m\u001b[0m\n\u001b[0m",
      "\u001b[1;31mValueError\u001b[0m: could not broadcast input array from shape (3,) into shape (4,)"
     ]
    }
   ],
   "source": [
    "num_topics=4\n",
    "\n",
    "lda_scores = np.empty([num_docs, num_topics])\n",
    "\n",
    "for i in range(0, num_docs):\n",
    "    lda_scores[i] = np.array(all_topics[i]).transpose()[1]"
   ]
  },
  {
   "cell_type": "code",
   "execution_count": null,
   "metadata": {
    "ExecuteTime": {
     "end_time": "2020-02-28T07:54:56.897224Z",
     "start_time": "2020-02-28T07:54:56.892903Z"
    }
   },
   "outputs": [],
   "source": [
    "lda_corpus1 = lda1[corpus]\n",
    "lda_corpus1"
   ]
  },
  {
   "cell_type": "code",
   "execution_count": null,
   "metadata": {
    "ExecuteTime": {
     "end_time": "2020-02-28T07:55:28.381843Z",
     "start_time": "2020-02-28T07:54:56.899724Z"
    }
   },
   "outputs": [],
   "source": [
    "lda_docs1 = [doc for doc in lda_corpus1]"
   ]
  },
  {
   "cell_type": "code",
   "execution_count": null,
   "metadata": {
    "ExecuteTime": {
     "end_time": "2020-02-28T07:55:28.390438Z",
     "start_time": "2020-02-28T07:55:28.383932Z"
    }
   },
   "outputs": [],
   "source": [
    "lda_docs1[0:5]"
   ]
  },
  {
   "cell_type": "code",
   "execution_count": null,
   "metadata": {
    "ExecuteTime": {
     "end_time": "2020-02-28T08:01:48.633158Z",
     "start_time": "2020-02-28T08:01:48.628499Z"
    }
   },
   "outputs": [],
   "source": [
    "len(lda_docs1)"
   ]
  },
  {
   "cell_type": "code",
   "execution_count": null,
   "metadata": {
    "ExecuteTime": {
     "end_time": "2020-02-28T08:59:30.767676Z",
     "start_time": "2020-02-28T08:43:36.182246Z"
    }
   },
   "outputs": [],
   "source": [
    "def dominant_topic(ldamodel, corpus, texts):\n",
    "     #Function to find the dominant topic in each review\n",
    "     sent_topics_df = pd.DataFrame() \n",
    "     # Get main topic in each review\n",
    "     for i, row in enumerate(ldamodel[corpus]):\n",
    "         row = sorted(row, key=lambda x: (x[1]), reverse=True)\n",
    "         # Get the Dominant topic, Perc Contribution and Keywords for each review\n",
    "         for j, (topic_num, prop_topic) in enumerate(row):\n",
    "             if j == 0:  # => dominant topic\n",
    "                 wp = ldamodel.show_topic(topic_num,topn=4)\n",
    "                 topic_keywords = \", \".join([word for word, prop in wp])\n",
    "                 sent_topics_df = sent_topics_df.append(pd.Series([int(topic_num), round(prop_topic,4), topic_keywords]), ignore_index=True)\n",
    "             else:\n",
    "                 break\n",
    "     sent_topics_df.columns = ['Dominant_Topic', 'Perc_Contribution', 'Topic_Keywords']\n",
    "     contents = pd.Series(texts)\n",
    "     sent_topics_df = pd.concat([sent_topics_df, contents], axis=1)\n",
    "     return(sent_topics_df)\n",
    "\n",
    "df_dominant_topic = dominant_topic(ldamodel=lda1, corpus=corpus, texts=df_train_s['review']) \n",
    "df_dominant_topic.head()"
   ]
  },
  {
   "cell_type": "code",
   "execution_count": null,
   "metadata": {
    "ExecuteTime": {
     "end_time": "2020-02-28T09:01:18.369404Z",
     "start_time": "2020-02-28T09:01:16.788524Z"
    }
   },
   "outputs": [],
   "source": [
    "#export topic keywords to csv file for later use\n",
    "export_csv = df_dominant_topic.to_csv(r'df_dominant_topic.csv', index = None, header=True)"
   ]
  },
  {
   "cell_type": "code",
   "execution_count": null,
   "metadata": {
    "ExecuteTime": {
     "end_time": "2020-02-28T05:34:18.751851Z",
     "start_time": "2020-02-28T05:34:14.781950Z"
    }
   },
   "outputs": [],
   "source": [
    "cols = [color for name, color in mcolors.TABLEAU_COLORS.items()]  # more colors: 'mcolors.XKCD_COLORS'\n",
    "\n",
    "cloud = WordCloud(stopwords=stop,\n",
    "                  background_color='white',\n",
    "                  width=2500,\n",
    "                  height=1800,\n",
    "                  max_words=10,\n",
    "                  colormap='tab10',\n",
    "                  color_func=lambda *args, **kwargs: cols[i],\n",
    "                  prefer_horizontal=1.0)\n",
    "\n",
    "topics1 = lda1.show_topics(formatted=False)\n",
    "\n",
    "fig, axes = plt.subplots(2, 2, figsize=(10,10), sharex=True, sharey=True)\n",
    "\n",
    "for i, ax in enumerate(axes.flatten()):\n",
    "    fig.add_subplot(ax)\n",
    "    topic_words1 = dict(topics1[i][1])\n",
    "    cloud.generate_from_frequencies(topic_words1, max_font_size=300)\n",
    "    plt.gca().imshow(cloud)\n",
    "    plt.gca().set_title('Topic ' + str(i), fontdict=dict(size=16))\n",
    "    plt.gca().axis('off')\n",
    "\n",
    "plt.subplots_adjust(wspace=0, hspace=0)\n",
    "plt.axis('off')\n",
    "plt.margins(x=0, y=0)\n",
    "plt.tight_layout()\n",
    "plt.show()\n",
    "\n",
    "plt.savefig(r'fig/wc_bigram_lda-4.svg')"
   ]
  },
  {
   "cell_type": "code",
   "execution_count": null,
   "metadata": {
    "ExecuteTime": {
     "end_time": "2020-02-28T05:40:20.349269Z",
     "start_time": "2020-02-28T05:34:26.758846Z"
    }
   },
   "outputs": [],
   "source": [
    "lda2 = models.LdaModel(corpus=corpus, num_topics=6, id2word=id2word, passes=10)"
   ]
  },
  {
   "cell_type": "code",
   "execution_count": null,
   "metadata": {
    "ExecuteTime": {
     "end_time": "2020-02-28T05:40:38.051941Z",
     "start_time": "2020-02-28T05:40:38.038934Z"
    }
   },
   "outputs": [],
   "source": [
    "lda2.print_topics()"
   ]
  },
  {
   "cell_type": "code",
   "execution_count": null,
   "metadata": {
    "ExecuteTime": {
     "end_time": "2020-02-28T05:40:38.661228Z",
     "start_time": "2020-02-28T05:40:38.656061Z"
    }
   },
   "outputs": [],
   "source": [
    "lda_corpus2 = lda2[corpus]\n",
    "lda_corpus2"
   ]
  },
  {
   "cell_type": "code",
   "execution_count": null,
   "metadata": {
    "ExecuteTime": {
     "end_time": "2020-02-28T05:41:07.876633Z",
     "start_time": "2020-02-28T05:40:39.317362Z"
    }
   },
   "outputs": [],
   "source": [
    "lda_docs2 = [doc for doc in lda_corpus2]"
   ]
  },
  {
   "cell_type": "code",
   "execution_count": null,
   "metadata": {
    "ExecuteTime": {
     "end_time": "2020-02-28T05:41:07.884108Z",
     "start_time": "2020-02-28T05:41:07.878983Z"
    }
   },
   "outputs": [],
   "source": [
    "lda_docs2[0:5]"
   ]
  },
  {
   "cell_type": "code",
   "execution_count": null,
   "metadata": {
    "ExecuteTime": {
     "end_time": "2020-02-28T05:41:14.227333Z",
     "start_time": "2020-02-28T05:41:07.886442Z"
    }
   },
   "outputs": [],
   "source": [
    "cols = [color for name, color in mcolors.TABLEAU_COLORS.items()]  # more colors: 'mcolors.XKCD_COLORS'\n",
    "\n",
    "cloud = WordCloud(stopwords=stop,\n",
    "                  background_color='white',\n",
    "                  width=2500,\n",
    "                  height=1800,\n",
    "                  max_words=10,\n",
    "                  colormap='tab10',\n",
    "                  color_func=lambda *args, **kwargs: cols[i],\n",
    "                  prefer_horizontal=1.0)\n",
    "\n",
    "topics2 = lda2.show_topics(formatted=False)\n",
    "\n",
    "fig, axes = plt.subplots(2, 3, figsize=(12,10), sharex=True, sharey=True)\n",
    "\n",
    "for i, ax in enumerate(axes.flatten()):\n",
    "    fig.add_subplot(ax)\n",
    "    topic_words2 = dict(topics2[i][1])\n",
    "    cloud.generate_from_frequencies(topic_words2, max_font_size=300)\n",
    "    plt.gca().imshow(cloud)\n",
    "    plt.gca().set_title('Topic ' + str(i), fontdict=dict(size=16))\n",
    "    plt.gca().axis('off')\n",
    "\n",
    "plt.subplots_adjust(wspace=0, hspace=0)\n",
    "plt.axis('off')\n",
    "plt.margins(x=0, y=0)\n",
    "plt.tight_layout()\n",
    "plt.show()\n",
    "\n",
    "plt.savefig(r'fig/wc_bigram_lda-6.svg')"
   ]
  },
  {
   "cell_type": "code",
   "execution_count": null,
   "metadata": {},
   "outputs": [],
   "source": []
  },
  {
   "cell_type": "code",
   "execution_count": null,
   "metadata": {},
   "outputs": [],
   "source": []
  },
  {
   "cell_type": "code",
   "execution_count": null,
   "metadata": {},
   "outputs": [],
   "source": []
  },
  {
   "cell_type": "code",
   "execution_count": null,
   "metadata": {},
   "outputs": [],
   "source": []
  }
 ],
 "metadata": {
  "kernelspec": {
   "display_name": "Python 3",
   "language": "python",
   "name": "python3"
  },
  "language_info": {
   "codemirror_mode": {
    "name": "ipython",
    "version": 3
   },
   "file_extension": ".py",
   "mimetype": "text/x-python",
   "name": "python",
   "nbconvert_exporter": "python",
   "pygments_lexer": "ipython3",
   "version": "3.8.8"
  },
  "latex_envs": {
   "LaTeX_envs_menu_present": true,
   "autoclose": false,
   "autocomplete": true,
   "bibliofile": "biblio.bib",
   "cite_by": "apalike",
   "current_citInitial": 1,
   "eqLabelWithNumbers": true,
   "eqNumInitial": 1,
   "hotkeys": {
    "equation": "Ctrl-E",
    "itemize": "Ctrl-I"
   },
   "labels_anchors": false,
   "latex_user_defs": false,
   "report_style_numbering": false,
   "user_envs_cfg": false
  }
 },
 "nbformat": 4,
 "nbformat_minor": 2
}
