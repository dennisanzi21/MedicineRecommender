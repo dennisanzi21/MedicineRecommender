{
 "cells": [
  {
   "cell_type": "markdown",
   "id": "c2449a52",
   "metadata": {},
   "source": [
    "# JD Drug Recommendation System "
   ]
  },
  {
   "cell_type": "markdown",
   "id": "0cc180a8",
   "metadata": {},
   "source": [
    "This webpage is build with binder to showcase JD Drug Recommendation System only."
   ]
  },
  {
   "cell_type": "code",
   "execution_count": 29,
   "id": "cd9bceb0",
   "metadata": {},
   "outputs": [],
   "source": [
    "# Pandas is a data analysis tool that allows importing data from other file formats\n",
    "# Numpy facilitate advanced mathematical operation on large numbers of data\n",
    "# Pyplot is a module in matplotlib that manipulate elements of a figure, create figure\n",
    "# Seaborn is used for making statistical graphics.\n",
    "# plot_decision_regions is a function for plotting decision regions of classifiers in 1 or 2 dimensions\n",
    "import pandas as pd\n",
    "import numpy as np\n",
    "import matplotlib.pyplot as plt\n",
    "import seaborn as sns\n",
    "from mlxtend.plotting import plot_decision_regions\n",
    "\n",
    "# ggplot is used to map data to visual objects that make up the visualization\n",
    "# we specified the figure format to be svg format\n",
    "# we use matplotlib to renders the figure inline in this jupyter notebook\n",
    "plt.style.use('ggplot')\n",
    "%config InlineBackend.figure_format = 'svg'\n",
    "%matplotlib inline\n",
    "np.set_printoptions(suppress=True) # Suppress scientific notation where possible\n",
    "\n",
    "from sklearn import naive_bayes\n",
    "from sklearn.linear_model import LogisticRegression\n",
    "from sklearn.feature_extraction.text import CountVectorizer\n",
    "from sklearn.naive_bayes import GaussianNB\n",
    "from sklearn.metrics import precision_score, recall_score, precision_recall_curve,f1_score, fbeta_score\n",
    "from sklearn.preprocessing import StandardScaler\n",
    "from sklearn.metrics import accuracy_score, confusion_matrix, roc_curve, roc_auc_score, make_scorer\n",
    "from sklearn.datasets import fetch_20newsgroups\n",
    "import gensim\n",
    "# !python -m pip install -U gensim to install automatically\n",
    "# pip install python-Levenshtein  to install levenshtein\n",
    "\n",
    "# we start reading dataset from a csv file\n",
    "df_train = pd.read_csv(r'df_train.csv')\n",
    "df_test = pd.read_csv(r'df_test.csv')\n",
    "# To drops all missing rows with missing values\n",
    "df_train.dropna(inplace=True)\n",
    "df_test.dropna(inplace=True)\n",
    "\n",
    "# Remove 4-7 star reviews\n",
    "df_train2 = df_train.drop(df_train[(df_train['rating'] > 4.0) & (df_train['rating'] < 6.0)].index)\n",
    "\n",
    "# Set 8-10 star reviews to positive(1), the rest to negative(0)\n",
    "df_train2['sentiment'] = np.where(df_train2['rating'] >= 7, '1', '0')\n",
    "\n",
    "# Remove 4-7 star reviews\n",
    "df_test2 = df_test.drop(df_test[(df_test['rating'] > 4.0) & (df_test['rating'] < 6.0)].index)\n",
    "\n",
    "# Set 8-10 star reviews to positive(1), the rest to negative(0)\n",
    "df_test2['sentiment'] = np.where(df_test2['rating'] >= 7, '1', '0')"
   ]
  },
  {
   "cell_type": "markdown",
   "id": "8c8406c9",
   "metadata": {},
   "source": [
    "# Various Approach to Recommend Drugs"
   ]
  },
  {
   "cell_type": "code",
   "execution_count": 30,
   "id": "99c8e549",
   "metadata": {},
   "outputs": [],
   "source": [
    "# initialise prototype\n",
    "import warnings\n",
    "warnings.filterwarnings('ignore')\n",
    "\n",
    "import ipywidgets as widgets\n",
    "from IPython.display import display, clear_output\n",
    "\n",
    "\n",
    "# !jupyter nbextension enable --py widgetsnbextension --sys-prefix\n",
    "# !jupyter serverextension enable voila --sys-prefix"
   ]
  },
  {
   "cell_type": "code",
   "execution_count": 31,
   "id": "915935ad",
   "metadata": {},
   "outputs": [],
   "source": [
    "# Image Widget\n",
    "\n",
    "file = open(\"logo.jpg\", \"rb\")\n",
    "image = file.read()\n",
    "\n",
    "image_headline = widgets.Image(\n",
    "                    value=image,\n",
    "                    format='jpg',\n",
    "                    width='200'\n",
    "                )\n",
    "\n",
    "label_headline = widgets.Label(\n",
    "                    value='JD Drug Recommender Prototype',\n",
    "                    style={'description_width': 'initial'}\n",
    "                )\n",
    "\n",
    "vbox_headline = widgets.VBox([image_headline, label_headline])"
   ]
  },
  {
   "cell_type": "markdown",
   "id": "909275ca",
   "metadata": {},
   "source": [
    "## A. Collobolative Recommendation Approach - Method I(based on similar condition)"
   ]
  },
  {
   "cell_type": "code",
   "execution_count": 32,
   "id": "93fdf05c",
   "metadata": {
    "scrolled": true
   },
   "outputs": [],
   "source": [
    "# Sorting values according to the rating \n",
    "drugmat = df_train2.pivot_table(index ='drugName',columns ='condition', values ='rating') "
   ]
  },
  {
   "cell_type": "code",
   "execution_count": 33,
   "id": "1e3102dd",
   "metadata": {},
   "outputs": [],
   "source": [
    "# to test the drug matrix\n",
    "user_input = widgets.Text(placeholder=\"Enter a condition(suggested 'Anxiety' for obvious results): \")"
   ]
  },
  {
   "cell_type": "code",
   "execution_count": 34,
   "id": "de7b2595",
   "metadata": {},
   "outputs": [],
   "source": [
    "# button send\n",
    "\n",
    "button_send = widgets.Button(\n",
    "                description='View Result',\n",
    "                tooltip='View',\n",
    "                style={'description_width': 'initial'}\n",
    "            )\n",
    "\n",
    "output = widgets.Output()\n",
    "\n",
    "def on_button_clicked(event):\n",
    "    with output:\n",
    "        clear_output()\n",
    "        try:\n",
    "            drug_user_ratings = drugmat.sort_values(user_input.value, ascending = False).head()\n",
    "            similar_to_condition = drug_user_ratings.corrwith(drugmat) \n",
    "            corr_Condition = pd.DataFrame(similar_to_condition, columns =['Correlation']) \n",
    "            corr_Condition.dropna(inplace = True) \n",
    "            print(f\"The condition input is {user_input.value}.\")\n",
    "            print(\"\")\n",
    "            print(\"Similar Condition:\")\n",
    "            print(corr_Condition.head(20) )\n",
    "            print(\"\")\n",
    "            print(\"Recommended Drug As Below:\")\n",
    "            print(drug_user_ratings[user_input.value][:10])\n",
    "            print(\"\")\n",
    "        except Exception as e:\n",
    "            print(\"Not recommendation available...\")\n",
    "\n",
    "button_send.on_click(on_button_clicked)\n",
    "\n",
    "vbox_result = widgets.VBox([button_send, output])"
   ]
  },
  {
   "cell_type": "code",
   "execution_count": 35,
   "id": "a5d6c880",
   "metadata": {},
   "outputs": [],
   "source": [
    "# stacked right hand side\n",
    "text_0 = widgets.HTML(value=\"<h1>Welcome to JD System!</h1>\")\n",
    "text_1 = widgets.HTML(value=\"<h3>Recommend drug based on similar condition of </h3>\")\n",
    "\n",
    "vbox_text = widgets.VBox([text_0, text_1, user_input, vbox_result])"
   ]
  },
  {
   "cell_type": "code",
   "execution_count": 36,
   "id": "8e711c1f",
   "metadata": {},
   "outputs": [
    {
     "data": {
      "application/vnd.jupyter.widget-view+json": {
       "model_id": "1577a54e83564c539c93fcface0b7ad3",
       "version_major": 2,
       "version_minor": 0
      },
      "text/plain": [
       "HBox(children=(VBox(children=(Image(value=b'\\xff\\xd8\\xff\\xe0\\x00\\x10JFIF\\x00\\x01\\x01\\x01\\x00`\\x00`\\x00\\x00\\xff…"
      ]
     },
     "metadata": {},
     "output_type": "display_data"
    }
   ],
   "source": [
    "page = widgets.HBox([vbox_headline, vbox_text])\n",
    "display(page)"
   ]
  },
  {
   "cell_type": "markdown",
   "id": "af6818ba",
   "metadata": {},
   "source": [
    "## B. Collobolative Recommendation Approach - Method II(based on similar drug)"
   ]
  },
  {
   "cell_type": "code",
   "execution_count": 37,
   "id": "8c91b595",
   "metadata": {},
   "outputs": [],
   "source": [
    "# Sorting values according to the rating \n",
    "drugmat2 = df_train2.pivot_table(index ='condition',columns ='drugName', values ='rating') "
   ]
  },
  {
   "cell_type": "code",
   "execution_count": 38,
   "id": "f2859fe8",
   "metadata": {},
   "outputs": [],
   "source": [
    "# to test the drug matrix\n",
    "user_input_2 = widgets.Text(placeholder=\"Enter a drug(suggested 'Abilify' for obvious results): \")"
   ]
  },
  {
   "cell_type": "code",
   "execution_count": 39,
   "id": "85b2f517",
   "metadata": {},
   "outputs": [],
   "source": [
    "# button send\n",
    "button_send2 = widgets.Button(\n",
    "                description='View Result',\n",
    "                tooltip='View',\n",
    "                style={'description_width': 'initial'}\n",
    "            )\n",
    "\n",
    "output2 = widgets.Output()\n",
    "\n",
    "def on_button_clicked2(event):\n",
    "    with output2:\n",
    "        clear_output()\n",
    "        try:\n",
    "            drug_user_ratings_2 = drugmat2.sort_values(user_input_2.value, ascending = False).head()\n",
    "            similar_drug = drug_user_ratings_2.corrwith(drugmat2) \n",
    "            corr_Drug = pd.DataFrame(similar_drug, columns =['Correlation']) \n",
    "            corr_Drug.dropna(inplace = True) \n",
    "            print(f\"The drug input is {user_input_2.value}.\")\n",
    "            print(\"\")\n",
    "            print(\"Recommended Drug As Below:\")\n",
    "            print(corr_Drug.head(20) )\n",
    "            print(\"\")\n",
    "        except Exception as e:\n",
    "            print(\"Not recommendation available...\")\n",
    "\n",
    "button_send2.on_click(on_button_clicked2)\n",
    "\n",
    "vbox_result2 = widgets.VBox([button_send2, output2])"
   ]
  },
  {
   "cell_type": "code",
   "execution_count": 40,
   "id": "14718e92",
   "metadata": {},
   "outputs": [],
   "source": [
    "# stacked right hand side\n",
    "text_0 = widgets.HTML(value=\"<h1>Welcome to JD System!</h1>\")\n",
    "text_2 = widgets.HTML(value=\"<h3>Recommend drug based on similar drug of </h3>\")\n",
    "\n",
    "vbox_text2 = widgets.VBox([text_0, text_2, user_input_2, vbox_result2])"
   ]
  },
  {
   "cell_type": "code",
   "execution_count": 41,
   "id": "72fa57ba",
   "metadata": {},
   "outputs": [
    {
     "data": {
      "application/vnd.jupyter.widget-view+json": {
       "model_id": "d408177def0f43e29ea44c4f4d484d53",
       "version_major": 2,
       "version_minor": 0
      },
      "text/plain": [
       "HBox(children=(VBox(children=(Image(value=b'\\xff\\xd8\\xff\\xe0\\x00\\x10JFIF\\x00\\x01\\x01\\x01\\x00`\\x00`\\x00\\x00\\xff…"
      ]
     },
     "metadata": {},
     "output_type": "display_data"
    }
   ],
   "source": [
    "page2 = widgets.HBox([vbox_headline, vbox_text2])\n",
    "display(page2)"
   ]
  },
  {
   "cell_type": "markdown",
   "id": "4a24564a",
   "metadata": {},
   "source": [
    "## C. Simplest Recommendation Approach - Method I (based on rating)"
   ]
  },
  {
   "cell_type": "code",
   "execution_count": 42,
   "id": "986dbf92",
   "metadata": {},
   "outputs": [],
   "source": [
    "# to test the drug matrix\n",
    "user_input_3 = widgets.Text(placeholder=\"Enter a condition: \")"
   ]
  },
  {
   "cell_type": "code",
   "execution_count": 43,
   "id": "2dc46ffd",
   "metadata": {},
   "outputs": [],
   "source": [
    "# button send\n",
    "button_send3 = widgets.Button(\n",
    "                description='View Result',\n",
    "                tooltip='View',\n",
    "                style={'description_width': 'initial'}\n",
    "            )\n",
    "\n",
    "output3 = widgets.Output()\n",
    "\n",
    "def on_button_clicked3(event):\n",
    "    with output3:\n",
    "        clear_output()\n",
    "        try:\n",
    "            df_condition_1 = df_train.loc[(df_train[\"condition\"] == user_input_3.value)]\n",
    "            drug_based_on_condition = df_condition_1.groupby(['drugName']+['condition'])['rating'].value_counts().sort_values(ascending=False)\n",
    "            df_condition_2 = df_condition_1.sort_values('rating', ascending=False)\n",
    "\n",
    "            print(f\"The input is {user_input_3.value}.\")\n",
    "            print(\"\")\n",
    "            print(\"Recommended Drug As Below:\")\n",
    "            print(drug_based_on_condition[:10])\n",
    "            print(\"\")\n",
    "            print(f\"Top 5 Drug Recommendation For {user_input_3.value}.\")\n",
    "            print(df_condition_2[['drugName', 'condition', 'rating']].head(5))\n",
    "            print(\"\")\n",
    "        except Exception as e:\n",
    "            print(\"Not recommendation available...\")\n",
    "\n",
    "button_send3.on_click(on_button_clicked3)\n",
    "\n",
    "vbox_result3 = widgets.VBox([button_send3, output3])"
   ]
  },
  {
   "cell_type": "code",
   "execution_count": 44,
   "id": "c1a0abca",
   "metadata": {},
   "outputs": [],
   "source": [
    "# stacked right hand side\n",
    "text_0 = widgets.HTML(value=\"<h1>Welcome to JD System!</h1>\")\n",
    "text_3 = widgets.HTML(value=\"<h3>Recommend drug based on rating of drug on medicating </h3>\")\n",
    "\n",
    "vbox_text3 = widgets.VBox([text_0, text_3, user_input_3, vbox_result3])"
   ]
  },
  {
   "cell_type": "code",
   "execution_count": 45,
   "id": "27b34680",
   "metadata": {},
   "outputs": [
    {
     "data": {
      "application/vnd.jupyter.widget-view+json": {
       "model_id": "00586df05fb6433c9fad7d389dcafe1a",
       "version_major": 2,
       "version_minor": 0
      },
      "text/plain": [
       "HBox(children=(VBox(children=(Image(value=b'\\xff\\xd8\\xff\\xe0\\x00\\x10JFIF\\x00\\x01\\x01\\x01\\x00`\\x00`\\x00\\x00\\xff…"
      ]
     },
     "metadata": {},
     "output_type": "display_data"
    }
   ],
   "source": [
    "page3 = widgets.HBox([vbox_headline, vbox_text3])\n",
    "display(page3)"
   ]
  },
  {
   "cell_type": "markdown",
   "id": "b1d77204",
   "metadata": {},
   "source": [
    "## D. Simplest Recommendation Approach - Method II (based on IMDB score)"
   ]
  },
  {
   "cell_type": "code",
   "execution_count": 46,
   "id": "02745c7f",
   "metadata": {},
   "outputs": [],
   "source": [
    "# to test the drug matrix\n",
    "user_input_4 = widgets.Text(placeholder=\"Enter a condition: \")"
   ]
  },
  {
   "cell_type": "code",
   "execution_count": 47,
   "id": "ab9937d5",
   "metadata": {},
   "outputs": [],
   "source": [
    "# Declaration\n",
    "m = df_train['rating'].quantile(0.90) \n",
    "C = df_train['rating'].mean()\n",
    "\n",
    "# Function \n",
    "def weighted_rating(df_train, m=m, C=C):\n",
    "    v = df_train['rating']\n",
    "    R = df_train['rating']\n",
    "    # Calculation based on the IMDB formula\n",
    "    return (v/(v+m) * R) + (m/(m+v) * C)\n",
    "\n",
    "# button send\n",
    "button_send4 = widgets.Button(\n",
    "                description='View Result',\n",
    "                tooltip='View',\n",
    "                style={'description_width': 'initial'}\n",
    "            )\n",
    "\n",
    "output4 = widgets.Output()\n",
    "\n",
    "def on_button_clicked4(event):\n",
    "    with output4:\n",
    "        clear_output()\n",
    "        \n",
    "        try:\n",
    "            pre_condition = df_train  \n",
    "            pre_condition['score'] = pre_condition.apply(weighted_rating, axis=1)\n",
    "            pre_condition['score'].head()\n",
    "            df_condition_1 = pre_condition.loc[(df_train[\"condition\"] == user_input_4.value)]\n",
    "            drug_based_on_condition = df_condition_1.groupby(['drugName']+['condition']+['rating']+['score'])['score'].value_counts().sort_values(ascending=False)\n",
    "            df_condition_2 = df_condition_1.sort_values('score', ascending=False)\n",
    "\n",
    "            print(f\"The input is {user_input_4.value}.\")\n",
    "            print(\"\")\n",
    "            print(\"Recommended Drug As Below:\")\n",
    "            print(drug_based_on_condition[:10])\n",
    "            print(\"\")\n",
    "            print(f\"Top 5 Drug Recommendation For {user_input_4.value}.\")\n",
    "            print(df_condition_2[['drugName', 'condition', 'rating', 'score']].head(5))\n",
    "            print(\"\")\n",
    "        except Exception as e:\n",
    "            print(\"Not recommendation available...\")\n",
    "\n",
    "button_send4.on_click(on_button_clicked4)\n",
    "\n",
    "vbox_result4 = widgets.VBox([button_send4, output4])"
   ]
  },
  {
   "cell_type": "code",
   "execution_count": 48,
   "id": "b3e15c20",
   "metadata": {},
   "outputs": [],
   "source": [
    "# stacked right hand side\n",
    "text_0 = widgets.HTML(value=\"<h1>Welcome to JD System!</h1>\")\n",
    "text_4 = widgets.HTML(value=\"<h3>Recommend drug based on IMDB score of drug on medicating </h3>\")\n",
    "\n",
    "vbox_text4 = widgets.VBox([text_0, text_4, user_input_4, vbox_result4])"
   ]
  },
  {
   "cell_type": "code",
   "execution_count": 49,
   "id": "c8734e1d",
   "metadata": {},
   "outputs": [
    {
     "data": {
      "application/vnd.jupyter.widget-view+json": {
       "model_id": "ffefead1052d477e8d3ca97a2be80d5b",
       "version_major": 2,
       "version_minor": 0
      },
      "text/plain": [
       "HBox(children=(VBox(children=(Image(value=b'\\xff\\xd8\\xff\\xe0\\x00\\x10JFIF\\x00\\x01\\x01\\x01\\x00`\\x00`\\x00\\x00\\xff…"
      ]
     },
     "metadata": {},
     "output_type": "display_data"
    }
   ],
   "source": [
    "page4 = widgets.HBox([vbox_headline, vbox_text4])\n",
    "display(page4)"
   ]
  },
  {
   "cell_type": "markdown",
   "id": "b613f348",
   "metadata": {},
   "source": [
    "## E. Content-based Recommendation Approach - Method I (based on dominant topic)"
   ]
  },
  {
   "cell_type": "code",
   "execution_count": 50,
   "id": "7d5c72da",
   "metadata": {},
   "outputs": [],
   "source": [
    "# # Import\n",
    "# df_train = pd.read_csv(r'df_train.csv')\n",
    "# df_topic = pd.read_csv(r'df_dominant_topic.csv')\n",
    "# df = pd.concat([df_train, df_topic], axis=1, join='inner')\n",
    "# del df['review']\n",
    "# drug_per_condition = df.groupby(['condition'])['drugName'].nunique().sort_values(ascending=False)\n",
    "# condition_1=drug_per_condition[:10].keys()\n",
    "# df_top_10=df[df['condition'].isin(condition_1)]\n",
    "# top_10=df_top_10.groupby(['condition']).Dominant_Topic.value_counts(normalize=True)\n",
    "# top_10"
   ]
  },
  {
   "cell_type": "code",
   "execution_count": 51,
   "id": "4be0f2b7",
   "metadata": {},
   "outputs": [],
   "source": [
    "# to test the drug matrix\n",
    "user_input_5 = widgets.Text(placeholder=\"Enter a condition (e.g. Acne): \")"
   ]
  },
  {
   "cell_type": "code",
   "execution_count": 52,
   "id": "0ccee2a4",
   "metadata": {},
   "outputs": [],
   "source": [
    "# button send\n",
    "button_send5 = widgets.Button(\n",
    "                description='View Result',\n",
    "                tooltip='View',\n",
    "                style={'description_width': 'initial'}\n",
    "            )\n",
    "\n",
    "output5 = widgets.Output()\n",
    "\n",
    "def on_button_clicked5(event):\n",
    "    with output5:\n",
    "        clear_output()\n",
    "        try:\n",
    "            result=df_top_10.loc[df_top_10['condition'] == user_input_5.value]\n",
    "            result = result.groupby(['drugName'])['Perc_Contribution'].nunique().sort_values(ascending=False)\n",
    "            print(f\"The input is {user_input_5.value}.\")\n",
    "            print(\"\")\n",
    "            print(\"Recommended Drug As Below:\")\n",
    "            print(result[:3])\n",
    "            print(\"\")\n",
    "        except Exception as e:\n",
    "            print(\"Not recommendation available...\")\n",
    "        \n",
    "button_send5.on_click(on_button_clicked5)\n",
    "\n",
    "vbox_result5 = widgets.VBox([button_send5, output5])"
   ]
  },
  {
   "cell_type": "code",
   "execution_count": 53,
   "id": "7fd27e0a",
   "metadata": {},
   "outputs": [],
   "source": [
    "# stacked right hand side\n",
    "text_0 = widgets.HTML(value=\"<h1>Welcome to JD System!</h1>\")\n",
    "text_5 = widgets.HTML(value=\"<h3>Recommend drug based on dominant topic of </h3>\")\n",
    "\n",
    "vbox_text5 = widgets.VBox([text_0, text_5, user_input_5, vbox_result5])"
   ]
  },
  {
   "cell_type": "code",
   "execution_count": 54,
   "id": "c91d4f30",
   "metadata": {},
   "outputs": [
    {
     "data": {
      "application/vnd.jupyter.widget-view+json": {
       "model_id": "65b1cc2494ac423cb5a31c76a245092f",
       "version_major": 2,
       "version_minor": 0
      },
      "text/plain": [
       "HBox(children=(VBox(children=(Image(value=b'\\xff\\xd8\\xff\\xe0\\x00\\x10JFIF\\x00\\x01\\x01\\x01\\x00`\\x00`\\x00\\x00\\xff…"
      ]
     },
     "metadata": {},
     "output_type": "display_data"
    }
   ],
   "source": [
    "page5 = widgets.HBox([vbox_headline, vbox_text5])\n",
    "display(page5)"
   ]
  },
  {
   "cell_type": "code",
   "execution_count": 55,
   "id": "d222fdac",
   "metadata": {},
   "outputs": [],
   "source": [
    "# to remove not needed requirements\n",
    "#!pip list --format=freeze > requirements.txt"
   ]
  },
  {
   "cell_type": "code",
   "execution_count": null,
   "id": "5a447c62",
   "metadata": {},
   "outputs": [],
   "source": []
  }
 ],
 "metadata": {
  "kernelspec": {
   "display_name": "Python 3",
   "language": "python",
   "name": "python3"
  },
  "language_info": {
   "codemirror_mode": {
    "name": "ipython",
    "version": 3
   },
   "file_extension": ".py",
   "mimetype": "text/x-python",
   "name": "python",
   "nbconvert_exporter": "python",
   "pygments_lexer": "ipython3",
   "version": "3.8.8"
  }
 },
 "nbformat": 4,
 "nbformat_minor": 5
}
